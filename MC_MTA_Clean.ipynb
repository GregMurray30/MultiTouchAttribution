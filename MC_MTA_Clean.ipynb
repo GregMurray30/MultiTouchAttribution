{
 
  {
   "cell_type": "markdown",
   "metadata": {},
   "source": [
    "## Libraries"
   ]
  },
  {
   "cell_type": "code",
   "execution_count": 538,
   "metadata": {},
   "outputs": [],
   "source": [
    "from copy import copy\n",
    "import numpy as np \n",
    "from numpy import exp, log\n",
    "import pandas as pd \n",
    "import os\n",
    "\n",
    "import tensorflow as tf\n",
    "import keras\n",
    "from keras.layers import Embedding, Dense, Concatenate, Flatten, Input, Reshape, AdditiveAttention\n",
    "from keras.models import Sequential\n",
    "from keras.callbacks import EarlyStopping\n",
    "from keras.utils import to_categorical\n",
    "from keras.losses import categorical_crossentropy\n",
    "from keras.optimizers import Adam\n",
    "from sklearn.model_selection import train_test_split\n",
    "from sklearn.metrics import accuracy_score,confusion_matrix,classification_report,f1_score\n",
    "import matplotlib.pyplot as plt\n",
    "import warnings\n",
    "warnings.filterwarnings(\"ignore\")\n",
    "#pd.set_option('display.max_colwidth',100)\n",
    "\n",
    "\n",
    "pd.set_option('display.max_colwidth', -1)"
   ]
  },
  {
   "cell_type": "markdown",
   "metadata": {},
   "source": [
    " "
   ]
  },
  {
   "cell_type": "markdown",
   "metadata": {},
   "source": [
    " "
   ]
  },
  {
   "cell_type": "markdown",
   "metadata": {},
   "source": [
    "# Simulation Data"
   ]
  },
  {
   "cell_type": "markdown",
   "metadata": {},
   "source": [
    "### Simulate inputs for 3 channels, constant 2 time steps, 100K observations"
   ]
  },
  {
   "cell_type": "code",
   "execution_count": 4,
   "metadata": {},
   "outputs": [],
   "source": [
    "channels = ['facebook', 'google', 'snapchat']\n",
    "num_chnls = len(channels)\n",
    "N = 100000\n",
    "\n",
    "np.random.seed(498)\n",
    "df = pd.DataFrame({'t1':np.random.uniform(-.5,num_chnls-.5,N), 't2':np.random.uniform(0,num_chnls-1,N)})\n",
    "\n",
    "df['t1'] = df['t1'].apply(lambda x: int(round(x)))\n",
    "df['t2'] = df['t2'].apply(lambda x: int(round(x)))\n",
    "\n",
    "np.random.seed(1)\n",
    "df['gap1'] = np.random.gamma(2, 2, N)\n",
    "np.random.seed(3)\n",
    "df['gender'] = np.random.binomial(1, .4, N)\n"
   ]
  },
  {
   "cell_type": "markdown",
   "metadata": {},
   "source": [
    "### Parameter Assignment"
   ]
  },
  {
   "cell_type": "code",
   "execution_count": 574,
   "metadata": {},
   "outputs": [],
   "source": [
    "\n",
    "v0 = -3 #intercept, negative since most people don't convert\n",
    "beta_g0 = 1.7 #google effect when it is first time step is stronger than otherwise\n",
    "beta_g1 = .8 #google effect when it is second time step\n",
    "beta_f0 = .9 #facebook effect when it is first time step \n",
    "beta_f1 = 1.8 #facebook effect when it is second time step\n",
    "beta_s0 = 1.4 #snapchat effect when it is first time step\n",
    "beta_s1 = 1.5 #snapchat effect when it is first time step\n",
    "beta_last_tch = 1.5 #effect boosted when channel is last touched, constant for all channels\n",
    "beta_gender = .4 #effect for gender \n",
    "alpha = -.1 #decay effect for gap between time steps, constant for all channels\n",
    "\n",
    "#Error term\n",
    "#np.random.seed(123)\n",
    "epsilon = np.random.normal(0, 1, len(df))"
   ]
  },
  {
   "cell_type": "markdown",
   "metadata": {},
   "source": [
    "\n",
    "### Logistic Data Generating Function"
   ]
  },
  {
   "cell_type": "code",
   "execution_count": 575,
   "metadata": {},
   "outputs": [],
   "source": [
    "\n",
    "y = v0 + beta_f0*(df['t1']==0)*df['gap1'].apply(lambda x: x**alpha) + beta_f1*(df['t2']==0)*beta_last_tch +\\\n",
    "beta_g0*(df['t1']==1)*df['gap1'].apply(lambda x: x**alpha) + beta_g1*(df['t2']==1) +\\\n",
    "beta_s0*(df['t1']==2)*df['gap1'].apply(lambda x: x**alpha) + beta_s1*(df['t2']==2)*beta_last_tch +\\\n",
    "beta_gender*df['gender']\\\n",
    "+ epsilon\n",
    "\n",
    "z = 1/(1+exp(-y))"
   ]
  },
  {
   "cell_type": "code",
   "execution_count": 576,
   "metadata": {},
   "outputs": [],
   "source": [
    "df['y'] = y \n",
    "df['z'] = z \n",
    "df['epsilon'] = epsilon\n",
    "\n",
    "# Conversion for only top 10% of users \n",
    "df['conversion'] = df['z']>=np.quantile(df['z'], .9)\n",
    "df['conversion']= df['conversion'].astype(int)\n"
   ]
  },
  {
   "cell_type": "markdown",
   "metadata": {},
   "source": [
    "#### Distribution of P(conversion) and **conversion**"
   ]
  },
  {
   "cell_type": "code",
   "execution_count": 577,
   "metadata": {},
   "outputs": [
    {
     "data": {
      "text/plain": [
       "(array([ 5857., 10908., 11439., 11191., 10840., 10800., 11064., 11252.,\n",
       "        10831.,  5818.]),\n",
       " array([0.00672275, 0.10556201, 0.20440126, 0.30324052, 0.40207977,\n",
       "        0.50091903, 0.59975828, 0.69859753, 0.79743679, 0.89627604,\n",
       "        0.9951153 ]),\n",
       " <a list of 10 Patch objects>)"
      ]
     },
     "execution_count": 577,
     "metadata": {},
     "output_type": "execute_result"
    },
    {
     "data": {
      "image/png": "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\n",
      "text/plain": [
       "<Figure size 432x288 with 1 Axes>"
      ]
     },
     "metadata": {
      "needs_background": "light"
     },
     "output_type": "display_data"
    }
   ],
   "source": [
    "plt.hist(df['z'])\n"
   ]
  },
  {
   "cell_type": "code",
   "execution_count": 578,
   "metadata": {},
   "outputs": [
    {
     "data": {
      "text/plain": [
       "(array([90000.,     0.,     0.,     0.,     0.,     0.,     0.,     0.,\n",
       "            0., 10000.]),\n",
       " array([0. , 0.1, 0.2, 0.3, 0.4, 0.5, 0.6, 0.7, 0.8, 0.9, 1. ]),\n",
       " <a list of 10 Patch objects>)"
      ]
     },
     "execution_count": 578,
     "metadata": {},
     "output_type": "execute_result"
    },
    {
     "data": {
      "image/png": "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\n",
      "text/plain": [
       "<Figure size 432x288 with 1 Axes>"
      ]
     },
     "metadata": {
      "needs_background": "light"
     },
     "output_type": "display_data"
    }
   ],
   "source": [
    "plt.hist(df['conversion'])\n"
   ]
  },
  {
   "cell_type": "markdown",
   "metadata": {},
   "source": [
    "#### Create columns for the calculated contribution of each channel"
   ]
  },
  {
   "cell_type": "code",
   "execution_count": 579,
   "metadata": {},
   "outputs": [],
   "source": [
    "\n",
    "df['cont_unscaled_fb'] = beta_f0*(df['t1']==0)*df['gap1'].apply(lambda x: x**alpha) + beta_f1*(df['t2']==0)*beta_last_tch\n",
    "\n",
    "df['cont_unscaled_gg'] = beta_g0*(df['t1']==1)*df['gap1'].apply(lambda x: x**alpha) + beta_g1*(df['t2']==1) \n",
    "    \n",
    "df['cont_unscaled_sp'] = beta_s0*(df['t1']==2)*df['gap1'].apply(lambda x: x**alpha) + beta_s1*(df['t2']==2)*beta_last_tch\n",
    "\n",
    "df['cont_fb'] = df['cont_unscaled_fb']/(df['cont_unscaled_fb'] + df['cont_unscaled_gg'] + df['cont_unscaled_sp'])\n",
    "df['cont_gg'] = df['cont_unscaled_gg']/(df['cont_unscaled_fb'] + df['cont_unscaled_gg'] + df['cont_unscaled_sp'])\n",
    "df['cont_sp'] = df['cont_unscaled_sp']/(df['cont_unscaled_fb'] + df['cont_unscaled_gg'] + df['cont_unscaled_sp'])\n"
   ]
  },
  {
   "cell_type": "markdown",
   "metadata": {},
   "source": [
    "#### View of sample of the dataframe"
   ]
  },
  {
   "cell_type": "code",
   "execution_count": 580,
   "metadata": {
    "scrolled": true
   },
   "outputs": [
    {
     "data": {
      "text/html": [
       "<div>\n",
       "<style scoped>\n",
       "    .dataframe tbody tr th:only-of-type {\n",
       "        vertical-align: middle;\n",
       "    }\n",
       "\n",
       "    .dataframe tbody tr th {\n",
       "        vertical-align: top;\n",
       "    }\n",
       "\n",
       "    .dataframe thead th {\n",
       "        text-align: right;\n",
       "    }\n",
       "</style>\n",
       "<table border=\"1\" class=\"dataframe\">\n",
       "  <thead>\n",
       "    <tr style=\"text-align: right;\">\n",
       "      <th></th>\n",
       "      <th>t1</th>\n",
       "      <th>t2</th>\n",
       "      <th>gap1</th>\n",
       "      <th>gender</th>\n",
       "      <th>y</th>\n",
       "      <th>z</th>\n",
       "      <th>epsilon</th>\n",
       "      <th>conversion</th>\n",
       "      <th>cont_unscaled_fb</th>\n",
       "      <th>cont_unscaled_gg</th>\n",
       "      <th>cont_unscaled_sp</th>\n",
       "      <th>cont_fb</th>\n",
       "      <th>cont_gg</th>\n",
       "      <th>cont_sp</th>\n",
       "    </tr>\n",
       "  </thead>\n",
       "  <tbody>\n",
       "    <tr>\n",
       "      <th>68238</th>\n",
       "      <td>0</td>\n",
       "      <td>1</td>\n",
       "      <td>0.813115</td>\n",
       "      <td>1</td>\n",
       "      <td>-2.303631</td>\n",
       "      <td>0.090823</td>\n",
       "      <td>-1.422445</td>\n",
       "      <td>0</td>\n",
       "      <td>0.918813</td>\n",
       "      <td>0.800000</td>\n",
       "      <td>0.000000</td>\n",
       "      <td>0.534563</td>\n",
       "      <td>0.465437</td>\n",
       "      <td>0.000000</td>\n",
       "    </tr>\n",
       "    <tr>\n",
       "      <th>95849</th>\n",
       "      <td>2</td>\n",
       "      <td>1</td>\n",
       "      <td>2.393590</td>\n",
       "      <td>1</td>\n",
       "      <td>0.364525</td>\n",
       "      <td>0.590135</td>\n",
       "      <td>0.881535</td>\n",
       "      <td>0</td>\n",
       "      <td>0.000000</td>\n",
       "      <td>0.800000</td>\n",
       "      <td>1.282989</td>\n",
       "      <td>0.000000</td>\n",
       "      <td>0.384063</td>\n",
       "      <td>0.615937</td>\n",
       "    </tr>\n",
       "    <tr>\n",
       "      <th>90507</th>\n",
       "      <td>1</td>\n",
       "      <td>1</td>\n",
       "      <td>5.718785</td>\n",
       "      <td>1</td>\n",
       "      <td>-2.007892</td>\n",
       "      <td>0.118377</td>\n",
       "      <td>-1.635860</td>\n",
       "      <td>0</td>\n",
       "      <td>0.000000</td>\n",
       "      <td>2.227968</td>\n",
       "      <td>0.000000</td>\n",
       "      <td>0.000000</td>\n",
       "      <td>1.000000</td>\n",
       "      <td>0.000000</td>\n",
       "    </tr>\n",
       "    <tr>\n",
       "      <th>10967</th>\n",
       "      <td>2</td>\n",
       "      <td>1</td>\n",
       "      <td>2.194000</td>\n",
       "      <td>0</td>\n",
       "      <td>-0.968165</td>\n",
       "      <td>0.275246</td>\n",
       "      <td>-0.062374</td>\n",
       "      <td>0</td>\n",
       "      <td>0.000000</td>\n",
       "      <td>0.800000</td>\n",
       "      <td>1.294209</td>\n",
       "      <td>0.000000</td>\n",
       "      <td>0.382006</td>\n",
       "      <td>0.617994</td>\n",
       "    </tr>\n",
       "    <tr>\n",
       "      <th>97735</th>\n",
       "      <td>1</td>\n",
       "      <td>2</td>\n",
       "      <td>0.933398</td>\n",
       "      <td>0</td>\n",
       "      <td>0.692456</td>\n",
       "      <td>0.666513</td>\n",
       "      <td>-0.269301</td>\n",
       "      <td>0</td>\n",
       "      <td>0.000000</td>\n",
       "      <td>1.711757</td>\n",
       "      <td>2.250000</td>\n",
       "      <td>0.000000</td>\n",
       "      <td>0.432070</td>\n",
       "      <td>0.567930</td>\n",
       "    </tr>\n",
       "    <tr>\n",
       "      <th>53107</th>\n",
       "      <td>2</td>\n",
       "      <td>0</td>\n",
       "      <td>1.486974</td>\n",
       "      <td>0</td>\n",
       "      <td>1.181414</td>\n",
       "      <td>0.765202</td>\n",
       "      <td>0.135871</td>\n",
       "      <td>0</td>\n",
       "      <td>2.700000</td>\n",
       "      <td>0.000000</td>\n",
       "      <td>1.345543</td>\n",
       "      <td>0.667401</td>\n",
       "      <td>0.000000</td>\n",
       "      <td>0.332599</td>\n",
       "    </tr>\n",
       "    <tr>\n",
       "      <th>39275</th>\n",
       "      <td>2</td>\n",
       "      <td>1</td>\n",
       "      <td>0.083071</td>\n",
       "      <td>1</td>\n",
       "      <td>-0.749012</td>\n",
       "      <td>0.321037</td>\n",
       "      <td>-0.744502</td>\n",
       "      <td>0</td>\n",
       "      <td>0.000000</td>\n",
       "      <td>0.800000</td>\n",
       "      <td>1.795490</td>\n",
       "      <td>0.000000</td>\n",
       "      <td>0.308227</td>\n",
       "      <td>0.691773</td>\n",
       "    </tr>\n",
       "    <tr>\n",
       "      <th>69223</th>\n",
       "      <td>2</td>\n",
       "      <td>1</td>\n",
       "      <td>4.046924</td>\n",
       "      <td>0</td>\n",
       "      <td>-1.235730</td>\n",
       "      <td>0.225180</td>\n",
       "      <td>-0.253080</td>\n",
       "      <td>0</td>\n",
       "      <td>0.000000</td>\n",
       "      <td>0.800000</td>\n",
       "      <td>1.217350</td>\n",
       "      <td>0.000000</td>\n",
       "      <td>0.396560</td>\n",
       "      <td>0.603440</td>\n",
       "    </tr>\n",
       "    <tr>\n",
       "      <th>44524</th>\n",
       "      <td>2</td>\n",
       "      <td>2</td>\n",
       "      <td>5.092283</td>\n",
       "      <td>0</td>\n",
       "      <td>-0.539896</td>\n",
       "      <td>0.368212</td>\n",
       "      <td>-0.979594</td>\n",
       "      <td>0</td>\n",
       "      <td>0.000000</td>\n",
       "      <td>0.000000</td>\n",
       "      <td>3.439698</td>\n",
       "      <td>0.000000</td>\n",
       "      <td>0.000000</td>\n",
       "      <td>1.000000</td>\n",
       "    </tr>\n",
       "    <tr>\n",
       "      <th>12349</th>\n",
       "      <td>1</td>\n",
       "      <td>1</td>\n",
       "      <td>1.428686</td>\n",
       "      <td>0</td>\n",
       "      <td>-1.542857</td>\n",
       "      <td>0.176120</td>\n",
       "      <td>-0.983278</td>\n",
       "      <td>0</td>\n",
       "      <td>0.000000</td>\n",
       "      <td>2.440421</td>\n",
       "      <td>0.000000</td>\n",
       "      <td>0.000000</td>\n",
       "      <td>1.000000</td>\n",
       "      <td>0.000000</td>\n",
       "    </tr>\n",
       "  </tbody>\n",
       "</table>\n",
       "</div>"
      ],
      "text/plain": [
       "       t1  t2      gap1  gender         y         z   epsilon  conversion  \\\n",
       "68238  0   1   0.813115  1      -2.303631  0.090823 -1.422445  0            \n",
       "95849  2   1   2.393590  1       0.364525  0.590135  0.881535  0            \n",
       "90507  1   1   5.718785  1      -2.007892  0.118377 -1.635860  0            \n",
       "10967  2   1   2.194000  0      -0.968165  0.275246 -0.062374  0            \n",
       "97735  1   2   0.933398  0       0.692456  0.666513 -0.269301  0            \n",
       "53107  2   0   1.486974  0       1.181414  0.765202  0.135871  0            \n",
       "39275  2   1   0.083071  1      -0.749012  0.321037 -0.744502  0            \n",
       "69223  2   1   4.046924  0      -1.235730  0.225180 -0.253080  0            \n",
       "44524  2   2   5.092283  0      -0.539896  0.368212 -0.979594  0            \n",
       "12349  1   1   1.428686  0      -1.542857  0.176120 -0.983278  0            \n",
       "\n",
       "       cont_unscaled_fb  cont_unscaled_gg  cont_unscaled_sp   cont_fb  \\\n",
       "68238  0.918813          0.800000          0.000000          0.534563   \n",
       "95849  0.000000          0.800000          1.282989          0.000000   \n",
       "90507  0.000000          2.227968          0.000000          0.000000   \n",
       "10967  0.000000          0.800000          1.294209          0.000000   \n",
       "97735  0.000000          1.711757          2.250000          0.000000   \n",
       "53107  2.700000          0.000000          1.345543          0.667401   \n",
       "39275  0.000000          0.800000          1.795490          0.000000   \n",
       "69223  0.000000          0.800000          1.217350          0.000000   \n",
       "44524  0.000000          0.000000          3.439698          0.000000   \n",
       "12349  0.000000          2.440421          0.000000          0.000000   \n",
       "\n",
       "        cont_gg   cont_sp  \n",
       "68238  0.465437  0.000000  \n",
       "95849  0.384063  0.615937  \n",
       "90507  1.000000  0.000000  \n",
       "10967  0.382006  0.617994  \n",
       "97735  0.432070  0.567930  \n",
       "53107  0.000000  0.332599  \n",
       "39275  0.308227  0.691773  \n",
       "69223  0.396560  0.603440  \n",
       "44524  0.000000  1.000000  \n",
       "12349  1.000000  0.000000  "
      ]
     },
     "execution_count": 580,
     "metadata": {},
     "output_type": "execute_result"
    }
   ],
   "source": [
    "df[['t1', 't2', 'gap1', 'gender','y','z','epsilon', 'conversion', 'cont_unscaled_fb','cont_unscaled_gg','cont_unscaled_sp', 'cont_fb', 'cont_gg', 'cont_sp']].sample(10)\n"
   ]
  },
  {
   "cell_type": "markdown",
   "metadata": {},
   "source": [
    "#### Distribution of epsilon for conversion==1\n",
    "###### P(epsilon | conversion=1) has a higher mean than P(epsilon | conversion=0), as expected"
   ]
  },
  {
   "cell_type": "code",
   "execution_count": 581,
   "metadata": {},
   "outputs": [
    {
     "data": {
      "text/plain": [
       "(array([ 105.,  889., 2247., 2731., 2042., 1069.,  572.,  258.,   66.,\n",
       "          21.]),\n",
       " array([-0.20473648,  0.20454281,  0.61382209,  1.02310138,  1.43238066,\n",
       "         1.84165995,  2.25093923,  2.66021852,  3.06949781,  3.47877709,\n",
       "         3.88805638]),\n",
       " <a list of 10 Patch objects>)"
      ]
     },
     "execution_count": 581,
     "metadata": {},
     "output_type": "execute_result"
    },
    {
     "data": {
      "image/png": "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\n",
      "text/plain": [
       "<Figure size 432x288 with 1 Axes>"
      ]
     },
     "metadata": {
      "needs_background": "light"
     },
     "output_type": "display_data"
    }
   ],
   "source": [
    "plt.hist(df[df['conversion']==1]['epsilon'])"
   ]
  },
  {
   "cell_type": "markdown",
   "metadata": {},
   "source": [
    "#### Distribution of epsilon for conversion==0\n",
    "###### P(epsilon | conversion=0) has a lower mean than P(epsilon | conversion=1), as expected"
   ]
  },
  {
   "cell_type": "code",
   "execution_count": 582,
   "metadata": {
    "scrolled": true
   },
   "outputs": [
    {
     "data": {
      "text/plain": [
       "(array([   29.,   296.,  2064.,  8373., 19581., 28136., 21597.,  7935.,\n",
       "         1821.,   168.]),\n",
       " array([-4.18321918, -3.44970844, -2.7161977 , -1.98268696, -1.24917622,\n",
       "        -0.51566548,  0.21784526,  0.951356  ,  1.68486674,  2.41837748,\n",
       "         3.15188822]),\n",
       " <a list of 10 Patch objects>)"
      ]
     },
     "execution_count": 582,
     "metadata": {},
     "output_type": "execute_result"
    },
    {
     "data": {
      "image/png": "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\n",
      "text/plain": [
       "<Figure size 432x288 with 1 Axes>"
      ]
     },
     "metadata": {
      "needs_background": "light"
     },
     "output_type": "display_data"
    }
   ],
   "source": [
    "plt.hist(df[df['conversion']==0]['epsilon'])"
   ]
  },
  {
   "cell_type": "markdown",
   "metadata": {},
   "source": [
    "## Format Data for Input"
   ]
  },
  {
   "cell_type": "code",
   "execution_count": 583,
   "metadata": {},
   "outputs": [],
   "source": [
    "num_time_steps = 2\n",
    "num_cats = 3\n",
    "num_feats = 2"
   ]
  },
  {
   "cell_type": "markdown",
   "metadata": {},
   "source": [
    "### Train Test Split / Split into Numerical and Categorical Matrices / Reshape "
   ]
  },
  {
   "cell_type": "markdown",
   "metadata": {},
   "source": [
    "df['gap1_t2'] = 0 #create an extra gap column for time step 2 which is always 0 since there is no time step 3 in this simulation\n",
    "X = df[['t1', 't2','gender', 'gap1','gender_t2', 'gap1_t2', 'epsilon']]\n",
    "y = np.array(df['conversion'])\n",
    "\n",
    "X_train, X_test, y_train, y_test = train_test_split(X, y, test_size=.3, random_state=123)\n",
    "\n",
    "#Split X_train into numerical and categorical matrices for separate input into the model\n",
    "X_train_num = np.array(X_train[['gender', 'gap1', 'gender','gap1_t2']]) #gender is time-invariant so the same for both time steps\n",
    "X_test_num = np.array(X_test[['gender', 'gap1', 'gender_t2','gap1_t2']])\n",
    "X_train_num2 = np.reshape(X_train_num, (len(X_train_num),num_time_steps, num_feats))\n",
    "X_test_num2 = np.reshape(X_test_num, (len(X_test_num),num_time_steps, num_feats))\n",
    "X_train_cat = X_train[['t1', 't2']]\n",
    "X_train_cat2 = np.reshape(np.array(X_train_cat), (len(X_train_cat),num_time_steps , 1))\n",
    "X_test_cat = X_test[['t1', 't2']]\n",
    "X_test_cat2 = np.reshape(np.array(X_test_cat), (len(X_test_cat), num_time_steps , 1))\n",
    "print(X_train_cat2.shape)\n",
    "print(X_train_num2.shape)\n",
    "print(X_test_cat2.shape)\n",
    "print(X_test_num2.shape)\n",
    "print(y_train.shape)\n",
    "print(y_test.shape)\n"
   ]
  },
  {
   "cell_type": "markdown",
   "metadata": {},
   "source": [
    "#### View sample of X_train_num2 "
   ]
  },
  {
   "cell_type": "code",
   "execution_count": 584,
   "metadata": {},
   "outputs": [
    {
     "data": {
      "text/plain": [
       "array([[[0.        , 3.73745316],\n",
       "        [0.        , 0.        ]],\n",
       "\n",
       "       [[0.        , 5.98632315],\n",
       "        [0.        , 0.        ]],\n",
       "\n",
       "       [[0.        , 2.29993883],\n",
       "        [0.        , 0.        ]]])"
      ]
     },
     "execution_count": 584,
     "metadata": {},
     "output_type": "execute_result"
    }
   ],
   "source": [
    "X_train_num2[:3]"
   ]
  },
  {
   "cell_type": "markdown",
   "metadata": {},
   "source": [
    "#### Verify X_train_cat2 is tokenized"
   ]
  },
  {
   "cell_type": "code",
   "execution_count": 585,
   "metadata": {},
   "outputs": [
    {
     "data": {
      "text/plain": [
       "array([[[0],\n",
       "        [1]],\n",
       "\n",
       "       [[1],\n",
       "        [2]],\n",
       "\n",
       "       [[0],\n",
       "        [2]]])"
      ]
     },
     "execution_count": 585,
     "metadata": {},
     "output_type": "execute_result"
    }
   ],
   "source": [
    "X_train_cat2[:3]"
   ]
  },
  {
   "cell_type": "markdown",
   "metadata": {},
   "source": [
    "## Deep Learning Model Construction"
   ]
  },
  {
   "cell_type": "code",
   "execution_count": 586,
   "metadata": {},
   "outputs": [],
   "source": [
    "from keras import backend as K\n",
    "\n",
    "class Attention(tf.keras.Model):\n",
    "    def __init__(self, units):\n",
    "        super(Attention, self).__init__()\n",
    "        self.w=self.add_weight(shape=(128, units), initializer=\"normal\")\n",
    "        self.b=self.add_weight(shape=(2, units), initializer=\"zeros\")\n",
    "        \n",
    "       # self.w2=self.add_weight(shape=(256, 1), initializer=\"normal\")\n",
    "        #self.b2=self.add_weight(shape=(2, 1), initializer=\"zeros\")\n",
    "\n",
    "    def call(self, x):\n",
    "\n",
    "        e1 = K.relu(K.dot(x,self.w)+self.b)\n",
    "      #  e2 = K.relu(K.dot(e1,self.w2)+self.b2)\n",
    "\n",
    "        a = K.softmax(e1, axis=1)\n",
    "        #a = [e1[0][0]/(e1[0][0]+e1[1][0]), e1[1][0]/(e1[0][0]+e1[1][0])]\n",
    "        output = a*x\n",
    "        \n",
    "        return e1, K.sum(output, axis=1)"
   ]
  },
  {
   "cell_type": "code",
   "execution_count": 587,
   "metadata": {},
   "outputs": [],
   "source": [
    "embedding_size = 2 #dimensionality of embedding vector\n",
    "cardinality = len(channels) # cardinality of the categorical feature (channel)\n",
    "\n",
    "\n",
    "inp_cat_data = Input(shape=(num_time_steps, 1)) #input for categorical data\n",
    "inp_num_data = Input(shape=(num_time_steps, num_feats)) #input for numerical data\n",
    "\n",
    "emb = Embedding(cardinality, embedding_size, input_length=(num_time_steps))(inp_cat_data) #Embedding layer for categorical data (channels)\n",
    "\n",
    "resh1 = Reshape((num_time_steps, embedding_size))(emb) #reshape to squash the 4D tensor back into 3D, not sure why emb layer does this\n",
    "\n",
    "conc = Concatenate()([resh1, inp_num_data]) #combine numerical data with channel embedding tensor before inputting into LSTM\n",
    "\n",
    "resh2 = Reshape((num_time_steps, embedding_size+num_feats))(conc) #reshape to fit LSTM needs just in case\n",
    "# LSTM with channel embeddings and control features, returns hidden state sequences for the attention layer to use\n",
    "lstm_layer = LSTM(128, dropout=.03, recurrent_dropout=.03,return_sequences=True)(resh2)\n",
    "\n",
    "#Attention layer: multi-layer perceptron with 1 neuron, returns unscaled attention weight vector and attention weighted sum\n",
    "a_unsc, attention_layer = Attention(1)(lstm_layer)\n",
    "\n",
    "\n",
    "#Output layer dense, binary outcome\n",
    "out = Dense(1, activation='sigmoid')(attention_layer)\n",
    "\n",
    "#output the prediction and the unscaled attention to retrieve after training - not sure if this screws up the training of any layers\n",
    "model = keras.Model(inputs=[inp_cat_data, inp_num_data], outputs=[out, a_unsc] )\n",
    "#model = keras.Model(inputs=[inp_cat_data, inp_num_data], outputs=out )\n",
    "\n",
    "model.compile(optimizer=Adam(0.001),\n",
    "              loss=tf.keras.losses.BinaryCrossentropy(from_logits=False),\n",
    "              metrics=['acc'])"
   ]
  },
  {
   "cell_type": "code",
   "execution_count": 588,
   "metadata": {},
   "outputs": [
    {
     "name": "stdout",
     "output_type": "stream",
     "text": [
      "Model: \"model_15\"\n",
      "__________________________________________________________________________________________________\n",
      "Layer (type)                    Output Shape         Param #     Connected to                     \n",
      "==================================================================================================\n",
      "input_31 (InputLayer)           [(None, 2, 1)]       0                                            \n",
      "__________________________________________________________________________________________________\n",
      "embedding_15 (Embedding)        (None, 2, 1, 2)      6           input_31[0][0]                   \n",
      "__________________________________________________________________________________________________\n",
      "reshape_30 (Reshape)            (None, 2, 2)         0           embedding_15[0][0]               \n",
      "__________________________________________________________________________________________________\n",
      "input_32 (InputLayer)           [(None, 2, 2)]       0                                            \n",
      "__________________________________________________________________________________________________\n",
      "concatenate_15 (Concatenate)    (None, 2, 4)         0           reshape_30[0][0]                 \n",
      "                                                                 input_32[0][0]                   \n",
      "__________________________________________________________________________________________________\n",
      "reshape_31 (Reshape)            (None, 2, 4)         0           concatenate_15[0][0]             \n",
      "__________________________________________________________________________________________________\n",
      "lstm_15 (LSTM)                  (None, 2, 128)       68096       reshape_31[0][0]                 \n",
      "__________________________________________________________________________________________________\n",
      "attention_15 (Attention)        ((None, 2, 1), (None 130         lstm_15[0][0]                    \n",
      "__________________________________________________________________________________________________\n",
      "dense_15 (Dense)                (None, 1)            129         attention_15[0][1]               \n",
      "==================================================================================================\n",
      "Total params: 68,361\n",
      "Trainable params: 68,361\n",
      "Non-trainable params: 0\n",
      "__________________________________________________________________________________________________\n"
     ]
    }
   ],
   "source": [
    "model.summary()"
   ]
  },
  {
   "cell_type": "markdown",
   "metadata": {},
   "source": [
    "### Run Model until loss stops improving"
   ]
  },
  {
   "cell_type": "code",
   "execution_count": 589,
   "metadata": {
    "scrolled": true
   },
   "outputs": [
    {
     "name": "stdout",
     "output_type": "stream",
     "text": [
      "Epoch 1/10\n",
      "700/700 [==============================] - 7s 7ms/step - loss: 0.7013 - dense_15_loss: 0.3787 - attention_15_loss: 0.3225 - dense_15_acc: 0.9015 - attention_15_acc: 0.9016 - val_loss: 0.5178 - val_dense_15_loss: 0.2373 - val_attention_15_loss: 0.2805 - val_dense_15_acc: 0.8989 - val_attention_15_acc: 0.8989\n",
      "Epoch 2/10\n",
      "700/700 [==============================] - 4s 6ms/step - loss: 0.4961 - dense_15_loss: 0.2168 - attention_15_loss: 0.2792 - dense_15_acc: 0.9056 - attention_15_acc: 0.9020 - val_loss: 0.4846 - val_dense_15_loss: 0.2059 - val_attention_15_loss: 0.2787 - val_dense_15_acc: 0.9091 - val_attention_15_acc: 0.9033\n",
      "Epoch 3/10\n",
      "700/700 [==============================] - 4s 6ms/step - loss: 0.4816 - dense_15_loss: 0.2029 - attention_15_loss: 0.2787 - dense_15_acc: 0.9117 - attention_15_acc: 0.9032 - val_loss: 0.4917 - val_dense_15_loss: 0.2064 - val_attention_15_loss: 0.2853 - val_dense_15_acc: 0.9086 - val_attention_15_acc: 0.8989\n",
      "Epoch 4/10\n",
      "700/700 [==============================] - 4s 6ms/step - loss: 0.5022 - dense_15_loss: 0.2090 - attention_15_loss: 0.2932 - dense_15_acc: 0.9087 - attention_15_acc: 0.8949 - val_loss: 0.4759 - val_dense_15_loss: 0.2055 - val_attention_15_loss: 0.2704 - val_dense_15_acc: 0.9095 - val_attention_15_acc: 0.9037\n",
      "Epoch 5/10\n",
      "700/700 [==============================] - 4s 6ms/step - loss: 0.4759 - dense_15_loss: 0.2034 - attention_15_loss: 0.2725 - dense_15_acc: 0.9119 - attention_15_acc: 0.9036 - val_loss: 0.4776 - val_dense_15_loss: 0.2058 - val_attention_15_loss: 0.2718 - val_dense_15_acc: 0.9093 - val_attention_15_acc: 0.9025\n",
      "Epoch 6/10\n",
      "697/700 [============================>.] - ETA: 0s - loss: 0.4761 - dense_15_loss: 0.2065 - attention_15_loss: 0.2696 - dense_15_acc: 0.9101 - attention_15_acc: 0.9032"
     ]
    },
    {
     "ename": "KeyboardInterrupt",
     "evalue": "",
     "output_type": "error",
     "traceback": [
      "\u001b[0;31m---------------------------------------------------------------------------\u001b[0m",
      "\u001b[0;31mKeyboardInterrupt\u001b[0m                         Traceback (most recent call last)",
      "\u001b[0;32m<ipython-input-589-0ee84506d753>\u001b[0m in \u001b[0;36m<module>\u001b[0;34m\u001b[0m\n\u001b[1;32m      1\u001b[0m \u001b[0mepochs\u001b[0m \u001b[0;34m=\u001b[0m \u001b[0;36m10\u001b[0m\u001b[0;34m\u001b[0m\u001b[0;34m\u001b[0m\u001b[0m\n\u001b[1;32m      2\u001b[0m \u001b[0mbatch_size\u001b[0m \u001b[0;34m=\u001b[0m \u001b[0;36m100\u001b[0m\u001b[0;34m\u001b[0m\u001b[0;34m\u001b[0m\u001b[0m\n\u001b[0;32m----> 3\u001b[0;31m \u001b[0mmodel\u001b[0m\u001b[0;34m.\u001b[0m\u001b[0mfit\u001b[0m\u001b[0;34m(\u001b[0m\u001b[0mx\u001b[0m\u001b[0;34m=\u001b[0m\u001b[0;34m[\u001b[0m\u001b[0mX_train_cat2\u001b[0m\u001b[0;34m,\u001b[0m \u001b[0mX_train_num2\u001b[0m\u001b[0;34m]\u001b[0m\u001b[0;34m,\u001b[0m \u001b[0my\u001b[0m\u001b[0;34m=\u001b[0m\u001b[0my_train\u001b[0m\u001b[0;34m,\u001b[0m \u001b[0mvalidation_data\u001b[0m\u001b[0;34m=\u001b[0m\u001b[0;34m(\u001b[0m\u001b[0;34m[\u001b[0m\u001b[0mX_test_cat2\u001b[0m\u001b[0;34m,\u001b[0m \u001b[0mX_test_num2\u001b[0m\u001b[0;34m]\u001b[0m\u001b[0;34m,\u001b[0m \u001b[0my_test\u001b[0m\u001b[0;34m)\u001b[0m\u001b[0;34m,\u001b[0m \u001b[0mepochs\u001b[0m\u001b[0;34m=\u001b[0m\u001b[0mepochs\u001b[0m\u001b[0;34m,\u001b[0m \u001b[0mbatch_size\u001b[0m\u001b[0;34m=\u001b[0m\u001b[0mbatch_size\u001b[0m\u001b[0;34m)\u001b[0m\u001b[0;34m\u001b[0m\u001b[0;34m\u001b[0m\u001b[0m\n\u001b[0m",
      "\u001b[0;32m~/opt/anaconda3/lib/python3.7/site-packages/tensorflow/python/keras/engine/training.py\u001b[0m in \u001b[0;36mfit\u001b[0;34m(self, x, y, batch_size, epochs, verbose, callbacks, validation_split, validation_data, shuffle, class_weight, sample_weight, initial_epoch, steps_per_epoch, validation_steps, validation_batch_size, validation_freq, max_queue_size, workers, use_multiprocessing)\u001b[0m\n\u001b[1;32m   1139\u001b[0m               \u001b[0mworkers\u001b[0m\u001b[0;34m=\u001b[0m\u001b[0mworkers\u001b[0m\u001b[0;34m,\u001b[0m\u001b[0;34m\u001b[0m\u001b[0;34m\u001b[0m\u001b[0m\n\u001b[1;32m   1140\u001b[0m               \u001b[0muse_multiprocessing\u001b[0m\u001b[0;34m=\u001b[0m\u001b[0muse_multiprocessing\u001b[0m\u001b[0;34m,\u001b[0m\u001b[0;34m\u001b[0m\u001b[0;34m\u001b[0m\u001b[0m\n\u001b[0;32m-> 1141\u001b[0;31m               return_dict=True)\n\u001b[0m\u001b[1;32m   1142\u001b[0m           \u001b[0mval_logs\u001b[0m \u001b[0;34m=\u001b[0m \u001b[0;34m{\u001b[0m\u001b[0;34m'val_'\u001b[0m \u001b[0;34m+\u001b[0m \u001b[0mname\u001b[0m\u001b[0;34m:\u001b[0m \u001b[0mval\u001b[0m \u001b[0;32mfor\u001b[0m \u001b[0mname\u001b[0m\u001b[0;34m,\u001b[0m \u001b[0mval\u001b[0m \u001b[0;32min\u001b[0m \u001b[0mval_logs\u001b[0m\u001b[0;34m.\u001b[0m\u001b[0mitems\u001b[0m\u001b[0;34m(\u001b[0m\u001b[0;34m)\u001b[0m\u001b[0;34m}\u001b[0m\u001b[0;34m\u001b[0m\u001b[0;34m\u001b[0m\u001b[0m\n\u001b[1;32m   1143\u001b[0m           \u001b[0mepoch_logs\u001b[0m\u001b[0;34m.\u001b[0m\u001b[0mupdate\u001b[0m\u001b[0;34m(\u001b[0m\u001b[0mval_logs\u001b[0m\u001b[0;34m)\u001b[0m\u001b[0;34m\u001b[0m\u001b[0;34m\u001b[0m\u001b[0m\n",
      "\u001b[0;32m~/opt/anaconda3/lib/python3.7/site-packages/tensorflow/python/keras/engine/training.py\u001b[0m in \u001b[0;36mevaluate\u001b[0;34m(self, x, y, batch_size, verbose, sample_weight, steps, callbacks, max_queue_size, workers, use_multiprocessing, return_dict)\u001b[0m\n\u001b[1;32m   1387\u001b[0m             \u001b[0;32mwith\u001b[0m \u001b[0mtrace\u001b[0m\u001b[0;34m.\u001b[0m\u001b[0mTrace\u001b[0m\u001b[0;34m(\u001b[0m\u001b[0;34m'test'\u001b[0m\u001b[0;34m,\u001b[0m \u001b[0mstep_num\u001b[0m\u001b[0;34m=\u001b[0m\u001b[0mstep\u001b[0m\u001b[0;34m,\u001b[0m \u001b[0m_r\u001b[0m\u001b[0;34m=\u001b[0m\u001b[0;36m1\u001b[0m\u001b[0;34m)\u001b[0m\u001b[0;34m:\u001b[0m\u001b[0;34m\u001b[0m\u001b[0;34m\u001b[0m\u001b[0m\n\u001b[1;32m   1388\u001b[0m               \u001b[0mcallbacks\u001b[0m\u001b[0;34m.\u001b[0m\u001b[0mon_test_batch_begin\u001b[0m\u001b[0;34m(\u001b[0m\u001b[0mstep\u001b[0m\u001b[0;34m)\u001b[0m\u001b[0;34m\u001b[0m\u001b[0;34m\u001b[0m\u001b[0m\n\u001b[0;32m-> 1389\u001b[0;31m               \u001b[0mtmp_logs\u001b[0m \u001b[0;34m=\u001b[0m \u001b[0mself\u001b[0m\u001b[0;34m.\u001b[0m\u001b[0mtest_function\u001b[0m\u001b[0;34m(\u001b[0m\u001b[0miterator\u001b[0m\u001b[0;34m)\u001b[0m\u001b[0;34m\u001b[0m\u001b[0;34m\u001b[0m\u001b[0m\n\u001b[0m\u001b[1;32m   1390\u001b[0m               \u001b[0;32mif\u001b[0m \u001b[0mdata_handler\u001b[0m\u001b[0;34m.\u001b[0m\u001b[0mshould_sync\u001b[0m\u001b[0;34m:\u001b[0m\u001b[0;34m\u001b[0m\u001b[0;34m\u001b[0m\u001b[0m\n\u001b[1;32m   1391\u001b[0m                 \u001b[0mcontext\u001b[0m\u001b[0;34m.\u001b[0m\u001b[0masync_wait\u001b[0m\u001b[0;34m(\u001b[0m\u001b[0;34m)\u001b[0m\u001b[0;34m\u001b[0m\u001b[0;34m\u001b[0m\u001b[0m\n",
      "\u001b[0;32m~/opt/anaconda3/lib/python3.7/site-packages/tensorflow/python/eager/def_function.py\u001b[0m in \u001b[0;36m__call__\u001b[0;34m(self, *args, **kwds)\u001b[0m\n\u001b[1;32m    826\u001b[0m     \u001b[0mtracing_count\u001b[0m \u001b[0;34m=\u001b[0m \u001b[0mself\u001b[0m\u001b[0;34m.\u001b[0m\u001b[0mexperimental_get_tracing_count\u001b[0m\u001b[0;34m(\u001b[0m\u001b[0;34m)\u001b[0m\u001b[0;34m\u001b[0m\u001b[0;34m\u001b[0m\u001b[0m\n\u001b[1;32m    827\u001b[0m     \u001b[0;32mwith\u001b[0m \u001b[0mtrace\u001b[0m\u001b[0;34m.\u001b[0m\u001b[0mTrace\u001b[0m\u001b[0;34m(\u001b[0m\u001b[0mself\u001b[0m\u001b[0;34m.\u001b[0m\u001b[0m_name\u001b[0m\u001b[0;34m)\u001b[0m \u001b[0;32mas\u001b[0m \u001b[0mtm\u001b[0m\u001b[0;34m:\u001b[0m\u001b[0;34m\u001b[0m\u001b[0;34m\u001b[0m\u001b[0m\n\u001b[0;32m--> 828\u001b[0;31m       \u001b[0mresult\u001b[0m \u001b[0;34m=\u001b[0m \u001b[0mself\u001b[0m\u001b[0;34m.\u001b[0m\u001b[0m_call\u001b[0m\u001b[0;34m(\u001b[0m\u001b[0;34m*\u001b[0m\u001b[0margs\u001b[0m\u001b[0;34m,\u001b[0m \u001b[0;34m**\u001b[0m\u001b[0mkwds\u001b[0m\u001b[0;34m)\u001b[0m\u001b[0;34m\u001b[0m\u001b[0;34m\u001b[0m\u001b[0m\n\u001b[0m\u001b[1;32m    829\u001b[0m       \u001b[0mcompiler\u001b[0m \u001b[0;34m=\u001b[0m \u001b[0;34m\"xla\"\u001b[0m \u001b[0;32mif\u001b[0m \u001b[0mself\u001b[0m\u001b[0;34m.\u001b[0m\u001b[0m_experimental_compile\u001b[0m \u001b[0;32melse\u001b[0m \u001b[0;34m\"nonXla\"\u001b[0m\u001b[0;34m\u001b[0m\u001b[0;34m\u001b[0m\u001b[0m\n\u001b[1;32m    830\u001b[0m       \u001b[0mnew_tracing_count\u001b[0m \u001b[0;34m=\u001b[0m \u001b[0mself\u001b[0m\u001b[0;34m.\u001b[0m\u001b[0mexperimental_get_tracing_count\u001b[0m\u001b[0;34m(\u001b[0m\u001b[0;34m)\u001b[0m\u001b[0;34m\u001b[0m\u001b[0;34m\u001b[0m\u001b[0m\n",
      "\u001b[0;32m~/opt/anaconda3/lib/python3.7/site-packages/tensorflow/python/eager/def_function.py\u001b[0m in \u001b[0;36m_call\u001b[0;34m(self, *args, **kwds)\u001b[0m\n\u001b[1;32m    860\u001b[0m       \u001b[0;31m# In this case we have not created variables on the first call. So we can\u001b[0m\u001b[0;34m\u001b[0m\u001b[0;34m\u001b[0m\u001b[0;34m\u001b[0m\u001b[0m\n\u001b[1;32m    861\u001b[0m       \u001b[0;31m# run the first trace but we should fail if variables are created.\u001b[0m\u001b[0;34m\u001b[0m\u001b[0;34m\u001b[0m\u001b[0;34m\u001b[0m\u001b[0m\n\u001b[0;32m--> 862\u001b[0;31m       \u001b[0mresults\u001b[0m \u001b[0;34m=\u001b[0m \u001b[0mself\u001b[0m\u001b[0;34m.\u001b[0m\u001b[0m_stateful_fn\u001b[0m\u001b[0;34m(\u001b[0m\u001b[0;34m*\u001b[0m\u001b[0margs\u001b[0m\u001b[0;34m,\u001b[0m \u001b[0;34m**\u001b[0m\u001b[0mkwds\u001b[0m\u001b[0;34m)\u001b[0m\u001b[0;34m\u001b[0m\u001b[0;34m\u001b[0m\u001b[0m\n\u001b[0m\u001b[1;32m    863\u001b[0m       \u001b[0;32mif\u001b[0m \u001b[0mself\u001b[0m\u001b[0;34m.\u001b[0m\u001b[0m_created_variables\u001b[0m\u001b[0;34m:\u001b[0m\u001b[0;34m\u001b[0m\u001b[0;34m\u001b[0m\u001b[0m\n\u001b[1;32m    864\u001b[0m         raise ValueError(\"Creating variables on a non-first call to a function\"\n",
      "\u001b[0;32m~/opt/anaconda3/lib/python3.7/site-packages/tensorflow/python/eager/function.py\u001b[0m in \u001b[0;36m__call__\u001b[0;34m(self, *args, **kwargs)\u001b[0m\n\u001b[1;32m   2939\u001b[0m     \u001b[0;32mwith\u001b[0m \u001b[0mself\u001b[0m\u001b[0;34m.\u001b[0m\u001b[0m_lock\u001b[0m\u001b[0;34m:\u001b[0m\u001b[0;34m\u001b[0m\u001b[0;34m\u001b[0m\u001b[0m\n\u001b[1;32m   2940\u001b[0m       (graph_function,\n\u001b[0;32m-> 2941\u001b[0;31m        filtered_flat_args) = self._maybe_define_function(args, kwargs)\n\u001b[0m\u001b[1;32m   2942\u001b[0m     return graph_function._call_flat(\n\u001b[1;32m   2943\u001b[0m         filtered_flat_args, captured_inputs=graph_function.captured_inputs)  # pylint: disable=protected-access\n",
      "\u001b[0;32m~/opt/anaconda3/lib/python3.7/site-packages/tensorflow/python/eager/function.py\u001b[0m in \u001b[0;36m_maybe_define_function\u001b[0;34m(self, args, kwargs)\u001b[0m\n\u001b[1;32m   3316\u001b[0m       \u001b[0mflat_args\u001b[0m\u001b[0;34m,\u001b[0m \u001b[0mfiltered_flat_args\u001b[0m \u001b[0;34m=\u001b[0m \u001b[0;34m[\u001b[0m\u001b[0;32mNone\u001b[0m\u001b[0;34m]\u001b[0m\u001b[0;34m,\u001b[0m \u001b[0;34m[\u001b[0m\u001b[0;34m]\u001b[0m\u001b[0;34m\u001b[0m\u001b[0;34m\u001b[0m\u001b[0m\n\u001b[1;32m   3317\u001b[0m \u001b[0;34m\u001b[0m\u001b[0m\n\u001b[0;32m-> 3318\u001b[0;31m     \u001b[0mcache_key_context\u001b[0m \u001b[0;34m=\u001b[0m \u001b[0mself\u001b[0m\u001b[0;34m.\u001b[0m\u001b[0m_cache_key_context\u001b[0m\u001b[0;34m(\u001b[0m\u001b[0;34m)\u001b[0m\u001b[0;34m\u001b[0m\u001b[0;34m\u001b[0m\u001b[0m\n\u001b[0m\u001b[1;32m   3319\u001b[0m     \u001b[0mcache_key\u001b[0m \u001b[0;34m=\u001b[0m \u001b[0mself\u001b[0m\u001b[0;34m.\u001b[0m\u001b[0m_cache_key\u001b[0m\u001b[0;34m(\u001b[0m\u001b[0margs\u001b[0m\u001b[0;34m,\u001b[0m \u001b[0mkwargs\u001b[0m\u001b[0;34m,\u001b[0m \u001b[0mcache_key_context\u001b[0m\u001b[0;34m)\u001b[0m\u001b[0;34m\u001b[0m\u001b[0;34m\u001b[0m\u001b[0m\n\u001b[1;32m   3320\u001b[0m \u001b[0;34m\u001b[0m\u001b[0m\n",
      "\u001b[0;32m~/opt/anaconda3/lib/python3.7/site-packages/tensorflow/python/eager/function.py\u001b[0m in \u001b[0;36m_cache_key_context\u001b[0;34m(self)\u001b[0m\n\u001b[1;32m   3167\u001b[0m       \u001b[0;32mpass\u001b[0m\u001b[0;34m\u001b[0m\u001b[0;34m\u001b[0m\u001b[0m\n\u001b[1;32m   3168\u001b[0m \u001b[0;34m\u001b[0m\u001b[0m\n\u001b[0;32m-> 3169\u001b[0;31m     \u001b[0;32mif\u001b[0m \u001b[0msave_context\u001b[0m\u001b[0;34m.\u001b[0m\u001b[0min_save_context\u001b[0m\u001b[0;34m(\u001b[0m\u001b[0;34m)\u001b[0m\u001b[0;34m:\u001b[0m\u001b[0;34m\u001b[0m\u001b[0;34m\u001b[0m\u001b[0m\n\u001b[0m\u001b[1;32m   3170\u001b[0m       variable_policy = (\n\u001b[1;32m   3171\u001b[0m           save_context.get_save_options().experimental_variable_policy)\n",
      "\u001b[0;31mKeyboardInterrupt\u001b[0m: "
     ]
    }
   ],
   "source": [
    "epochs = 10\n",
    "batch_size = 100\n",
    "model.fit(x=[X_train_cat2, X_train_num2], y=y_train, validation_data=([X_test_cat2, X_test_num2], y_test), epochs=epochs, batch_size=batch_size)\n"
   ]
  },
  {
   "cell_type": "markdown",
   "metadata": {},
   "source": [
    "# Model Evaluation"
   ]
  },
  {
   "cell_type": "markdown",
   "metadata": {},
   "source": [
    "#### Extract prediction probabilities and unscaled attention weight vectors (e1) for observations in X_test"
   ]
  },
  {
   "cell_type": "code",
   "execution_count": 590,
   "metadata": {},
   "outputs": [],
   "source": [
    "preds, a = model.predict(x=[X_test_cat2, X_test_num2])"
   ]
  },
  {
   "cell_type": "code",
   "execution_count": 591,
   "metadata": {
    "scrolled": true
   },
   "outputs": [
    {
     "data": {
      "image/png": "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\n",
      "text/plain": [
       "<Figure size 432x288 with 1 Axes>"
      ]
     },
     "metadata": {
      "needs_background": "light"
     },
     "output_type": "display_data"
    }
   ],
   "source": [
    "#preds = pd.DataFrame(model.predict([X_train_cat2, X_train_num2]))\n",
    "preds = pd.DataFrame(preds)\n",
    "preds.rename(columns={0:'pred_prob'}, inplace=True)\n",
    "_=plt.hist(preds['pred_prob'].sample(10000), bins=50)"
   ]
  },
  {
   "cell_type": "markdown",
   "metadata": {},
   "source": [
    "#### Use the conversion balance of the training set to find a reasonable prediction threshold"
   ]
  },
  {
   "cell_type": "code",
   "execution_count": 592,
   "metadata": {},
   "outputs": [
    {
     "data": {
      "text/plain": [
       "0.4342219087643283"
      ]
     },
     "execution_count": 592,
     "metadata": {},
     "output_type": "execute_result"
    }
   ],
   "source": [
    "thresh = np.quantile(preds['pred_prob'], (1-y_train.mean()))\n",
    "thresh"
   ]
  },
  {
   "cell_type": "markdown",
   "metadata": {},
   "source": [
    "#### Extract attention weights from their awkward data structure and put them in a dataframe"
   ]
  },
  {
   "cell_type": "code",
   "execution_count": 593,
   "metadata": {},
   "outputs": [],
   "source": [
    "\n",
    "a2 = []\n",
    "for i in range(len(a)):\n",
    "    a2.append( [a[i][0][0], a[i][1][0]])\n",
    "a2_df = pd.DataFrame(a2, columns=['t1_attn_unscaled', 't2_attn_unscaled'])"
   ]
  },
  {
   "cell_type": "markdown",
   "metadata": {},
   "source": [
    "#### Combine original input features, target, actual channel contributions, predictions, and estimated channel attentions in one convenient dataframe"
   ]
  },
  {
   "cell_type": "code",
   "execution_count": 594,
   "metadata": {},
   "outputs": [],
   "source": [
    "\n",
    "preds_df = pd.concat([preds, pd.DataFrame(y_test)], axis=1)\n",
    "preds_df.rename(columns={0:'actual'}, inplace=True)\n",
    "preds_df.reset_index(drop=True,inplace=True)\n",
    "preds_df['pred'] = preds_df['pred_prob']>thresh\n",
    "preds_df2 = pd.concat([pd.DataFrame(X_test).reset_index(), preds_df], axis=1)\n",
    "preds_df2 = pd.concat([preds_df2, a2_df], axis=1)\n",
    "preds_df3 = preds_df2.merge(df[['t1', 't2', 'gender', 'gap1','cont_fb','cont_gg','cont_sp' ]], 'left', on=['t1', 't2', 'gender', 'gap1'])\n",
    "\n",
    "preds_df3['t1_attn'] = preds_df3['t1_attn_unscaled']/(preds_df3['t1_attn_unscaled']+preds_df3['t2_attn_unscaled'])\n",
    "preds_df3['t2_attn'] = preds_df3['t2_attn_unscaled']/(preds_df3['t1_attn_unscaled']+preds_df3['t2_attn_unscaled'])\n",
    "\n"
   ]
  },
  {
   "cell_type": "markdown",
   "metadata": {},
   "source": [
    "#### Functions for getting the contribution for the timestep to compare directly to attention weights"
   ]
  },
  {
   "cell_type": "code",
   "execution_count": 595,
   "metadata": {},
   "outputs": [],
   "source": [
    "def get_t1_cont(row):\n",
    "    t1_cont = 0\n",
    "\n",
    "    if row['t1']==0:\n",
    "        t1_cont = row['cont_fb']\n",
    "    elif row['t1']==1:\n",
    "        t1_cont = row['cont_gg']\n",
    "    else:\n",
    "        t1_cont = row['cont_sp']\n",
    "\n",
    "    return t1_cont\n",
    "\n",
    "def get_t2_cont(row):\n",
    "    t2_cont = 0\n",
    "\n",
    "    if row['t2']==0:\n",
    "        t2_cont = row['cont_fb']\n",
    "    elif row['t2']==1:\n",
    "        t2_cont = row['cont_gg']\n",
    "    else:\n",
    "        t2_cont = row['cont_sp']\n",
    "\n",
    "    return t2_cont"
   ]
  },
  {
   "cell_type": "code",
   "execution_count": 596,
   "metadata": {},
   "outputs": [],
   "source": [
    "preds_df3['t1_cont'] = preds_df3.apply(get_t1_cont, axis=1)\n",
    "preds_df3['t2_cont'] = preds_df3.apply(get_t2_cont, axis=1)"
   ]
  },
  {
   "cell_type": "markdown",
   "metadata": {},
   "source": [
    "#### Preview a sample of estimated attention (t1_attn, t2_atten) *vs.* actual contribution (t1_cont, t2_cont)"
   ]
  },
  {
   "cell_type": "code",
   "execution_count": 597,
   "metadata": {},
   "outputs": [
    {
     "data": {
      "text/html": [
       "<div>\n",
       "<style scoped>\n",
       "    .dataframe tbody tr th:only-of-type {\n",
       "        vertical-align: middle;\n",
       "    }\n",
       "\n",
       "    .dataframe tbody tr th {\n",
       "        vertical-align: top;\n",
       "    }\n",
       "\n",
       "    .dataframe thead th {\n",
       "        text-align: right;\n",
       "    }\n",
       "</style>\n",
       "<table border=\"1\" class=\"dataframe\">\n",
       "  <thead>\n",
       "    <tr style=\"text-align: right;\">\n",
       "      <th></th>\n",
       "      <th>t1</th>\n",
       "      <th>t2</th>\n",
       "      <th>t1_cont</th>\n",
       "      <th>t2_cont</th>\n",
       "      <th>t1_attn</th>\n",
       "      <th>t2_attn</th>\n",
       "    </tr>\n",
       "  </thead>\n",
       "  <tbody>\n",
       "    <tr>\n",
       "      <th>20027</th>\n",
       "      <td>1</td>\n",
       "      <td>0</td>\n",
       "      <td>0.334780</td>\n",
       "      <td>0.665220</td>\n",
       "      <td>0.270533</td>\n",
       "      <td>0.729467</td>\n",
       "    </tr>\n",
       "    <tr>\n",
       "      <th>3513</th>\n",
       "      <td>1</td>\n",
       "      <td>0</td>\n",
       "      <td>0.361531</td>\n",
       "      <td>0.638469</td>\n",
       "      <td>0.286078</td>\n",
       "      <td>0.713922</td>\n",
       "    </tr>\n",
       "    <tr>\n",
       "      <th>27758</th>\n",
       "      <td>1</td>\n",
       "      <td>0</td>\n",
       "      <td>0.364001</td>\n",
       "      <td>0.635999</td>\n",
       "      <td>0.297278</td>\n",
       "      <td>0.702722</td>\n",
       "    </tr>\n",
       "    <tr>\n",
       "      <th>600</th>\n",
       "      <td>1</td>\n",
       "      <td>0</td>\n",
       "      <td>0.351845</td>\n",
       "      <td>0.648155</td>\n",
       "      <td>0.283260</td>\n",
       "      <td>0.716740</td>\n",
       "    </tr>\n",
       "    <tr>\n",
       "      <th>10692</th>\n",
       "      <td>1</td>\n",
       "      <td>0</td>\n",
       "      <td>0.359924</td>\n",
       "      <td>0.640076</td>\n",
       "      <td>0.285657</td>\n",
       "      <td>0.714343</td>\n",
       "    </tr>\n",
       "    <tr>\n",
       "      <th>1284</th>\n",
       "      <td>1</td>\n",
       "      <td>0</td>\n",
       "      <td>0.358978</td>\n",
       "      <td>0.641022</td>\n",
       "      <td>0.285405</td>\n",
       "      <td>0.714595</td>\n",
       "    </tr>\n",
       "    <tr>\n",
       "      <th>13521</th>\n",
       "      <td>1</td>\n",
       "      <td>0</td>\n",
       "      <td>0.389489</td>\n",
       "      <td>0.610511</td>\n",
       "      <td>0.294859</td>\n",
       "      <td>0.705141</td>\n",
       "    </tr>\n",
       "    <tr>\n",
       "      <th>17237</th>\n",
       "      <td>1</td>\n",
       "      <td>0</td>\n",
       "      <td>0.367956</td>\n",
       "      <td>0.632044</td>\n",
       "      <td>0.298765</td>\n",
       "      <td>0.701235</td>\n",
       "    </tr>\n",
       "    <tr>\n",
       "      <th>2990</th>\n",
       "      <td>1</td>\n",
       "      <td>0</td>\n",
       "      <td>0.359758</td>\n",
       "      <td>0.640242</td>\n",
       "      <td>0.285613</td>\n",
       "      <td>0.714387</td>\n",
       "    </tr>\n",
       "    <tr>\n",
       "      <th>24106</th>\n",
       "      <td>0</td>\n",
       "      <td>2</td>\n",
       "      <td>0.283011</td>\n",
       "      <td>0.716989</td>\n",
       "      <td>0.381484</td>\n",
       "      <td>0.618516</td>\n",
       "    </tr>\n",
       "  </tbody>\n",
       "</table>\n",
       "</div>"
      ],
      "text/plain": [
       "       t1  t2   t1_cont   t2_cont   t1_attn   t2_attn\n",
       "20027  1   0   0.334780  0.665220  0.270533  0.729467\n",
       "3513   1   0   0.361531  0.638469  0.286078  0.713922\n",
       "27758  1   0   0.364001  0.635999  0.297278  0.702722\n",
       "600    1   0   0.351845  0.648155  0.283260  0.716740\n",
       "10692  1   0   0.359924  0.640076  0.285657  0.714343\n",
       "1284   1   0   0.358978  0.641022  0.285405  0.714595\n",
       "13521  1   0   0.389489  0.610511  0.294859  0.705141\n",
       "17237  1   0   0.367956  0.632044  0.298765  0.701235\n",
       "2990   1   0   0.359758  0.640242  0.285613  0.714387\n",
       "24106  0   2   0.283011  0.716989  0.381484  0.618516"
      ]
     },
     "execution_count": 597,
     "metadata": {},
     "output_type": "execute_result"
    }
   ],
   "source": [
    "preds_df3[(preds_df3['actual']==1) & (preds_df3['t1']!=preds_df3['t2'])][['t1', 't2', 't1_cont', 't2_cont', 't1_attn', 't2_attn']].sample(10)\n"
   ]
  },
  {
   "cell_type": "code",
   "execution_count": 598,
   "metadata": {},
   "outputs": [],
   "source": [
    "### Calculate residuals for the DLAW model and 3 naive models: 50/50 split, last touched, and first touched"
   ]
  },
  {
   "cell_type": "code",
   "execution_count": 599,
   "metadata": {},
   "outputs": [],
   "source": [
    "preds_df3['cont_error'] = preds_df3['t1_cont']-preds_df3['t1_attn']\n",
    "preds_df3['5050_cont_error'] = preds_df3['t1_cont']-.5\n",
    "preds_df3['last_touch_cont_error'] = 1-preds_df3['t2_cont']\n",
    "preds_df3['first_touch_cont_error'] = 1-preds_df3['t1_cont']\n"
   ]
  },
  {
   "cell_type": "markdown",
   "metadata": {},
   "source": [
    "### Calculate MAE only for observations with:\n",
    " - actual conversion==1: we only care about attributing people who converted\n",
    " - t1 channel does not equal t2 channel: there is no uncertainty of attribution in cases where t1 channel==t2 channel\n",
    " - predicted probability >0.03: These are likely noisier since the model found no signal for conversion. This was chosen arbitrarily ahead of time and does not change for each run"
   ]
  },
  {
   "cell_type": "code",
   "execution_count": 600,
   "metadata": {},
   "outputs": [],
   "source": [
    "min_p = .03"
   ]
  },
  {
   "cell_type": "code",
   "execution_count": 601,
   "metadata": {},
   "outputs": [
    {
     "name": "stdout",
     "output_type": "stream",
     "text": [
      "DLAW Stats:\n",
      " Mean AE: 0.072 , Median AE 0.066 95% CI Error: 0.127\n",
      "\n",
      "50/50 Split Stats:\n",
      " Mean AE: 0.145 , Median AE 0.145 95% CI Error: 0.193\n",
      "\n",
      "Last Touched Stats:\n",
      " Mean AE: 0.355 , Median AE 0.355 95% CI Error: 0.403\n",
      "\n",
      "First Touched Stats:\n",
      " Mean AE: 0.645 , Median AE 0.645 95% CI Error: 0.693\n"
     ]
    }
   ],
   "source": [
    "dlaw_mae = preds_df3[(preds_df3['actual']==1) & (preds_df3['t1']!=preds_df3['t2']) & (preds_df3['pred_prob']>min_p)]['cont_error'].apply(lambda x: abs(x)).mean()\n",
    "dlaw_medae = preds_df3[(preds_df3['actual']==1) & (preds_df3['t1']!=preds_df3['t2']) & (preds_df3['pred_prob']>min_p)]['cont_error'].apply(lambda x: abs(x)).median()\n",
    "dlaw_err_sd = preds_df3[(preds_df3['actual']==1) & (preds_df3['t1']!=preds_df3['t2']) & (preds_df3['pred_prob']>min_p)]['cont_error'].apply(lambda x: abs(x)).std()\n",
    "dlaw_95CI = dlaw_mae+(1.64*dlaw_err_sd)\n",
    "\n",
    "even_split_mae = preds_df3[(preds_df3['actual']==1) & (preds_df3['t1']!=preds_df3['t2']) & (preds_df3['pred_prob']>min_p)]['5050_cont_error'].apply(lambda x: abs(x)).mean()\n",
    "even_split_medae = preds_df3[(preds_df3['actual']==1) & (preds_df3['t1']!=preds_df3['t2']) & (preds_df3['pred_prob']>min_p)]['5050_cont_error'].apply(lambda x: abs(x)).median()\n",
    "even_split_err_sd = preds_df3[(preds_df3['actual']==1) & (preds_df3['t1']!=preds_df3['t2']) & (preds_df3['pred_prob']>min_p)]['5050_cont_error'].apply(lambda x: abs(x)).std()\n",
    "even_split_95CI = even_split_mae+(1.64*even_split_err_sd)\n",
    "\n",
    "\n",
    "lt_mae = preds_df3[(preds_df3['actual']==1) & (preds_df3['t1']!=preds_df3['t2']) & (preds_df3['pred_prob']>min_p)]['last_touch_cont_error'].apply(lambda x: abs(x)).mean()\n",
    "lt_medae = preds_df3[(preds_df3['actual']==1) & (preds_df3['t1']!=preds_df3['t2']) & (preds_df3['pred_prob']>min_p)]['last_touch_cont_error'].apply(lambda x: abs(x)).median()\n",
    "lt_err_sd = preds_df3[(preds_df3['actual']==1) & (preds_df3['t1']!=preds_df3['t2']) & (preds_df3['pred_prob']>min_p)]['last_touch_cont_error'].apply(lambda x: abs(x)).std()\n",
    "lt_95CI = lt_mae+(1.64*lt_err_sd)\n",
    "\n",
    "\n",
    "ft_mae = preds_df3[(preds_df3['actual']==1) & (preds_df3['t1']!=preds_df3['t2']) & (preds_df3['pred_prob']>min_p)]['first_touch_cont_error'].apply(lambda x: abs(x)).mean()\n",
    "ft_medae = preds_df3[(preds_df3['actual']==1) & (preds_df3['t1']!=preds_df3['t2']) & (preds_df3['pred_prob']>min_p)]['first_touch_cont_error'].apply(lambda x: abs(x)).median()\n",
    "ft_err_sd = preds_df3[(preds_df3['actual']==1) & (preds_df3['t1']!=preds_df3['t2']) & (preds_df3['pred_prob']>min_p)]['first_touch_cont_error'].apply(lambda x: abs(x)).std()\n",
    "ft_95CI = ft_mae+(1.64*ft_err_sd)\n",
    "\n",
    "\n",
    "\n",
    "\n",
    "print('DLAW Stats:\\n', 'Mean AE:', round(dlaw_mae, 3), ', Median AE', round(dlaw_medae, 3), '95% CI Error:', round(dlaw_95CI, 3))\n",
    "print('\\n50/50 Split Stats:\\n', 'Mean AE:', round(even_split_mae, 3), ', Median AE', round(even_split_medae, 3), '95% CI Error:', round(even_split_95CI, 3))\n",
    "print('\\nLast Touched Stats:\\n', 'Mean AE:', round(lt_mae, 3), ', Median AE', round(lt_medae, 3), '95% CI Error:', round(lt_95CI, 3))\n",
    "print('\\nFirst Touched Stats:\\n', 'Mean AE:', round(ft_mae, 3), ', Median AE', round(ft_medae, 3), '95% CI Error:', round(ft_95CI, 3))\n",
    "\n",
    "\n"
   ]
  },
  {
   "cell_type": "markdown",
   "metadata": {},
   "source": [
    "#### DLAW Distribution of Residuals"
   ]
  },
  {
   "cell_type": "code",
   "execution_count": 467,
   "metadata": {},
   "outputs": [
    {
     "data": {
      "image/png": "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\n",
      "text/plain": [
       "<Figure size 432x288 with 1 Axes>"
      ]
     },
     "metadata": {
      "needs_background": "light"
     },
     "output_type": "display_data"
    }
   ],
   "source": [
    "_=plt.hist(preds_df3[(preds_df3['actual']==1) & (preds_df3['t1']!=preds_df3['t2']) & (preds_df3['pred_prob']>min_p)]['cont_error'], bins=50)\n"
   ]
  },
  {
   "cell_type": "markdown",
   "metadata": {},
   "source": [
    "#### 50/50 Split Distribution of Residuals"
   ]
  },
  {
   "cell_type": "code",
   "execution_count": 125,
   "metadata": {},
   "outputs": [
    {
     "data": {
      "image/png": "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\n",
      "text/plain": [
       "<Figure size 432x288 with 1 Axes>"
      ]
     },
     "metadata": {
      "needs_background": "light"
     },
     "output_type": "display_data"
    }
   ],
   "source": [
    "_=plt.hist(preds_df3[(preds_df3['actual']==1) & (preds_df3['t1']!=preds_df3['t2']) & (preds_df3['pred_prob']>min_p)]['5050_cont_error'], bins=50)\n"
   ]
  },
  {
   "cell_type": "markdown",
   "metadata": {},
   "source": [
    "#### Last Touched Distribution of Residuals"
   ]
  },
  {
   "cell_type": "code",
   "execution_count": 126,
   "metadata": {},
   "outputs": [
    {
     "data": {
      "image/png": "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\n",
      "text/plain": [
       "<Figure size 432x288 with 1 Axes>"
      ]
     },
     "metadata": {
      "needs_background": "light"
     },
     "output_type": "display_data"
    }
   ],
   "source": [
    "_=plt.hist(preds_df3[(preds_df3['actual']==1) & (preds_df3['t1']!=preds_df3['t2']) & (preds_df3['pred_prob']>min_p)]['last_touch_cont_error'], bins=50)\n"
   ]
  },
  {
   "cell_type": "markdown",
   "metadata": {},
   "source": [
    "#### First Touched Distribution of Residuals"
   ]
  },
  {
   "cell_type": "code",
   "execution_count": 127,
   "metadata": {
    "scrolled": true
   },
   "outputs": [
    {
     "data": {
      "image/png": "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\n",
      "text/plain": [
       "<Figure size 432x288 with 1 Axes>"
      ]
     },
     "metadata": {
      "needs_background": "light"
     },
     "output_type": "display_data"
    }
   ],
   "source": [
    "_=plt.hist(preds_df3[(preds_df3['actual']==1) & (preds_df3['t1']!=preds_df3['t2']) & (preds_df3['pred_prob']>min_p)]['first_touch_cont_error'], bins=50)\n"
   ]
  },
  {
   "cell_type": "markdown",
   "metadata": {},
   "source": [
    " "
   ]
  },
  {
   "cell_type": "markdown",
   "metadata": {},
   "source": [
    " "
   ]
  },
  {
   "cell_type": "markdown",
   "metadata": {},
   "source": [
    "## Impact of Noise on the Model"
   ]
  },
  {
   "cell_type": "markdown",
   "metadata": {},
   "source": [
    "### Distribution of error in False Positives is left skewed as expected. \n",
    "##### The model made the right inference of \"Likely Conversion\" based solely on the inputs available to it onaverage,but was screwed from the get go due to the large, negative error that ended up with the majority of impact in determining the actual conversion status"
   ]
  },
  {
   "cell_type": "code",
   "execution_count": 131,
   "metadata": {},
   "outputs": [
    {
     "data": {
      "image/png": "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\n",
      "text/plain": [
       "<Figure size 432x288 with 1 Axes>"
      ]
     },
     "metadata": {
      "needs_background": "light"
     },
     "output_type": "display_data"
    }
   ],
   "source": [
    "_=plt.hist(preds_df2[(preds_df2['actual']==0) & (preds_df2['pred']==True)]['epsilon'], bins=30)"
   ]
  },
  {
   "cell_type": "markdown",
   "metadata": {},
   "source": [
    "### Distribution of error in True Positives is more symmetrical and centered closer to zero\n"
   ]
  },
  {
   "cell_type": "code",
   "execution_count": 134,
   "metadata": {},
   "outputs": [
    {
     "data": {
      "image/png": "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\n",
      "text/plain": [
       "<Figure size 432x288 with 1 Axes>"
      ]
     },
     "metadata": {
      "needs_background": "light"
     },
     "output_type": "display_data"
    }
   ],
   "source": [
    "_=plt.hist(preds_df2[(preds_df2['actual']==1) & (preds_df2['pred']==True)]['epsilon'], bins=30)"
   ]
  },
  {
   "cell_type": "markdown",
   "metadata": {},
   "source": [
    "### Distribution of error in False Negatives is right skewed as expected\n"
   ]
  },
  {
   "cell_type": "code",
   "execution_count": 133,
   "metadata": {},
   "outputs": [
    {
     "data": {
      "image/png": "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\n",
      "text/plain": [
       "<Figure size 432x288 with 1 Axes>"
      ]
     },
     "metadata": {
      "needs_background": "light"
     },
     "output_type": "display_data"
    }
   ],
   "source": [
    "_=plt.hist(preds_df2[(preds_df2['actual']==1) & (preds_df2['pred']==False)]['epsilon'], bins=30)"
   ]
  },
  {
   "cell_type": "markdown",
   "metadata": {},
   "source": [
    "### Distribution of error in True Negatives is more symmetrical and centered closer to zero\n"
   ]
  },
  {
   "cell_type": "code",
   "execution_count": 1811,
   "metadata": {},
   "outputs": [
    {
     "data": {
      "text/plain": [
       "(array([1.000e+00, 0.000e+00, 2.000e+00, 5.000e+00, 6.000e+00, 1.300e+01,\n",
       "        3.000e+01, 5.200e+01, 8.500e+01, 1.600e+02, 2.410e+02, 4.020e+02,\n",
       "        5.940e+02, 8.130e+02, 1.017e+03, 1.366e+03, 1.619e+03, 1.853e+03,\n",
       "        1.916e+03, 2.050e+03, 2.030e+03, 1.866e+03, 1.632e+03, 1.364e+03,\n",
       "        1.187e+03, 7.830e+02, 4.900e+02, 1.980e+02, 4.300e+01, 1.600e+01]),\n",
       " array([-4.40693411, -4.18301038, -3.95908665, -3.73516292, -3.51123919,\n",
       "        -3.28731547, -3.06339174, -2.83946801, -2.61554428, -2.39162055,\n",
       "        -2.16769682, -1.94377309, -1.71984937, -1.49592564, -1.27200191,\n",
       "        -1.04807818, -0.82415445, -0.60023072, -0.37630699, -0.15238326,\n",
       "         0.07154046,  0.29546419,  0.51938792,  0.74331165,  0.96723538,\n",
       "         1.19115911,  1.41508284,  1.63900656,  1.86293029,  2.08685402,\n",
       "         2.31077775]),\n",
       " <a list of 30 Patch objects>)"
      ]
     },
     "execution_count": 1811,
     "metadata": {},
     "output_type": "execute_result"
    },
    {
     "data": {
      "image/png": "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\n",
      "text/plain": [
       "<Figure size 432x288 with 1 Axes>"
      ]
     },
     "metadata": {
      "needs_background": "light"
     },
     "output_type": "display_data"
    }
   ],
   "source": [
    "plt.hist(preds_df2[(preds_df2['actual']==0) & (preds_df2['pred']==False)]['epsilon'], bins=30)"
   ]
  },
  {
   "cell_type": "markdown",
   "metadata": {},
   "source": [
    "### In the cases of False Positive and False Negative: the model made the right inference of \"Likely Conversion\" or \"Unlikely Conversion\", respectively, based solely on the inputs available to it on average.\n",
    "### However it was screwed from the get go due to the large, negative or positive error, respectively, that ended up with the majority of impact in determining the actual conversion status"
   ]
  },
  {
   "cell_type": "markdown",
   "metadata": {},
   "source": [
    " "
   ]
  },
  {
   "cell_type": "markdown",
   "metadata": {},
   "source": [
    " "
   ]
  },
  {
   "cell_type": "markdown",
   "metadata": {},
   "source": [
    "# Accuracy of Y Prediction\n",
    "### *This is secondary to the main purpose of the model which is to learn attribution percentages, and is mostly unimportant given the simplicity of the DGP in the simulation. However, a model with better performance is more likely to specify the parameters correctly so improving the prediction accuracy can be expected to improve attribution accuracy as well."
   ]
  },
  {
   "cell_type": "code",
   "execution_count": 137,
   "metadata": {},
   "outputs": [
    {
     "name": "stdout",
     "output_type": "stream",
     "text": [
      "Test Accuracy: 0.8966333333333333\n"
     ]
    },
    {
     "data": {
      "text/html": [
       "<div>\n",
       "<style scoped>\n",
       "    .dataframe tbody tr th:only-of-type {\n",
       "        vertical-align: middle;\n",
       "    }\n",
       "\n",
       "    .dataframe tbody tr th {\n",
       "        vertical-align: top;\n",
       "    }\n",
       "\n",
       "    .dataframe thead th {\n",
       "        text-align: right;\n",
       "    }\n",
       "</style>\n",
       "<table border=\"1\" class=\"dataframe\">\n",
       "  <thead>\n",
       "    <tr style=\"text-align: right;\">\n",
       "      <th></th>\n",
       "      <th>pred_False</th>\n",
       "      <th>pred_True</th>\n",
       "    </tr>\n",
       "  </thead>\n",
       "  <tbody>\n",
       "    <tr>\n",
       "      <th>0</th>\n",
       "      <td>25436</td>\n",
       "      <td>1518</td>\n",
       "    </tr>\n",
       "    <tr>\n",
       "      <th>1</th>\n",
       "      <td>1583</td>\n",
       "      <td>1463</td>\n",
       "    </tr>\n",
       "  </tbody>\n",
       "</table>\n",
       "</div>"
      ],
      "text/plain": [
       "   pred_False  pred_True\n",
       "0  25436       1518     \n",
       "1  1583        1463     "
      ]
     },
     "execution_count": 137,
     "metadata": {},
     "output_type": "execute_result"
    }
   ],
   "source": [
    "conf = confusion_matrix(preds_df2['actual'], preds_df2['pred'])\n",
    "conf = pd.DataFrame(conf)\n",
    "conf.rename(columns={0:'pred_False', 1:'pred_True'}, inplace=True)\n",
    "print('Test Accuracy:', accuracy_score(preds_df2['actual'], preds_df2['pred']))\n",
    "conf"
   ]
  },
  {
   "cell_type": "markdown",
   "metadata": {},
   "source": [
    "## Error Distributions Correlations with Features"
   ]
  },
  {
   "cell_type": "code",
   "execution_count": 140,
   "metadata": {},
   "outputs": [
    {
     "data": {
      "image/png": "iVBORw0KGgoAAAANSUhEUgAAAXcAAAD4CAYAAAAXUaZHAAAABHNCSVQICAgIfAhkiAAAAAlwSFlzAAALEgAACxIB0t1+/AAAADh0RVh0U29mdHdhcmUAbWF0cGxvdGxpYiB2ZXJzaW9uMy4xLjMsIGh0dHA6Ly9tYXRwbG90bGliLm9yZy+AADFEAAAPwElEQVR4nO3df4xlZX3H8fenrGBBK79WS5eVWeJGi00NdGMRG6uuiQLVpakkGFtXu83GFq2WpnUtSW36TyFpijVtbCjYQGIQi7ZQf7SlgGlas2sHRH64IstKYQuVUX4oNf7AfvvHfUYuszM7d5h7Z4an71cymXOe5zn3fOeZs585c87cs6kqJEl9+bHVLkCSNH6GuyR1yHCXpA4Z7pLUIcNdkjq0brULADj++ONrampqtcuQpGeUm2+++RtVtX6+vjUR7lNTU0xPT692GZL0jJLkPxfq87KMJHXIcJekDhnuktQhw12SOmS4S1KHDHdJ6pDhLkkdMtwlqUOGuyR1aE28Q3U5pnZ9etX2fe9FZ6/aviXpUDxzl6QOGe6S1CHDXZI6ZLhLUocMd0nqkOEuSR0y3CWpQ4a7JHXIcJekDhnuktQhw12SOmS4S1KHDHdJ6pDhLkkdMtwlqUOGuyR1yHCXpA4Z7pLUIcNdkjpkuEtShwx3SeqQ4S5JHTLcJalDhrskdchwl6QOGe6S1CHDXZI6ZLhLUodGCvckv5PkziR3JLkqybOTbEqyJ8ndSa5Ocngbe0Rb39f6pyb5BUiSDrZouCfZAPw2sKWqfgY4DDgPuBi4pKo2A48AO9omO4BHqupFwCVtnCRpBY16WWYd8ONJ1gFHAg8CrwWuaf1XAOe05W1tnda/NUnGU64kaRSLhntV/Rfwp8B9DEL9MeBm4NGqeqINOwBsaMsbgPvbtk+08cfNfd0kO5NMJ5memZlZ7tchSRoyymWZYxicjW8Cfgo4CjhznqE1u8kh+p5sqLq0qrZU1Zb169ePXrEkaVGjXJZ5HfC1qpqpqh8AnwTOAI5ul2kATgQeaMsHgI0Arf95wMNjrVqSdEijhPt9wOlJjmzXzrcCXwZuAt7cxmwHrm3L17V1Wv+NVXXQmbskaXJGuea+h8GN0VuA29s2lwLvAy5Iso/BNfXL2yaXA8e19guAXROoW5J0COsWHwJV9QHgA3Oa9wMvn2fsd4Fzl1+aJOnp8h2qktQhw12SOmS4S1KHDHdJ6pDhLkkdMtwlqUOGuyR1yHCXpA4Z7pLUIcNdkjpkuEtShwx3SeqQ4S5JHTLcJalDhrskdchwl6QOGe6S1CHDXZI6ZLhLUocMd0nqkOEuSR0y3CWpQ4a7JHXIcJekDhnuktQhw12SOmS4S1KHDHdJ6pDhLkkdMtwlqUOGuyR1yHCXpA4Z7pLUIcNdkjpkuEtSh0YK9yRHJ7kmyVeS7E3yiiTHJrk+yd3t8zFtbJJ8KMm+JLclOW2yX4Ikaa5Rz9z/HPjHqnoJ8DJgL7ALuKGqNgM3tHWAM4HN7WMn8OGxVixJWtSi4Z7kJ4BXAZcDVNX3q+pRYBtwRRt2BXBOW94GXFkDu4Gjk5ww9solSQsa5cz9ZGAG+JskX0xyWZKjgBdU1YMA7fPz2/gNwP1D2x9obU+RZGeS6STTMzMzy/oiJElPNUq4rwNOAz5cVacC/8OTl2Dmk3na6qCGqkuraktVbVm/fv1IxUqSRjNKuB8ADlTVnrZ+DYOw//rs5Zb2+aGh8RuHtj8ReGA85UqSRrFouFfVfwP3J3lxa9oKfBm4Dtje2rYD17bl64C3tb+aOR14bPbyjSRpZawbcdy7gY8mORzYD7yDwQ+GjyfZAdwHnNvGfgY4C9gHfKeNlSStoJHCvapuBbbM07V1nrEFnL/MuiRJy+A7VCWpQ4a7JHXIcJekDhnuktQhw12SOmS4S1KHDHdJ6pDhLkkdMtwlqUOGuyR1yHCXpA4Z7pLUIcNdkjpkuEtShwx3SeqQ4S5JHTLcJalDhrskdchwl6QOGe6S1CHDXZI6ZLhLUocMd0nqkOEuSR0y3CWpQ4a7JHXIcJekDhnuktQhw12SOmS4S1KHDHdJ6pDhLkkdMtwlqUOGuyR1aORwT3JYki8m+VRb35RkT5K7k1yd5PDWfkRb39f6pyZTuiRpIUs5c38PsHdo/WLgkqraDDwC7GjtO4BHqupFwCVtnCRpBY0U7klOBM4GLmvrAV4LXNOGXAGc05a3tXVa/9Y2XpK0QkY9c/8g8PvA/7b144BHq+qJtn4A2NCWNwD3A7T+x9p4SdIKWTTck/wS8FBV3TzcPM/QGqFv+HV3JplOMj0zMzNSsZKk0Yxy5v5K4E1J7gU+xuByzAeBo5Osa2NOBB5oyweAjQCt/3nAw3NftKouraotVbVl/fr1y/oiJElPtWi4V9X7q+rEqpoCzgNurKq3AjcBb27DtgPXtuXr2jqt/8aqOujMXZI0Ocv5O/f3ARck2cfgmvrlrf1y4LjWfgGwa3klSpKWat3iQ55UVZ8DPteW9wMvn2fMd4Fzx1CbJOlp8h2qktQhw12SOrSkyzLS/zdTuz69avu+96KzV23feubzzF2SOmS4S1KHDHdJ6pDhLkkdMtwlqUOGuyR1yHCXpA4Z7pLUIcNdkjpkuEtShwx3SeqQ4S5JHTLcJalDhrskdchwl6QOGe6S1CHDXZI6ZLhLUocMd0nqkOEuSR0y3CWpQ+tWuwBJWm1Tuz69avu+96KzJ/K6nrlLUocMd0nqkOEuSR0y3CWpQ4a7JHXIcJekDhnuktQhw12SOmS4S1KHDHdJ6tCi4Z5kY5KbkuxNcmeS97T2Y5Ncn+Tu9vmY1p4kH0qyL8ltSU6b9BchSXqqUc7cnwB+t6p+GjgdOD/JKcAu4Iaq2gzc0NYBzgQ2t4+dwIfHXrUk6ZAWDfeqerCqbmnL3wb2AhuAbcAVbdgVwDlteRtwZQ3sBo5OcsLYK5ckLWhJ19yTTAGnAnuAF1TVgzD4AQA8vw3bANw/tNmB1jb3tXYmmU4yPTMzs/TKJUkLGjnckzwH+ATw3qr61qGGztNWBzVUXVpVW6pqy/r160ctQ5I0gpHCPcmzGAT7R6vqk63567OXW9rnh1r7AWDj0OYnAg+Mp1xJ0ihG+WuZAJcDe6vqz4a6rgO2t+XtwLVD7W9rfzVzOvDY7OUbSdLKGOV/Ynol8GvA7UlubW1/AFwEfDzJDuA+4NzW9xngLGAf8B3gHWOtWJK0qEXDvar+jfmvowNsnWd8Aecvsy5J0jL4DlVJ6pDhLkkdMtwlqUOGuyR1yHCXpA4Z7pLUIcNdkjpkuEtShwx3SeqQ4S5JHTLcJalDhrskdchwl6QOGe6S1CHDXZI6ZLhLUocMd0nqkOEuSR0y3CWpQ4a7JHXIcJekDhnuktQhw12SOmS4S1KHDHdJ6pDhLkkdMtwlqUOGuyR1yHCXpA4Z7pLUIcNdkjpkuEtShwx3SeqQ4S5JHTLcJalDEwn3JG9IcleSfUl2TWIfkqSFjT3ckxwG/CVwJnAK8JYkp4x7P5KkhU3izP3lwL6q2l9V3wc+BmybwH4kSQtYN4HX3ADcP7R+APj5uYOS7AR2ttXHk9z1NPd3PPCNp7ntsuTiQ3avWl2LsK6lWavHFzhnS7Um68rFy6rrpIU6JhHumaetDmqouhS4dNk7S6arastyX2fcrGtprGvp1mpt1rU0k6prEpdlDgAbh9ZPBB6YwH4kSQuYRLj/B7A5yaYkhwPnAddNYD+SpAWM/bJMVT2R5F3APwGHAR+pqjvHvZ8hy760MyHWtTTWtXRrtTbrWpqJ1JWqgy6HS5Ke4XyHqiR1yHCXpA6t6XBf7DEGSY5IcnXr35Nkaqjv/a39riSvX+G6Lkjy5SS3JbkhyUlDfT9Mcmv7GOuN5hHqenuSmaH9/8ZQ3/Ykd7eP7Stc1yVDNX01yaNDfZOcr48keSjJHQv0J8mHWt23JTltqG8i8zVCTW9ttdyW5PNJXjbUd2+S29tcTY+rpiXU9uokjw19v/5wqG9ijyQZoa7fG6rpjnZMHdv6JjJnSTYmuSnJ3iR3JnnPPGMme3xV1Zr8YHAz9h7gZOBw4EvAKXPG/BbwV235PODqtnxKG38EsKm9zmErWNdrgCPb8m/O1tXWH1/F+Xo78BfzbHsssL99PqYtH7NSdc0Z/24GN+EnOl/ttV8FnAbcsUD/WcBnGbx343RgzwrM12I1nTG7LwaP+Ngz1HcvcPwqztergU8t9xgYd11zxr4RuHHScwacAJzWlp8LfHWef48TPb7W8pn7KI8x2AZc0ZavAbYmSWv/WFV9r6q+Buxrr7cidVXVTVX1nba6m8Hf+k/ach778Hrg+qp6uKoeAa4H3rBKdb0FuGpM+z6kqvpX4OFDDNkGXFkDu4Gjk5zABOdrsZqq6vNtn7Byx9bsvhebr4VM9JEkS6xrRY6vqnqwqm5py98G9jJ49/6wiR5faznc53uMwdzJ+dGYqnoCeAw4bsRtJ1nXsB0MfjrPenaS6SS7k5wzppqWUtevtF8Br0ky+2azNTFf7fLVJuDGoeZJzdcoFqp9kvO1FHOPrQL+OcnNGTzeYzW8IsmXknw2yUtb25qYryRHMgjJTww1T3zOMrhcfCqwZ07XRI+vSTx+YFxGeYzBQmNGegTC0zTyayf5VWAL8ItDzS+sqgeSnAzcmOT2qrpnher6B+Cqqvpekncy+K3ntSNuO8m6Zp0HXFNVPxxqm9R8jWI1jq+RJHkNg3D/haHmV7a5ej5wfZKvtLPalXILcFJVPZ7kLODvgc2sgflq3gj8e1UNn+VPdM6SPIfBD5P3VtW35nbPs8nYjq+1fOY+ymMMfjQmyTrgeQx+PZvkIxBGeu0krwMuBN5UVd+bba+qB9rn/cDnGPxEX5G6quqbQ7X8NfBzo247ybqGnMecX5knOF+jWKj2VX3ERpKfBS4DtlXVN2fbh+bqIeDvGN+lyJFU1beq6vG2/BngWUmOZ+08kuRQx9fY5yzJsxgE+0er6pPzDJns8TXuGwljvCGxjsGNhE08eRPmpXPGnM9Tb6h+vC2/lKfeUN3P+G6ojlLXqQxuIG2e034McERbPh64mzHdWBqxrhOGln8Z2F1P3sD5WqvvmLZ87ErV1ca9mMHNrazEfA3tY4qFbxCezVNveH1h0vM1Qk0vZHAP6Yw57UcBzx1a/jzwhnHO1Qi1/eTs949BSN7X5m6kY2BSdbX+2RO/o1ZiztrXfSXwwUOMmejxNdZv/AQOpLMY3GW+B7iwtf0xg7NhgGcDf9sO9i8AJw9te2Hb7i7gzBWu61+ArwO3to/rWvsZwO3t4L4d2LHCdf0JcGfb/03AS4a2/fU2j/uAd6xkXW39j4CL5mw36fm6CngQ+AGDs6UdwDuBd7b+MPiPZ+5p+98y6fkaoabLgEeGjq3p1n5ym6cvte/xheOcqxFre9fQ8bWboR9A8x0DK1VXG/N2Bn9kMbzdxOaMweWyAm4b+l6dtZLHl48fkKQOreVr7pKkp8lwl6QOGe6S1CHDXZI6ZLhLUocMd0nqkOEuSR36P4lwid/rGVDEAAAAAElFTkSuQmCC\n",
      "text/plain": [
       "<Figure size 432x288 with 1 Axes>"
      ]
     },
     "metadata": {
      "needs_background": "light"
     },
     "output_type": "display_data"
    }
   ],
   "source": [
    "_=plt.hist(preds_df2[(preds_df2['actual']==1) & (preds_df2['pred']==False)]['t2'])"
   ]
  },
  {
   "cell_type": "markdown",
   "metadata": {},
   "source": [
    "### False positives appear to be worse for Google (1) in T1 and Facebook (0) in T2"
   ]
  },
  {
   "cell_type": "code",
   "execution_count": 121,
   "metadata": {
    "scrolled": true
   },
   "outputs": [
    {
     "data": {
      "image/png": "iVBORw0KGgoAAAANSUhEUgAAAXcAAAD4CAYAAAAXUaZHAAAABHNCSVQICAgIfAhkiAAAAAlwSFlzAAALEgAACxIB0t1+/AAAADh0RVh0U29mdHdhcmUAbWF0cGxvdGxpYiB2ZXJzaW9uMy4xLjMsIGh0dHA6Ly9tYXRwbG90bGliLm9yZy+AADFEAAAPwklEQVR4nO3df4xlZX3H8fenrEDBH/xaLV3QgbjRYlMD3VjExqqYKFBdmkqCsXW122xs0WppWteS1Kb/FJKmWNPGhoINJAaxaAv1R1sKmKY1rB0Q+eGKLEhhC5VRfig1/sB++8d9Vi7DzM4Z5t6Z4cn7lUzmnOd5zj3feebsZ86cM/dsqgpJUl9+Yq0LkCRNnuEuSR0y3CWpQ4a7JHXIcJekDm1Y6wIAjjrqqJqZmVnrMiTpGeXGG2/8ZlVtXKhvXYT7zMwMs7Oza12GJD2jJPmvxfq8LCNJHTLcJalDhrskdchwl6QOGe6S1CHDXZI6ZLhLUocMd0nqkOEuSR1aF+9QldarmZ2fWbN933P+GWu2bz3zeeYuSR0y3CWpQ4a7JHXIcJekDhnuktQhw12SOmS4S1KHDHdJ6pDhLkkdMtwlqUOGuyR1yHCXpA4Z7pLUIcNdkjpkuEtShwx3SeqQ4S5JHTLcJalDhrskdchwl6QOGe6S1CHDXZI6ZLhLUocMd0nqkOEuSR0y3CWpQ4a7JHXIcJekDg0K9yS/m+T2JLcluTzJwUmOS7IryZ1JrkhyYBt7UFvf0/pnpvkFSJKeaslwT7IJ+B1gS1X9LHAAcDZwAXBhVW0GHga2t022Aw9X1YuBC9s4SdIqGnpZZgPwk0k2AIcADwCvA65s/ZcCZ7blrW2d1n9qkkymXEnSEEuGe1X9N/BnwL2MQv1R4Ebgkap6vA3bC2xqy5uA+9q2j7fxR062bEnS/gy5LHM4o7Px44CfBg4FTltgaO3bZD9946+7I8lsktm5ubnhFUuSljTksszrga9X1VxV/RD4FHAKcFi7TANwDHB/W94LHAvQ+p8HPDT/RavqoqraUlVbNm7cuMIvQ5I0bki43wucnOSQdu38VOArwPXAW9qYbcBVbfnqtk7rv66qnnLmLkmaniHX3HcxujF6E3Br2+Yi4P3AuUn2MLqmfknb5BLgyNZ+LrBzCnVLkvZjw9JDoKo+CHxwXvPdwCsWGPs94KyVlyZJerp8h6okdchwl6QOGe6S1CHDXZI6ZLhLUocMd0nqkOEuSR0y3CWpQ4a7JHXIcJekDhnuktQhw12SOmS4S1KHDHdJ6pDhLkkdMtwlqUOGuyR1yHCXpA4Z7pLUIcNdkjpkuEtShwx3SeqQ4S5JHTLcJalDhrskdchwl6QOGe6S1CHDXZI6ZLhLUocMd0nqkOEuSR0y3CWpQ4a7JHXIcJekDhnuktShQeGe5LAkVyb5apLdSV6Z5Igk1yS5s30+vI1Nkg8n2ZPkliQnTfdLkCTNN/TM/S+Af6qqlwIvB3YDO4Frq2ozcG1bBzgN2Nw+dgAfmWjFkqQlLRnuSZ4LvBq4BKCqflBVjwBbgUvbsEuBM9vyVuCyGrkBOCzJ0ROvXJK0qCFn7scDc8DfJvlSkouTHAq8oKoeAGifn9/GbwLuG9t+b2t7kiQ7kswmmZ2bm1vRFyFJerIh4b4BOAn4SFWdCPwvT1yCWUgWaKunNFRdVFVbqmrLxo0bBxUrSRpmSLjvBfZW1a62fiWjsP/Gvsst7fODY+OPHdv+GOD+yZQrSRpiyXCvqv8B7kvyktZ0KvAV4GpgW2vbBlzVlq8G3t7+auZk4NF9l28kSatjw8Bx7wE+luRA4G7gnYx+MHwiyXbgXuCsNvazwOnAHuC7bawkaRUNCvequhnYskDXqQuMLeCcFdYlSVoB36EqSR0y3CWpQ4a7JHXIcJekDhnuktQhw12SOmS4S1KHDHdJ6pDhLkkdMtwlqUOGuyR1yHCXpA4Z7pLUIcNdkjpkuEtShwx3SeqQ4S5JHTLcJalDhrskdchwl6QOGe6S1CHDXZI6ZLhLUocMd0nqkOEuSR3asNYFrNTMzs+s2b7vOf+MNdu3JO2PZ+6S1CHDXZI6ZLhLUocMd0nqkOEuSR0y3CWpQ4a7JHXIcJekDhnuktShweGe5IAkX0ry6bZ+XJJdSe5MckWSA1v7QW19T+ufmU7pkqTFLOfM/b3A7rH1C4ALq2oz8DCwvbVvBx6uqhcDF7ZxkqRVNCjckxwDnAFc3NYDvA64sg25FDizLW9t67T+U9t4SdIqGXrm/iHgD4D/a+tHAo9U1eNtfS+wqS1vAu4DaP2PtvFPkmRHktkks3Nzc0+zfEnSQpYM9yS/DDxYVTeONy8wtAb0PdFQdVFVbamqLRs3bhxUrCRpmCGP/H0V8OYkpwMHA89ldCZ/WJIN7ez8GOD+Nn4vcCywN8kG4HnAQxOvXJK0qCXP3KvqA1V1TFXNAGcD11XV24Drgbe0YduAq9ry1W2d1n9dVT3lzF2SND0r+Tv39wPnJtnD6Jr6Ja39EuDI1n4usHNlJUqSlmtZ/xNTVX0e+Hxbvht4xQJjvgecNYHaJElPk+9QlaQOGe6S1CHDXZI6ZLhLUocMd0nqkOEuSR0y3CWpQ4a7JHXIcJekDhnuktQhw12SOmS4S1KHDHdJ6pDhLkkdMtwlqUOGuyR1yHCXpA4Z7pLUIcNdkjpkuEtShwx3SeqQ4S5JHTLcJalDhrskdchwl6QOGe6S1CHDXZI6ZLhLUocMd0nqkOEuSR0y3CWpQ4a7JHXIcJekDhnuktShJcM9ybFJrk+yO8ntSd7b2o9Ick2SO9vnw1t7knw4yZ4ktyQ5adpfhCTpyYacuT8O/F5V/QxwMnBOkhOAncC1VbUZuLatA5wGbG4fO4CPTLxqSdJ+LRnuVfVAVd3Ulr8D7AY2AVuBS9uwS4Ez2/JW4LIauQE4LMnRE69ckrSoZV1zTzIDnAjsAl5QVQ/A6AcA8Pw2bBNw39hme1vb/NfakWQ2yezc3NzyK5ckLWpwuCd5NvBJ4H1V9e39DV2grZ7SUHVRVW2pqi0bN24cWoYkaYBB4Z7kWYyC/WNV9anW/I19l1va5wdb+17g2LHNjwHun0y5kqQhhvy1TIBLgN1V9edjXVcD29ryNuCqsfa3t7+aORl4dN/lG0nS6tgwYMyrgF8Hbk1yc2v7Q+B84BNJtgP3Ame1vs8CpwN7gO8C75xoxZKkJS0Z7lX17yx8HR3g1AXGF3DOCuuSJK2A71CVpA4Z7pLUIcNdkjpkuEtShwx3SeqQ4S5JHTLcJalDhrskdchwl6QOGe6S1CHDXZI6ZLhLUocMd0nqkOEuSR0a8jx3SerazM7PrNm+7zn/jKm8rmfuktQhw12SOmS4S1KHDHdJ6pDhLkkdMtwlqUOGuyR1yHCXpA4Z7pLUIcNdkjpkuEtShwx3SeqQ4S5JHTLcJalDhrskdchwl6QOGe6S1CHDXZI6ZLhLUocMd0nq0FTCPckbk9yRZE+SndPYhyRpcRMP9yQHAH8FnAacALw1yQmT3o8kaXHTOHN/BbCnqu6uqh8AHwe2TmE/kqRFbJjCa24C7htb3wv8wvxBSXYAO9rqY0nueJr7Owr45tPcdkVywX6716yuJVjX8qzX4wucs+Val3XlghXV9aLFOqYR7lmgrZ7SUHURcNGKd5bMVtWWlb7OpFnX8ljX8q3X2qxreaZV1zQuy+wFjh1bPwa4fwr7kSQtYhrh/p/A5iTHJTkQOBu4egr7kSQtYuKXZarq8STvBv4ZOAD4aFXdPun9jFnxpZ0psa7lsa7lW6+1WdfyTKWuVD3lcrgk6RnOd6hKUocMd0nq0LoO96UeY5DkoCRXtP5dSWbG+j7Q2u9I8oZVruvcJF9JckuSa5O8aKzvR0lubh8TvdE8oK53JJkb2/9vjvVtS3Jn+9i2ynVdOFbT15I8MtY3zfn6aJIHk9y2SH+SfLjVfUuSk8b6pjJfA2p6W6vlliRfSPLysb57ktza5mp2UjUto7bXJHl07Pv1R2N9U3skyYC6fn+sptvaMXVE65vKnCU5Nsn1SXYnuT3JexcYM93jq6rW5Qejm7F3AccDBwJfBk6YN+a3gb9uy2cDV7TlE9r4g4Dj2uscsIp1vRY4pC3/1r662vpjazhf7wD+coFtjwDubp8Pb8uHr1Zd88a/h9FN+KnOV3vtVwMnAbct0n868DlG7904Gdi1CvO1VE2n7NsXo0d87Brruwc4ag3n6zXAp1d6DEy6rnlj3wRcN+05A44GTmrLzwG+tsC/x6keX+v5zH3IYwy2Ape25SuBU5OktX+8qr5fVV8H9rTXW5W6qur6qvpuW72B0d/6T9tKHvvwBuCaqnqoqh4GrgHeuEZ1vRW4fEL73q+q+jfgof0M2QpcViM3AIclOZopztdSNVXVF9o+YfWOrX37Xmq+FjPVR5Iss65VOb6q6oGquqktfwfYzejd++Omenyt53Bf6DEG8yfnx2Oq6nHgUeDIgdtOs65x2xn9dN7n4CSzSW5IcuaEalpOXb/afgW8Msm+N5uti/lql6+OA64ba57WfA2xWO3TnK/lmH9sFfAvSW7M6PEea+GVSb6c5HNJXtba1sV8JTmEUUh+cqx56nOW0eXiE4Fd87qmenxN4/EDkzLkMQaLjRn0CISnafBrJ/k1YAvwS2PNL6yq+5McD1yX5NaqumuV6vpH4PKq+n6SdzH6red1A7edZl37nA1cWVU/Gmub1nwNsRbH1yBJXsso3H9xrPlVba6eD1yT5KvtrHa13AS8qKoeS3I68A/AZtbBfDVvAv6jqsbP8qc6Z0mezeiHyfuq6tvzuxfYZGLH13o+cx/yGIMfj0myAXgeo1/PpvkIhEGvneT1wHnAm6vq+/vaq+r+9vlu4POMfqKvSl1V9a2xWv4G+Pmh206zrjFnM+9X5inO1xCL1b6mj9hI8nPAxcDWqvrWvvaxuXoQ+HsmdylykKr6dlU91pY/CzwryVGsn0eS7O/4mvicJXkWo2D/WFV9aoEh0z2+Jn0jYYI3JDYwupFwHE/chHnZvDHn8OQbqp9oyy/jyTdU72ZyN1SH1HUioxtIm+e1Hw4c1JaPAu5kQjeWBtZ19NjyrwA31BM3cL7e6ju8LR+xWnW1cS9hdHMrqzFfY/uYYfEbhGfw5BteX5z2fA2o6YWM7iGdMq/9UOA5Y8tfAN44ybkaUNtP7fv+MQrJe9vcDToGplVX69934nfoasxZ+7ovAz60nzFTPb4m+o2fwoF0OqO7zHcB57W2P2F0NgxwMPB37WD/InD82Lbnte3uAE5b5br+FfgGcHP7uLq1nwLc2g7uW4Htq1zXnwK3t/1fD7x0bNvfaPO4B3jnatbV1v8YOH/edtOer8uBB4AfMjpb2g68C3hX6w+j/3jmrrb/LdOerwE1XQw8PHZszbb249s8fbl9j8+b5FwNrO3dY8fXDYz9AFroGFitutqYdzD6I4vx7aY2Z4wulxVwy9j36vTVPL58/IAkdWg9X3OXJD1Nhrskdchwl6QOGe6S1CHDXZI6ZLhLUocMd0nq0P8DTBeNVFR9m1kAAAAASUVORK5CYII=\n",
      "text/plain": [
       "<Figure size 432x288 with 1 Axes>"
      ]
     },
     "metadata": {
      "needs_background": "light"
     },
     "output_type": "display_data"
    }
   ],
   "source": [
    "_=plt.hist(preds_df2[(preds_df2['actual']==0) & (preds_df2['pred']==True)]['t1'])"
   ]
  },
  {
   "cell_type": "code",
   "execution_count": 138,
   "metadata": {
    "scrolled": true
   },
   "outputs": [
    {
     "data": {
      "image/png": "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\n",
      "text/plain": [
       "<Figure size 432x288 with 1 Axes>"
      ]
     },
     "metadata": {
      "needs_background": "light"
     },
     "output_type": "display_data"
    }
   ],
   "source": [
    "_=plt.hist(preds_df2[(preds_df2['actual']==0) & (preds_df2['pred']==True)]['t2'])"
   ]
  },
  {
   "cell_type": "code",
   "execution_count": null,
   "metadata": {},
   "outputs": [],
   "source": []
  },
  {
   "cell_type": "markdown",
   "metadata": {},
   "source": [
    "### False Negatives appear to be worse for Facebook (0) in T2"
   ]
  },
  {
   "cell_type": "code",
   "execution_count": 142,
   "metadata": {
    "scrolled": true
   },
   "outputs": [
    {
     "data": {
      "image/png": "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\n",
      "text/plain": [
       "<Figure size 432x288 with 1 Axes>"
      ]
     },
     "metadata": {
      "needs_background": "light"
     },
     "output_type": "display_data"
    }
   ],
   "source": [
    "_=plt.hist(preds_df2[(preds_df2['actual']==1) & (preds_df2['pred']==False)]['t1'])"
   ]
  },
  {
   "cell_type": "code",
   "execution_count": 143,
   "metadata": {
    "scrolled": true
   },
   "outputs": [
    {
     "data": {
      "image/png": "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\n",
      "text/plain": [
       "<Figure size 432x288 with 1 Axes>"
      ]
     },
     "metadata": {
      "needs_background": "light"
     },
     "output_type": "display_data"
    }
   ],
   "source": [
    "_=plt.hist(preds_df2[(preds_df2['actual']==1) & (preds_df2['pred']==False)]['t2'])"
   ]
  },
  {
   "cell_type": "markdown",
   "metadata": {},
   "source": [
    "### Elapsed time (gap1) distribution for False Negative"
   ]
  },
  {
   "cell_type": "code",
   "execution_count": 123,
   "metadata": {},
   "outputs": [
    {
     "data": {
      "image/png": "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\n",
      "text/plain": [
       "<Figure size 432x288 with 1 Axes>"
      ]
     },
     "metadata": {
      "needs_background": "light"
     },
     "output_type": "display_data"
    }
   ],
   "source": [
    "_=plt.hist(preds_df2[(preds_df2['actual']==1) & (preds_df2['pred']==False)]['gap1'])"
   ]
  },
  {
   "cell_type": "markdown",
   "metadata": {},
   "source": [
    "### Elapsed time (gap1) distribution for False Positive"
   ]
  },
  {
   "cell_type": "code",
   "execution_count": 141,
   "metadata": {},
   "outputs": [
    {
     "data": {
      "text/plain": [
       "(array([189., 359., 185., 172., 215., 152., 104.,  55.,  45.,  42.]),\n",
       " array([0.12472287, 0.61032124, 1.0959196 , 1.58151797, 2.06711634,\n",
       "        2.5527147 , 3.03831307, 3.52391144, 4.00950981, 4.49510817,\n",
       "        4.98070654]),\n",
       " <a list of 10 Patch objects>)"
      ]
     },
     "execution_count": 141,
     "metadata": {},
     "output_type": "execute_result"
    },
    {
     "data": {
      "image/png": "iVBORw0KGgoAAAANSUhEUgAAAXcAAAD4CAYAAAAXUaZHAAAABHNCSVQICAgIfAhkiAAAAAlwSFlzAAALEgAACxIB0t1+/AAAADh0RVh0U29mdHdhcmUAbWF0cGxvdGxpYiB2ZXJzaW9uMy4xLjMsIGh0dHA6Ly9tYXRwbG90bGliLm9yZy+AADFEAAAQI0lEQVR4nO3df6xfdX3H8edrBdGgW2FcSNc2u8R1m2hiIXeVhGRx4JQfZsVkLJBMiSGpSzDBzGwW/1GXkdRkymK2kdTBLJsTG9HQCHN2iDEkAt5iqZTK7LSz1zb0OgUhZiyt7/1xT+Ol/bb32/u93/ttP/f5SL75nvM5n3PO+6Tp637yueecm6pCktSWXxl1AZKkhWe4S1KDDHdJapDhLkkNMtwlqUFnjboAgAsuuKDGx8dHXYYknVF27Njx46oa67XttAj38fFxJicnR12GJJ1Rkvz3ibY5LSNJDTLcJalBhrskNchwl6QGGe6S1CDDXZIaZLhLUoMMd0lqkOEuSQ06LZ5QPVONb3xwJOfdt+m6kZxX0pnDkbskNWjOcE/y6iRPJHkqye4kH+vaP5PkB0l2dp+1XXuSfCrJ3iS7klw27IuQJL1SP9MyLwNXVtVLSc4GHk3yb922v6iqLxzT/xpgTfd5C3BX9y1JWiRzjtxrxkvd6tnd52R/VXs9cG+332PA8iQrBi9VktSvvubckyxLshM4BGyvqse7TXd0Uy93Jjmna1sJ7J+1+1TXduwxNySZTDI5PT09wCVIko7VV7hX1ZGqWgusAtYleRNwO/C7wO8B5wMf6rqn1yF6HHNzVU1U1cTYWM93zUuS5umU7papqueBrwNXV9XBburlZeCfgHVdtylg9azdVgEHFqBWSVKf+rlbZizJ8m75NcDbgO8enUdPEuB64Olul23Ae7q7Zi4HXqiqg0OpXpLUUz93y6wAtiRZxswPg61V9eUkX0syxsw0zE7gz7r+DwHXAnuBnwPvXfiyJUknM2e4V9Uu4NIe7VeeoH8Btw5emiRpvnxCVZIaZLhLUoMMd0lqkOEuSQ0y3CWpQYa7JDXIcJekBhnuktQgw12SGmS4S1KDDHdJapDhLkkNMtwlqUGGuyQ1yHCXpAYZ7pLUIMNdkhpkuEtSgwx3SWqQ4S5JDZoz3JO8OskTSZ5KsjvJx7r2i5M8nuR7ST6f5FVd+znd+t5u+/hwL0GSdKx+Ru4vA1dW1ZuBtcDVSS4HPg7cWVVrgJ8Ct3T9bwF+WlW/BdzZ9ZMkLaI5w71mvNStnt19CrgS+ELXvgW4vlte363Tbb8qSRasYknSnPqac0+yLMlO4BCwHfgv4PmqOtx1mQJWdssrgf0A3fYXgF/vccwNSSaTTE5PTw92FZKkV+gr3KvqSFWtBVYB64A39OrWffcapddxDVWbq2qiqibGxsb6rVeS1IdTulumqp4Hvg5cDixPcla3aRVwoFueAlYDdNt/DfjJQhQrSepPP3fLjCVZ3i2/BngbsAd4BPjjrtvNwAPd8rZunW7716rquJG7JGl4zpq7CyuALUmWMfPDYGtVfTnJM8B9Sf4a+DZwd9f/buCfk+xlZsR+4xDqliSdxJzhXlW7gEt7tH+fmfn3Y9v/F7hhQaqTJM2LT6hKUoMMd0lqkOEuSQ0y3CWpQYa7JDXIcJekBhnuktQgw12SGmS4S1KDDHdJapDhLkkNMtwlqUGGuyQ1yHCXpAYZ7pLUIMNdkhpkuEtSgwx3SWqQ4S5JDZoz3JOsTvJIkj1Jdie5rWv/aJIfJdnZfa6dtc/tSfYmeTbJO4Z5AZKk4835B7KBw8AHq+rJJK8DdiTZ3m27s6r+ZnbnJJcANwJvBH4D+I8kv11VRxaycEnSic05cq+qg1X1ZLf8IrAHWHmSXdYD91XVy1X1A2AvsG4hipUk9eeU5tyTjAOXAo93Te9PsivJPUnO69pWAvtn7TbFyX8YSJIWWN/hnuS1wP3AB6rqZ8BdwOuBtcBB4BNHu/bYvXocb0OSySST09PTp1y4JOnE+gr3JGczE+yfraovAlTVc1V1pKp+AXyaX069TAGrZ+2+Cjhw7DGranNVTVTVxNjY2CDXIEk6Rj93ywS4G9hTVZ+c1b5iVrd3AU93y9uAG5Ock+RiYA3wxMKVLEmaSz93y1wBvBv4TpKdXduHgZuSrGVmymUf8D6AqtqdZCvwDDN32tzqnTKStLjmDPeqepTe8+gPnWSfO4A7BqhLkjQAn1CVpAYZ7pLUIMNdkhpkuEtSgwx3SWqQ4S5JDTLcJalBhrskNchwl6QGGe6S1CDDXZIaZLhLUoMMd0lqkOEuSQ0y3CWpQf38sQ5p5MY3Pjiyc+/bdN3Izi3NlyN3SWqQ4S5JDTLcJalBhrskNWjOcE+yOskjSfYk2Z3ktq79/CTbk3yv+z6va0+STyXZm2RXksuGfRGSpFfqZ+R+GPhgVb0BuBy4NcklwEbg4apaAzzcrQNcA6zpPhuAuxa8aknSSc0Z7lV1sKqe7JZfBPYAK4H1wJau2xbg+m55PXBvzXgMWJ5kxYJXLkk6oVOac08yDlwKPA5cVFUHYeYHAHBh120lsH/WblNd27HH2pBkMsnk9PT0qVcuSTqhvsM9yWuB+4EPVNXPTta1R1sd11C1uaomqmpibGys3zIkSX3oK9yTnM1MsH+2qr7YNT93dLql+z7UtU8Bq2ftvgo4sDDlSpL60c/dMgHuBvZU1SdnbdoG3Nwt3ww8MKv9Pd1dM5cDLxydvpEkLY5+3i1zBfBu4DtJdnZtHwY2AVuT3AL8ELih2/YQcC2wF/g58N4FrViSNKc5w72qHqX3PDrAVT36F3DrgHVJkgbgE6qS1KAz/pW/o3wVrCSdrhy5S1KDzviR+1LkH66QNBdH7pLUIMNdkhpkuEtSgwx3SWqQ4S5JDTLcJalBhrskNcj73HVKfCJYOjM4cpekBhnuktQgw12SGmS4S1KDDHdJapDhLkkNMtwlqUGGuyQ1aM5wT3JPkkNJnp7V9tEkP0qys/tcO2vb7Un2Jnk2yTuGVbgk6cT6Gbl/Bri6R/udVbW2+zwEkOQS4Ebgjd0+/5Bk2UIVK0nqz5yvH6iqbyQZ7/N464H7qupl4AdJ9gLrgG/Ou0JpxEb1ygX/pKEGMcic+/uT7Oqmbc7r2lYC+2f1merajpNkQ5LJJJPT09MDlCFJOtZ8w/0u4PXAWuAg8ImuPT36Vq8DVNXmqpqoqomxsbF5liFJ6mVe4V5Vz1XVkar6BfBpZqZeYGakvnpW11XAgcFKlCSdqnmFe5IVs1bfBRy9k2YbcGOSc5JcDKwBnhisREnSqZrzF6pJPge8FbggyRTwEeCtSdYyM+WyD3gfQFXtTrIVeAY4DNxaVUeGU7ok6UT6uVvmph7Nd5+k/x3AHYMUJUkajE+oSlKDDHdJapDhLkkNMtwlqUGGuyQ1yHCXpAYZ7pLUIMNdkhpkuEtSgwx3SWqQ4S5JDTLcJalBhrskNchwl6QGGe6S1CDDXZIaZLhLUoMMd0lqkOEuSQ0y3CWpQXOGe5J7khxK8vSstvOTbE/yve77vK49ST6VZG+SXUkuG2bxkqTezuqjz2eAvwPundW2EXi4qjYl2ditfwi4BljTfd4C3NV9SzpF4xsfHMl59226biTn1cKac+ReVd8AfnJM83pgS7e8Bbh+Vvu9NeMxYHmSFQtVrCSpP/Odc7+oqg4CdN8Xdu0rgf2z+k11bcdJsiHJZJLJ6enpeZYhSeploX+hmh5t1atjVW2uqomqmhgbG1vgMiRpaZtvuD93dLql+z7UtU8Bq2f1WwUcmH95kqT5mG+4bwNu7pZvBh6Y1f6e7q6Zy4EXjk7fSJIWz5x3yyT5HPBW4IIkU8BHgE3A1iS3AD8Ebui6PwRcC+wFfg68dwg1S5LmMGe4V9VNJ9h0VY++Bdw6aFGSpMH4hKokNchwl6QGGe6S1CDDXZIaZLhLUoMMd0lqkOEuSQ0y3CWpQYa7JDXIcJekBhnuktQgw12SGmS4S1KDDHdJapDhLkkNMtwlqUGGuyQ1yHCXpAYZ7pLUIMNdkho05x/IPpkk+4AXgSPA4aqaSHI+8HlgHNgH/ElV/XSwMiUtlvGND47s3Ps2XTeyc7dmIUbuf1BVa6tqolvfCDxcVWuAh7t1SdIiGsa0zHpgS7e8Bbh+COeQJJ3EoOFewFeT7EiyoWu7qKoOAnTfF/baMcmGJJNJJqenpwcsQ5I020Bz7sAVVXUgyYXA9iTf7XfHqtoMbAaYmJioAeuQJM0y0Mi9qg5034eALwHrgOeSrADovg8NWqQk6dTMe+Se5FzgV6rqxW757cBfAduAm4FN3fcDC1GopPaN6k6dFu/SGWRa5iLgS0mOHudfq+orSb4FbE1yC/BD4IbBy5QknYp5h3tVfR94c4/2/wGuGqQoSVpMLd7b7xOqktQgw12SGmS4S1KDDHdJapDhLkkNMtwlqUGGuyQ1yHCXpAYZ7pLUIMNdkhpkuEtSgwx3SWqQ4S5JDTLcJalBhrskNchwl6QGGe6S1CDDXZIaZLhLUoMMd0lq0NDCPcnVSZ5NsjfJxmGdR5J0vKGEe5JlwN8D1wCXADcluWQY55IkHW9YI/d1wN6q+n5V/R9wH7B+SOeSJB3jrCEddyWwf9b6FPCW2R2SbAA2dKsvJXn2JMe7APjxglZ4Zliq1w1e+1K89iV53fk4MP9r/80TbRhWuKdHW71ipWozsLmvgyWTVTWxEIWdSZbqdYPXvhSvfaleNwzn2oc1LTMFrJ61vgo4MKRzSZKOMaxw/xawJsnFSV4F3AhsG9K5JEnHGMq0TFUdTvJ+4N+BZcA9VbV7gEP2NX3ToKV63eC1L0VL9bphCNeeqpq7lyTpjOITqpLUIMNdkhp0Wof7Un2FQZJ7khxK8vSoa1lsSVYneSTJniS7k9w26poWQ5JXJ3kiyVPddX9s1DUttiTLknw7yZdHXctiSrIvyXeS7EwyuWDHPV3n3LtXGPwn8IfM3Fr5LeCmqnpmpIUtgiS/D7wE3FtVbxp1PYspyQpgRVU9meR1wA7g+tb/3ZMEOLeqXkpyNvAocFtVPTbi0hZNkj8HJoBfrap3jrqexZJkHzBRVQv6ANfpPHJfsq8wqKpvAD8ZdR2jUFUHq+rJbvlFYA8zTzw3rWa81K2e3X1Oz5HXECRZBVwH/OOoa2nF6RzuvV5h0Px/cv1SknHgUuDx0VayOLppiZ3AIWB7VS2J6+78LfCXwC9GXcgIFPDVJDu617IsiNM53Od8hYHaleS1wP3AB6rqZ6OuZzFU1ZGqWsvME93rkiyJKbkk7wQOVdWOUdcyIldU1WXMvEX31m5admCnc7j7CoMlqptzvh/4bFV9cdT1LLaqeh74OnD1iEtZLFcAf9TNPd8HXJnkX0Zb0uKpqgPd9yHgS8xMSQ/sdA53X2GwBHW/WLwb2FNVnxx1PYslyViS5d3ya4C3Ad8dbVWLo6pur6pVVTXOzP/zr1XVn464rEWR5NzuxgGSnAu8HViQu+RO23CvqsPA0VcY7AG2DvgKgzNGks8B3wR+J8lUkltGXdMiugJ4NzOjt53d59pRF7UIVgCPJNnFzMBme1UtqVsCl6iLgEeTPAU8ATxYVV9ZiAOftrdCSpLm77QduUuS5s9wl6QGGe6S1CDDXZIaZLhLUoMMd0lqkOEuSQ36fyWUROEU3kC9AAAAAElFTkSuQmCC\n",
      "text/plain": [
       "<Figure size 432x288 with 1 Axes>"
      ]
     },
     "metadata": {
      "needs_background": "light"
     },
     "output_type": "display_data"
    }
   ],
   "source": [
    "plt.hist(preds_df2[(preds_df2['actual']==0) & (preds_df2['pred']==True)]['gap1'])\n"
   ]
  },
  {
   "cell_type": "code",
   "execution_count": null,
   "metadata": {},
   "outputs": [],
   "source": []
  }
 ],
 "metadata": {
  "kernelspec": {
   "display_name": "Python 3",
   "language": "python",
   "name": "python3"
  },
  "language_info": {
   "codemirror_mode": {
    "name": "ipython",
    "version": 3
   },
   "file_extension": ".py",
   "mimetype": "text/x-python",
   "name": "python",
   "nbconvert_exporter": "python",
   "pygments_lexer": "ipython3",
   "version": "3.7.6"
  }
 },
 "nbformat": 4,
 "nbformat_minor": 2
}
