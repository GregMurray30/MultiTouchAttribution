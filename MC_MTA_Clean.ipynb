{
 "cells": [
  {
   "cell_type": "markdown",
   "metadata": {},
   "source": [
    "## Libraries"
   ]
  },
  {
   "cell_type": "code",
   "execution_count": 103,
   "metadata": {},
   "outputs": [],
   "source": [
    "from copy import copy\n",
    "import numpy as np \n",
    "from numpy import exp, log\n",
    "import pandas as pd \n",
    "import os\n",
    "\n",
    "import tensorflow as tf\n",
    "import keras\n",
    "from keras.layers import Embedding, Dense, Concatenate, Flatten, Input, Reshape, AdditiveAttention, LSTM, Bidirectional\n",
    "from keras.models import Sequential\n",
    "from keras.callbacks import EarlyStopping\n",
    "from keras.utils import to_categorical\n",
    "from keras.losses import binary_crossentropy\n",
    "from keras.optimizers import Adam\n",
    "from sklearn.model_selection import train_test_split\n",
    "from sklearn.metrics import accuracy_score,confusion_matrix,classification_report,f1_score\n",
    "import matplotlib.pyplot as plt\n",
    "import warnings\n",
    "warnings.filterwarnings(\"ignore\")\n",
    "#pd.set_option('display.max_colwidth',100)\n",
    "\n",
    "\n",
    "pd.set_option('display.max_colwidth', -1)"
   ]
  },
  {
   "cell_type": "markdown",
   "metadata": {},
   "source": [
    " "
   ]
  },
  {
   "cell_type": "markdown",
   "metadata": {},
   "source": [
    " "
   ]
  },
  {
   "cell_type": "markdown",
   "metadata": {},
   "source": [
    "# Simulation Data"
   ]
  },
  {
   "cell_type": "markdown",
   "metadata": {},
   "source": [
    "### Simulate inputs for 3 channels, constant 2 time steps, 100K observations"
   ]
  },
  {
   "cell_type": "code",
   "execution_count": 104,
   "metadata": {},
   "outputs": [],
   "source": [
    "channels = ['facebook', 'google', 'snapchat']\n",
    "num_chnls = len(channels)\n",
    "N = 100000\n",
    "\n",
    "np.random.seed(498)\n",
    "df = pd.DataFrame({'t1':np.random.uniform(-.5,num_chnls-.5,N)\n",
    "                   , 't2':np.random.uniform(-.5,num_chnls-.5,N)\n",
    "                   , 't3':np.random.uniform(-.5,num_chnls-.5,N)})\n",
    "\n",
    "df['t1'] = df['t1'].apply(lambda x: int(round(x)))\n",
    "df['t2'] = df['t2'].apply(lambda x: int(round(x)))\n",
    "df['t3'] = df['t3'].apply(lambda x: int(round(x)))\n",
    "\n",
    "#np.random.seed(1)\n",
    "df['gap1'] = np.random.gamma(1.2, 1.2, N)\n",
    "#np.random.seed(2)\n",
    "df['gap2'] = np.random.gamma(1.2, 1.2, N)\n",
    "df['gap1'] = df['gap1'] + df['gap2']\n",
    "#np.random.seed(3)\n",
    "df['gender'] = np.random.binomial(1, .4, N)\n"
   ]
  },
  {
   "cell_type": "code",
   "execution_count": 105,
   "metadata": {},
   "outputs": [
    {
     "data": {
      "text/plain": [
       "(array([684., 142.,  87.,  40.,  17.,  13.,   5.,   6.,   3.,   3.]),\n",
       " array([6.62376023e-08, 2.34107815e-01, 4.68215563e-01, 7.02323311e-01,\n",
       "        9.36431060e-01, 1.17053881e+00, 1.40464656e+00, 1.63875430e+00,\n",
       "        1.87286205e+00, 2.10696980e+00, 2.34107755e+00]),\n",
       " <a list of 10 Patch objects>)"
      ]
     },
     "execution_count": 105,
     "metadata": {},
     "output_type": "execute_result"
    },
    {
     "data": {
      "image/png": "[encoded data removed]",
      "text/plain": [
       "<Figure size 432x288 with 1 Axes>"
      ]
     },
     "metadata": {
      "needs_background": "light"
     },
     "output_type": "display_data"
    }
   ],
   "source": [
    "plt.hist(np.random.gamma(.5, .5, 1000))"
   ]
  },
  {
   "cell_type": "code",
   "execution_count": 106,
   "metadata": {},
   "outputs": [
    {
     "data": {
      "image/png": "[encoded data removed]",
      "text/plain": [
       "<Figure size 432x288 with 1 Axes>"
      ]
     },
     "metadata": {
      "needs_background": "light"
     },
     "output_type": "display_data"
    }
   ],
   "source": [
    "_=plt.hist(df['t1'], bins=10, color='blue')\n",
    "_=plt.hist(df['t2'], bins=20, color='orange')\n",
    "_=plt.hist(df['t2'], bins=30, color='green')"
   ]
  },
  {
   "cell_type": "code",
   "execution_count": null,
   "metadata": {},
   "outputs": [],
   "source": []
  },
  {
   "cell_type": "markdown",
   "metadata": {},
   "source": [
    "### Parameter Assignment"
   ]
  },
  {
   "cell_type": "code",
   "execution_count": 107,
   "metadata": {},
   "outputs": [],
   "source": [
    "\n",
    "v0 = -3 #intercept, negative since most people don't convert\n",
    "beta_g0 = 1.7 #google effect when it is first time step is stronger than otherwise\n",
    "beta_g1 = .8 #google effect when it is second time step\n",
    "beta_f0 = .9 #facebook effect when it is first time step \n",
    "beta_f1 = 1.5 #facebook effect when it is second time step\n",
    "beta_s0 = .7 #snapchat effect when it is first time step\n",
    "beta_s1 = .5 #snapchat effect when it is first time step\n",
    "beta_last_tch = 1 #effect boosted when channel is last touched, constant for all channels\n",
    "beta_gender = .4 #effect for gender \n",
    "alpha = -1.2 #decay effect for gap between time steps, constant for all channels\n",
    "c = 1 #constant to prevent exploding gap terms when they are <1\n",
    "\n",
    "#Error term\n",
    "#np.random.seed(654)\n",
    "epsilon = np.random.normal(0, 1, len(df))"
   ]
  },
  {
   "cell_type": "code",
   "execution_count": 108,
   "metadata": {},
   "outputs": [],
   "source": [
    "\n",
    "v0 = -abs(np.random.normal(3, .5, 1))[0] #intercept, negative since most people don't convert\n",
    "beta_g0 = abs(np.random.normal(1, .3, 1))[0] #google effect when it is first time step is stronger than otherwise\n",
    "beta_g1 = abs(np.random.normal(.8, .4, 1))[0] #google effect when it is second time step\n",
    "beta_f0 = abs(np.random.normal(1, .5, 1))[0] #facebook effect when it is first time step \n",
    "beta_f1 = abs(np.random.normal(1, .5, 1))[0] #facebook effect when it is second time step\n",
    "beta_s0 = abs(np.random.normal(1, .6, 1))[0] #snapchat effect when it is first time step\n",
    "beta_s1 = abs(np.random.normal(1, .6, 1))[0] #snapchat effect when it is first time step\n",
    "beta_last_tch = abs(np.random.normal(1, .1, 1))[0] #effect boosted when channel is last touched, constant for all channels\n",
    "beta_gender = abs(np.random.normal(.5, .2, 1))[0] #effect for gender \n",
    "alpha = -abs(np.random.normal(1, 1, 1))[0] #decay effect for gap between time steps, constant for all channels\n",
    "c = 1 #constant to prevent exploding gap terms when they are <1\n",
    "\n",
    "#Error term\n",
    "#np.random.seed(654)\n",
    "epsilon = np.random.normal(0, 1, len(df))"
   ]
  },
  {
   "cell_type": "code",
   "execution_count": 109,
   "metadata": {},
   "outputs": [
    {
     "name": "stdout",
     "output_type": "stream",
     "text": [
      "v0: -2.606\n",
      "beta_g: [0.872, 1.41]\n",
      "beta_f: [0.949, 1.504]\n",
      "beta_s: [0.948, 1.234]\n",
      "beta_last_tch: 0.967\n",
      "beta_gender: 0.495\n",
      "alpha: -0.996\n"
     ]
    }
   ],
   "source": [
    "print('v0:', round(v0, 3))\n",
    "print('beta_g:', [round(beta_g0, 3), round(beta_g1, 3)])\n",
    "print('beta_f:', [round(beta_f0, 3), round(beta_f1, 3)])\n",
    "print('beta_s:', [round(beta_s0, 3), round(beta_s1, 3)])\n",
    "print('beta_last_tch:', round(beta_last_tch, 3))\n",
    "print('beta_gender:', round(beta_gender, 3))\n",
    "print('alpha:', round(alpha, 3))"
   ]
  },
  {
   "cell_type": "markdown",
   "metadata": {},
   "source": [
    "\n",
    "### Logistic Data Generating Function"
   ]
  },
  {
   "cell_type": "code",
   "execution_count": 110,
   "metadata": {},
   "outputs": [
    {
     "data": {
      "image/png": "[encoded data removed]",
      "text/plain": [
       "<Figure size 432x288 with 1 Axes>"
      ]
     },
     "metadata": {
      "needs_background": "light"
     },
     "output_type": "display_data"
    }
   ],
   "source": [
    "\n",
    "y = v0 + beta_f0*(df['t1']==0)*df['gap1'].apply(lambda x: (x+c)**alpha) + beta_f1*(df['t2']==0)*df['gap2'].apply(lambda x: (x+c)**alpha) + beta_f1*(df['t3']==0)*beta_last_tch +\\\n",
    "beta_g0*(df['t1']==1)*df['gap1'].apply(lambda x: (x+c)**alpha) +  beta_g1*(df['t2']==1)*df['gap2'].apply(lambda x: (x+c)**alpha) + beta_g1*(df['t3']==1) +\\\n",
    "beta_s0*(df['t1']==2)*df['gap1'].apply(lambda x: (x+c)**alpha) + beta_s1*(df['t2']==2)*df['gap2'].apply(lambda x: (x+c)**alpha) + beta_s1*(df['t3']==2)*beta_last_tch +\\\n",
    "beta_gender*df['gender']\n",
    "\n",
    "plt.hist(epsilon, bins=50, color='blue')\n",
    "plt.hist(y, bins=50, color='orange')\n",
    "\n",
    "y = y+epsilon\n",
    "\n",
    "z = 1/(1+exp(-y))"
   ]
  },
  {
   "cell_type": "code",
   "execution_count": 111,
   "metadata": {},
   "outputs": [],
   "source": [
    "df['y'] = y \n",
    "df['z'] = z \n",
    "df['epsilon'] = epsilon\n",
    "\n",
    "# Conversion for only top 10% of users \n",
    "df['conversion'] = df['z']>=np.quantile(df['z'], .9)\n",
    "df['conversion']= df['conversion'].astype(int)\n"
   ]
  },
  {
   "cell_type": "markdown",
   "metadata": {},
   "source": [
    "#### Distribution of P(conversion) and **conversion**"
   ]
  },
  {
   "cell_type": "code",
   "execution_count": 112,
   "metadata": {},
   "outputs": [
    {
     "data": {
      "image/png": "[encoded data removed]",
      "text/plain": [
       "<Figure size 432x288 with 1 Axes>"
      ]
     },
     "metadata": {
      "needs_background": "light"
     },
     "output_type": "display_data"
    }
   ],
   "source": [
    "_=plt.hist(df['z'])\n"
   ]
  },
  {
   "cell_type": "code",
   "execution_count": 113,
   "metadata": {},
   "outputs": [
    {
     "data": {
      "image/png": "[encoded data removed]",
      "text/plain": [
       "<Figure size 432x288 with 1 Axes>"
      ]
     },
     "metadata": {
      "needs_background": "light"
     },
     "output_type": "display_data"
    }
   ],
   "source": [
    "_=plt.hist(df['conversion'])\n"
   ]
  },
  {
   "cell_type": "markdown",
   "metadata": {},
   "source": [
    "#### Create columns for the calculated contribution of each channel"
   ]
  },
  {
   "cell_type": "code",
   "execution_count": 114,
   "metadata": {},
   "outputs": [],
   "source": [
    "\n",
    "df['cont_unscaled_fb'] = beta_f0*(df['t1']==0)*df['gap1'].apply(lambda x: (x+c)**alpha) + beta_f1*(df['t2']==0)*df['gap2'].apply(lambda x: (x+c)**alpha) + beta_f1*(df['t3']==0)*beta_last_tch \n",
    "\n",
    "df['cont_unscaled_gg'] = beta_g0*(df['t1']==1)*df['gap1'].apply(lambda x: (x+c)**alpha) +  beta_g1*(df['t2']==1)*df['gap2'].apply(lambda x: (x+c)**alpha) + beta_g1*(df['t3']==1) \n",
    "    \n",
    "df['cont_unscaled_sp'] = beta_s0*(df['t1']==2)*df['gap1'].apply(lambda x: (x+c)**alpha) + beta_s1*(df['t2']==2)*df['gap2'].apply(lambda x: (x+c)**alpha) + beta_s1*(df['t3']==2)*beta_last_tch \n",
    "\n",
    "\n",
    "df['cont_fb'] = df['cont_unscaled_fb']/(df['cont_unscaled_fb'] + df['cont_unscaled_gg'] + df['cont_unscaled_sp'])\n",
    "df['cont_gg'] = df['cont_unscaled_gg']/(df['cont_unscaled_fb'] + df['cont_unscaled_gg'] + df['cont_unscaled_sp'])\n",
    "df['cont_sp'] = df['cont_unscaled_sp']/(df['cont_unscaled_fb'] + df['cont_unscaled_gg'] + df['cont_unscaled_sp'])\n"
   ]
  },
  {
   "cell_type": "markdown",
   "metadata": {},
   "source": [
    "#### View of sample of the dataframe"
   ]
  },
  {
   "cell_type": "code",
   "execution_count": 115,
   "metadata": {
    "scrolled": true
   },
   "outputs": [
    {
     "data": {
      "text/html": [
       "<div>\n",
       "<style scoped>\n",
       "    .dataframe tbody tr th:only-of-type {\n",
       "        vertical-align: middle;\n",
       "    }\n",
       "\n",
       "    .dataframe tbody tr th {\n",
       "        vertical-align: top;\n",
       "    }\n",
       "\n",
       "    .dataframe thead th {\n",
       "        text-align: right;\n",
       "    }\n",
       "</style>\n",
       "<table border=\"1\" class=\"dataframe\">\n",
       "  <thead>\n",
       "    <tr style=\"text-align: right;\">\n",
       "      <th></th>\n",
       "      <th>t1</th>\n",
       "      <th>t2</th>\n",
       "      <th>t3</th>\n",
       "      <th>gap1</th>\n",
       "      <th>gap2</th>\n",
       "      <th>gender</th>\n",
       "      <th>y</th>\n",
       "      <th>z</th>\n",
       "      <th>epsilon</th>\n",
       "      <th>conversion</th>\n",
       "      <th>cont_unscaled_fb</th>\n",
       "      <th>cont_unscaled_gg</th>\n",
       "      <th>cont_unscaled_sp</th>\n",
       "      <th>cont_fb</th>\n",
       "      <th>cont_gg</th>\n",
       "      <th>cont_sp</th>\n",
       "    </tr>\n",
       "  </thead>\n",
       "  <tbody>\n",
       "    <tr>\n",
       "      <th>46446</th>\n",
       "      <td>0</td>\n",
       "      <td>1</td>\n",
       "      <td>1</td>\n",
       "      <td>2.991232</td>\n",
       "      <td>1.839293</td>\n",
       "      <td>1</td>\n",
       "      <td>-0.509028</td>\n",
       "      <td>0.375421</td>\n",
       "      <td>-0.546641</td>\n",
       "      <td>0</td>\n",
       "      <td>0.239292</td>\n",
       "      <td>1.909238</td>\n",
       "      <td>0.000000</td>\n",
       "      <td>0.111375</td>\n",
       "      <td>0.888625</td>\n",
       "      <td>0.000000</td>\n",
       "    </tr>\n",
       "    <tr>\n",
       "      <th>9347</th>\n",
       "      <td>0</td>\n",
       "      <td>1</td>\n",
       "      <td>1</td>\n",
       "      <td>3.104490</td>\n",
       "      <td>0.785314</td>\n",
       "      <td>0</td>\n",
       "      <td>-0.229195</td>\n",
       "      <td>0.442951</td>\n",
       "      <td>-0.058407</td>\n",
       "      <td>0</td>\n",
       "      <td>0.232716</td>\n",
       "      <td>2.202217</td>\n",
       "      <td>0.000000</td>\n",
       "      <td>0.095574</td>\n",
       "      <td>0.904426</td>\n",
       "      <td>0.000000</td>\n",
       "    </tr>\n",
       "    <tr>\n",
       "      <th>95799</th>\n",
       "      <td>0</td>\n",
       "      <td>1</td>\n",
       "      <td>0</td>\n",
       "      <td>1.721027</td>\n",
       "      <td>1.081446</td>\n",
       "      <td>0</td>\n",
       "      <td>0.632857</td>\n",
       "      <td>0.653137</td>\n",
       "      <td>0.754827</td>\n",
       "      <td>0</td>\n",
       "      <td>1.804070</td>\n",
       "      <td>0.679683</td>\n",
       "      <td>0.000000</td>\n",
       "      <td>0.726349</td>\n",
       "      <td>0.273651</td>\n",
       "      <td>0.000000</td>\n",
       "    </tr>\n",
       "    <tr>\n",
       "      <th>89721</th>\n",
       "      <td>2</td>\n",
       "      <td>1</td>\n",
       "      <td>1</td>\n",
       "      <td>0.911207</td>\n",
       "      <td>0.675142</td>\n",
       "      <td>0</td>\n",
       "      <td>1.274928</td>\n",
       "      <td>0.781585</td>\n",
       "      <td>1.129059</td>\n",
       "      <td>0</td>\n",
       "      <td>0.000000</td>\n",
       "      <td>2.254071</td>\n",
       "      <td>0.497520</td>\n",
       "      <td>0.000000</td>\n",
       "      <td>0.819188</td>\n",
       "      <td>0.180812</td>\n",
       "    </tr>\n",
       "    <tr>\n",
       "      <th>23656</th>\n",
       "      <td>2</td>\n",
       "      <td>0</td>\n",
       "      <td>2</td>\n",
       "      <td>2.952720</td>\n",
       "      <td>2.472946</td>\n",
       "      <td>1</td>\n",
       "      <td>-2.145480</td>\n",
       "      <td>0.104754</td>\n",
       "      <td>-1.903746</td>\n",
       "      <td>0</td>\n",
       "      <td>0.435297</td>\n",
       "      <td>0.000000</td>\n",
       "      <td>1.433887</td>\n",
       "      <td>0.232881</td>\n",
       "      <td>0.000000</td>\n",
       "      <td>0.767119</td>\n",
       "    </tr>\n",
       "    <tr>\n",
       "      <th>44667</th>\n",
       "      <td>0</td>\n",
       "      <td>2</td>\n",
       "      <td>0</td>\n",
       "      <td>1.987761</td>\n",
       "      <td>1.745051</td>\n",
       "      <td>0</td>\n",
       "      <td>-0.231895</td>\n",
       "      <td>0.442285</td>\n",
       "      <td>0.149550</td>\n",
       "      <td>0</td>\n",
       "      <td>1.772913</td>\n",
       "      <td>0.000000</td>\n",
       "      <td>0.451364</td>\n",
       "      <td>0.797074</td>\n",
       "      <td>0.000000</td>\n",
       "      <td>0.202926</td>\n",
       "    </tr>\n",
       "    <tr>\n",
       "      <th>98822</th>\n",
       "      <td>1</td>\n",
       "      <td>2</td>\n",
       "      <td>1</td>\n",
       "      <td>1.919647</td>\n",
       "      <td>1.667138</td>\n",
       "      <td>0</td>\n",
       "      <td>-0.408461</td>\n",
       "      <td>0.399281</td>\n",
       "      <td>0.022298</td>\n",
       "      <td>0</td>\n",
       "      <td>0.000000</td>\n",
       "      <td>1.710471</td>\n",
       "      <td>0.464493</td>\n",
       "      <td>0.000000</td>\n",
       "      <td>0.786437</td>\n",
       "      <td>0.213563</td>\n",
       "    </tr>\n",
       "    <tr>\n",
       "      <th>84398</th>\n",
       "      <td>2</td>\n",
       "      <td>2</td>\n",
       "      <td>1</td>\n",
       "      <td>3.143899</td>\n",
       "      <td>3.121115</td>\n",
       "      <td>1</td>\n",
       "      <td>-1.844278</td>\n",
       "      <td>0.136546</td>\n",
       "      <td>-1.675065</td>\n",
       "      <td>0</td>\n",
       "      <td>0.000000</td>\n",
       "      <td>1.410313</td>\n",
       "      <td>0.531390</td>\n",
       "      <td>0.000000</td>\n",
       "      <td>0.726328</td>\n",
       "      <td>0.273672</td>\n",
       "    </tr>\n",
       "    <tr>\n",
       "      <th>29884</th>\n",
       "      <td>0</td>\n",
       "      <td>0</td>\n",
       "      <td>0</td>\n",
       "      <td>1.784579</td>\n",
       "      <td>1.669253</td>\n",
       "      <td>0</td>\n",
       "      <td>-0.294520</td>\n",
       "      <td>0.426898</td>\n",
       "      <td>-0.050631</td>\n",
       "      <td>0</td>\n",
       "      <td>2.361833</td>\n",
       "      <td>0.000000</td>\n",
       "      <td>0.000000</td>\n",
       "      <td>1.000000</td>\n",
       "      <td>0.000000</td>\n",
       "      <td>0.000000</td>\n",
       "    </tr>\n",
       "    <tr>\n",
       "      <th>30239</th>\n",
       "      <td>0</td>\n",
       "      <td>0</td>\n",
       "      <td>2</td>\n",
       "      <td>2.038157</td>\n",
       "      <td>0.274497</td>\n",
       "      <td>1</td>\n",
       "      <td>1.654016</td>\n",
       "      <td>0.839433</td>\n",
       "      <td>1.077247</td>\n",
       "      <td>1</td>\n",
       "      <td>1.495104</td>\n",
       "      <td>0.000000</td>\n",
       "      <td>1.192582</td>\n",
       "      <td>0.556279</td>\n",
       "      <td>0.000000</td>\n",
       "      <td>0.443721</td>\n",
       "    </tr>\n",
       "  </tbody>\n",
       "</table>\n",
       "</div>"
      ],
      "text/plain": [
       "       t1  t2  t3      gap1      gap2  gender         y         z   epsilon  \\\n",
       "46446  0   1   1   2.991232  1.839293  1      -0.509028  0.375421 -0.546641   \n",
       "9347   0   1   1   3.104490  0.785314  0      -0.229195  0.442951 -0.058407   \n",
       "95799  0   1   0   1.721027  1.081446  0       0.632857  0.653137  0.754827   \n",
       "89721  2   1   1   0.911207  0.675142  0       1.274928  0.781585  1.129059   \n",
       "23656  2   0   2   2.952720  2.472946  1      -2.145480  0.104754 -1.903746   \n",
       "44667  0   2   0   1.987761  1.745051  0      -0.231895  0.442285  0.149550   \n",
       "98822  1   2   1   1.919647  1.667138  0      -0.408461  0.399281  0.022298   \n",
       "84398  2   2   1   3.143899  3.121115  1      -1.844278  0.136546 -1.675065   \n",
       "29884  0   0   0   1.784579  1.669253  0      -0.294520  0.426898 -0.050631   \n",
       "30239  0   0   2   2.038157  0.274497  1       1.654016  0.839433  1.077247   \n",
       "\n",
       "       conversion  cont_unscaled_fb  cont_unscaled_gg  cont_unscaled_sp  \\\n",
       "46446  0           0.239292          1.909238          0.000000           \n",
       "9347   0           0.232716          2.202217          0.000000           \n",
       "95799  0           1.804070          0.679683          0.000000           \n",
       "89721  0           0.000000          2.254071          0.497520           \n",
       "23656  0           0.435297          0.000000          1.433887           \n",
       "44667  0           1.772913          0.000000          0.451364           \n",
       "98822  0           0.000000          1.710471          0.464493           \n",
       "84398  0           0.000000          1.410313          0.531390           \n",
       "29884  0           2.361833          0.000000          0.000000           \n",
       "30239  1           1.495104          0.000000          1.192582           \n",
       "\n",
       "        cont_fb   cont_gg   cont_sp  \n",
       "46446  0.111375  0.888625  0.000000  \n",
       "9347   0.095574  0.904426  0.000000  \n",
       "95799  0.726349  0.273651  0.000000  \n",
       "89721  0.000000  0.819188  0.180812  \n",
       "23656  0.232881  0.000000  0.767119  \n",
       "44667  0.797074  0.000000  0.202926  \n",
       "98822  0.000000  0.786437  0.213563  \n",
       "84398  0.000000  0.726328  0.273672  \n",
       "29884  1.000000  0.000000  0.000000  \n",
       "30239  0.556279  0.000000  0.443721  "
      ]
     },
     "execution_count": 115,
     "metadata": {},
     "output_type": "execute_result"
    }
   ],
   "source": [
    "df[['t1', 't2', 't3', 'gap1',  'gap2', 'gender','y','z','epsilon', 'conversion', 'cont_unscaled_fb','cont_unscaled_gg','cont_unscaled_sp', 'cont_fb', 'cont_gg', 'cont_sp']].sample(10)\n"
   ]
  },
  {
   "cell_type": "markdown",
   "metadata": {},
   "source": [
    "#### Distribution of epsilon for conversion==1\n",
    "###### P(epsilon | conversion=1) has a higher mean than P(epsilon | conversion=0), as expected"
   ]
  },
  {
   "cell_type": "code",
   "execution_count": 116,
   "metadata": {},
   "outputs": [
    {
     "data": {
      "text/plain": [
       "(array([1.060e+02, 8.580e+02, 2.348e+03, 3.226e+03, 2.216e+03, 9.200e+02,\n",
       "        2.530e+02, 5.800e+01, 1.400e+01, 1.000e+00]),\n",
       " array([-0.09840525,  0.36791775,  0.83424074,  1.30056373,  1.76688672,\n",
       "         2.23320971,  2.6995327 ,  3.16585569,  3.63217868,  4.09850167,\n",
       "         4.56482466]),\n",
       " <a list of 10 Patch objects>)"
      ]
     },
     "execution_count": 116,
     "metadata": {},
     "output_type": "execute_result"
    },
    {
     "data": {
      "image/png": "[encoded data removed]",
      "text/plain": [
       "<Figure size 432x288 with 1 Axes>"
      ]
     },
     "metadata": {
      "needs_background": "light"
     },
     "output_type": "display_data"
    }
   ],
   "source": [
    "plt.hist(df[df['conversion']==1]['epsilon'])"
   ]
  },
  {
   "cell_type": "markdown",
   "metadata": {},
   "source": [
    "#### Distribution of epsilon for conversion==0\n",
    "###### P(epsilon | conversion=0) has a lower mean than P(epsilon | conversion=1), as expected"
   ]
  },
  {
   "cell_type": "code",
   "execution_count": 117,
   "metadata": {
    "scrolled": true
   },
   "outputs": [
    {
     "data": {
      "text/plain": [
       "(array([1.4000e+01, 1.7600e+02, 1.0910e+03, 4.5170e+03, 1.2396e+04,\n",
       "        2.1688e+04, 2.5468e+04, 1.8212e+04, 5.8760e+03, 5.6200e+02]),\n",
       " array([-4.21087428, -3.55171342, -2.89255256, -2.2333917 , -1.57423084,\n",
       "        -0.91506997, -0.25590911,  0.40325175,  1.06241261,  1.72157347,\n",
       "         2.38073433]),\n",
       " <a list of 10 Patch objects>)"
      ]
     },
     "execution_count": 117,
     "metadata": {},
     "output_type": "execute_result"
    },
    {
     "data": {
      "image/png": "[encoded data removed]",
      "text/plain": [
       "<Figure size 432x288 with 1 Axes>"
      ]
     },
     "metadata": {
      "needs_background": "light"
     },
     "output_type": "display_data"
    }
   ],
   "source": [
    "plt.hist(df[df['conversion']==0]['epsilon'])"
   ]
  },
  {
   "cell_type": "markdown",
   "metadata": {},
   "source": [
    "## Format Data for Input"
   ]
  },
  {
   "cell_type": "code",
   "execution_count": 118,
   "metadata": {},
   "outputs": [],
   "source": [
    "num_time_steps = 3\n",
    "num_cats = 3\n",
    "num_feats = 2"
   ]
  },
  {
   "cell_type": "markdown",
   "metadata": {},
   "source": [
    "### Train Test Split / Split into Numerical and Categorical Matrices / Reshape "
   ]
  },
  {
   "cell_type": "code",
   "execution_count": 119,
   "metadata": {},
   "outputs": [
    {
     "name": "stdout",
     "output_type": "stream",
     "text": [
      "(70000, 3, 1)\n",
      "(70000, 3, 2)\n",
      "(30000, 3, 1)\n",
      "(30000, 3, 2)\n",
      "(70000,)\n",
      "(30000,)\n"
     ]
    }
   ],
   "source": [
    "df['gap3'] = 0 #create an extra gap column for time step 2 which is always 0 since there is no time step 3 in this simulation\n",
    "df['gender_t2'] = df['gender'] #create an extra gender column for time step 2 which is the same as gender\n",
    "df['gender_t3'] = df['gender'] #create an extra gender column for time step 2 which is the same as gender\n",
    "df['log_gap1'] = log(df['gap1'])\n",
    "df['log_gap2'] = log(df['gap2'])\n",
    "df['log_gap3'] = 0\n",
    "\n",
    "X = df[['t1', 't2','t3','gender', 'gap1','log_gap1', 'gender_t2', 'gap2','log_gap2', 'gender_t3', 'gap3','log_gap3', 'epsilon']]\n",
    "y = np.array(df['conversion'])\n",
    "\n",
    "X_train, X_test, y_train, y_test = train_test_split(X, y, test_size=.3, random_state=123)\n",
    "\n",
    "#Split X_train into numerical and categorical matrices for separate input into the model\n",
    "#X_train_num = np.array(X_train[['gender', 'gap1','log_gap1', 'gender_t2','gap2', 'log_gap2', 'gender_t3','gap3', 'log_gap3']]) #gender is time-invariant so the same for both time steps\n",
    "#X_test_num = np.array(X_test[['gender', 'gap1','log_gap1', 'gender_t2','gap2', 'log_gap2', 'gender_t3','gap3', 'log_gap3']])\n",
    "X_train_num = np.array(X_train[['gender','log_gap1', 'gender_t2', 'log_gap2', 'gender_t3', 'log_gap3']]) #gender is time-invariant so the same for both time steps\n",
    "X_test_num = np.array(X_test[['gender','log_gap1', 'gender_t2', 'log_gap2', 'gender_t3', 'log_gap3']])\n",
    "\n",
    "X_train_num2 = np.reshape(X_train_num, (len(X_train_num),num_time_steps, num_feats))\n",
    "X_test_num2 = np.reshape(X_test_num, (len(X_test_num),num_time_steps, num_feats))\n",
    "X_train_cat = X_train[['t1', 't2', 't3']]\n",
    "X_train_cat2 = np.reshape(np.array(X_train_cat), (len(X_train_cat),num_time_steps , 1))\n",
    "X_test_cat = X_test[['t1', 't2', 't3']]\n",
    "X_test_cat2 = np.reshape(np.array(X_test_cat), (len(X_test_cat), num_time_steps , 1))\n",
    "print(X_train_cat2.shape)\n",
    "print(X_train_num2.shape)\n",
    "print(X_test_cat2.shape)\n",
    "print(X_test_num2.shape)\n",
    "print(y_train.shape)\n",
    "print(y_test.shape)\n"
   ]
  },
  {
   "cell_type": "markdown",
   "metadata": {},
   "source": [
    "#### View sample of X_train_num2 "
   ]
  },
  {
   "cell_type": "code",
   "execution_count": 120,
   "metadata": {},
   "outputs": [
    {
     "data": {
      "text/plain": [
       "array([[[ 1.        ,  1.8372666 ],\n",
       "        [ 1.        ,  1.14110961],\n",
       "        [ 1.        ,  0.        ]],\n",
       "\n",
       "       [[ 0.        , -0.40026814],\n",
       "        [ 0.        , -0.43297568],\n",
       "        [ 0.        ,  0.        ]],\n",
       "\n",
       "       [[ 0.        , -0.42064621],\n",
       "        [ 0.        , -1.20213539],\n",
       "        [ 0.        ,  0.        ]]])"
      ]
     },
     "execution_count": 120,
     "metadata": {},
     "output_type": "execute_result"
    }
   ],
   "source": [
    "X_train_num2[:3]"
   ]
  },
  {
   "cell_type": "markdown",
   "metadata": {},
   "source": [
    "#### Verify X_train_cat2 is tokenized"
   ]
  },
  {
   "cell_type": "code",
   "execution_count": 121,
   "metadata": {},
   "outputs": [
    {
     "data": {
      "text/html": [
       "<div>\n",
       "<style scoped>\n",
       "    .dataframe tbody tr th:only-of-type {\n",
       "        vertical-align: middle;\n",
       "    }\n",
       "\n",
       "    .dataframe tbody tr th {\n",
       "        vertical-align: top;\n",
       "    }\n",
       "\n",
       "    .dataframe thead th {\n",
       "        text-align: right;\n",
       "    }\n",
       "</style>\n",
       "<table border=\"1\" class=\"dataframe\">\n",
       "  <thead>\n",
       "    <tr style=\"text-align: right;\">\n",
       "      <th></th>\n",
       "      <th>t1</th>\n",
       "      <th>t2</th>\n",
       "      <th>t3</th>\n",
       "      <th>gap1</th>\n",
       "      <th>gap2</th>\n",
       "      <th>gender</th>\n",
       "      <th>y</th>\n",
       "      <th>z</th>\n",
       "      <th>epsilon</th>\n",
       "      <th>conversion</th>\n",
       "      <th>...</th>\n",
       "      <th>cont_unscaled_sp</th>\n",
       "      <th>cont_fb</th>\n",
       "      <th>cont_gg</th>\n",
       "      <th>cont_sp</th>\n",
       "      <th>gap3</th>\n",
       "      <th>gender_t2</th>\n",
       "      <th>gender_t3</th>\n",
       "      <th>log_gap1</th>\n",
       "      <th>log_gap2</th>\n",
       "      <th>log_gap3</th>\n",
       "    </tr>\n",
       "  </thead>\n",
       "  <tbody>\n",
       "    <tr>\n",
       "      <th>0</th>\n",
       "      <td>0</td>\n",
       "      <td>2</td>\n",
       "      <td>0</td>\n",
       "      <td>2.190819</td>\n",
       "      <td>1.523924</td>\n",
       "      <td>0</td>\n",
       "      <td>-0.950047</td>\n",
       "      <td>0.278875</td>\n",
       "      <td>-0.587738</td>\n",
       "      <td>0</td>\n",
       "      <td>...</td>\n",
       "      <td>0.490734</td>\n",
       "      <td>0.781256</td>\n",
       "      <td>0.000000</td>\n",
       "      <td>0.218744</td>\n",
       "      <td>0</td>\n",
       "      <td>0</td>\n",
       "      <td>0</td>\n",
       "      <td>0.784275</td>\n",
       "      <td>0.421289</td>\n",
       "      <td>0</td>\n",
       "    </tr>\n",
       "    <tr>\n",
       "      <th>1</th>\n",
       "      <td>0</td>\n",
       "      <td>0</td>\n",
       "      <td>0</td>\n",
       "      <td>1.637772</td>\n",
       "      <td>1.363923</td>\n",
       "      <td>0</td>\n",
       "      <td>-0.626038</td>\n",
       "      <td>0.348409</td>\n",
       "      <td>-0.473866</td>\n",
       "      <td>0</td>\n",
       "      <td>...</td>\n",
       "      <td>0.000000</td>\n",
       "      <td>1.000000</td>\n",
       "      <td>0.000000</td>\n",
       "      <td>0.000000</td>\n",
       "      <td>0</td>\n",
       "      <td>0</td>\n",
       "      <td>0</td>\n",
       "      <td>0.493337</td>\n",
       "      <td>0.310365</td>\n",
       "      <td>0</td>\n",
       "    </tr>\n",
       "    <tr>\n",
       "      <th>2</th>\n",
       "      <td>1</td>\n",
       "      <td>2</td>\n",
       "      <td>1</td>\n",
       "      <td>3.548731</td>\n",
       "      <td>3.432864</td>\n",
       "      <td>0</td>\n",
       "      <td>-1.204429</td>\n",
       "      <td>0.230688</td>\n",
       "      <td>-0.482122</td>\n",
       "      <td>0</td>\n",
       "      <td>...</td>\n",
       "      <td>0.280078</td>\n",
       "      <td>0.000000</td>\n",
       "      <td>0.851292</td>\n",
       "      <td>0.148708</td>\n",
       "      <td>0</td>\n",
       "      <td>0</td>\n",
       "      <td>0</td>\n",
       "      <td>1.266590</td>\n",
       "      <td>1.233395</td>\n",
       "      <td>0</td>\n",
       "    </tr>\n",
       "    <tr>\n",
       "      <th>3</th>\n",
       "      <td>2</td>\n",
       "      <td>0</td>\n",
       "      <td>0</td>\n",
       "      <td>2.072739</td>\n",
       "      <td>1.611280</td>\n",
       "      <td>0</td>\n",
       "      <td>-0.590479</td>\n",
       "      <td>0.356525</td>\n",
       "      <td>-0.326713</td>\n",
       "      <td>0</td>\n",
       "      <td>...</td>\n",
       "      <td>0.310078</td>\n",
       "      <td>0.867599</td>\n",
       "      <td>0.000000</td>\n",
       "      <td>0.132401</td>\n",
       "      <td>0</td>\n",
       "      <td>0</td>\n",
       "      <td>0</td>\n",
       "      <td>0.728871</td>\n",
       "      <td>0.477029</td>\n",
       "      <td>0</td>\n",
       "    </tr>\n",
       "    <tr>\n",
       "      <th>4</th>\n",
       "      <td>1</td>\n",
       "      <td>2</td>\n",
       "      <td>1</td>\n",
       "      <td>4.812273</td>\n",
       "      <td>0.483884</td>\n",
       "      <td>0</td>\n",
       "      <td>-0.053244</td>\n",
       "      <td>0.486692</td>\n",
       "      <td>0.158147</td>\n",
       "      <td>0</td>\n",
       "      <td>...</td>\n",
       "      <td>0.832799</td>\n",
       "      <td>0.000000</td>\n",
       "      <td>0.652179</td>\n",
       "      <td>0.347821</td>\n",
       "      <td>0</td>\n",
       "      <td>0</td>\n",
       "      <td>0</td>\n",
       "      <td>1.571170</td>\n",
       "      <td>-0.725911</td>\n",
       "      <td>0</td>\n",
       "    </tr>\n",
       "    <tr>\n",
       "      <th>...</th>\n",
       "      <td>...</td>\n",
       "      <td>...</td>\n",
       "      <td>...</td>\n",
       "      <td>...</td>\n",
       "      <td>...</td>\n",
       "      <td>...</td>\n",
       "      <td>...</td>\n",
       "      <td>...</td>\n",
       "      <td>...</td>\n",
       "      <td>...</td>\n",
       "      <td>...</td>\n",
       "      <td>...</td>\n",
       "      <td>...</td>\n",
       "      <td>...</td>\n",
       "      <td>...</td>\n",
       "      <td>...</td>\n",
       "      <td>...</td>\n",
       "      <td>...</td>\n",
       "      <td>...</td>\n",
       "      <td>...</td>\n",
       "      <td>...</td>\n",
       "    </tr>\n",
       "    <tr>\n",
       "      <th>99995</th>\n",
       "      <td>2</td>\n",
       "      <td>2</td>\n",
       "      <td>2</td>\n",
       "      <td>0.917585</td>\n",
       "      <td>0.207132</td>\n",
       "      <td>0</td>\n",
       "      <td>0.770318</td>\n",
       "      <td>0.683590</td>\n",
       "      <td>0.664756</td>\n",
       "      <td>0</td>\n",
       "      <td>...</td>\n",
       "      <td>2.711284</td>\n",
       "      <td>0.000000</td>\n",
       "      <td>0.000000</td>\n",
       "      <td>1.000000</td>\n",
       "      <td>0</td>\n",
       "      <td>0</td>\n",
       "      <td>0</td>\n",
       "      <td>-0.086010</td>\n",
       "      <td>-1.574401</td>\n",
       "      <td>0</td>\n",
       "    </tr>\n",
       "    <tr>\n",
       "      <th>99996</th>\n",
       "      <td>2</td>\n",
       "      <td>1</td>\n",
       "      <td>2</td>\n",
       "      <td>8.081462</td>\n",
       "      <td>2.881253</td>\n",
       "      <td>0</td>\n",
       "      <td>-0.684203</td>\n",
       "      <td>0.335324</td>\n",
       "      <td>0.258067</td>\n",
       "      <td>0</td>\n",
       "      <td>...</td>\n",
       "      <td>1.297983</td>\n",
       "      <td>0.000000</td>\n",
       "      <td>0.219706</td>\n",
       "      <td>0.780294</td>\n",
       "      <td>0</td>\n",
       "      <td>0</td>\n",
       "      <td>0</td>\n",
       "      <td>2.089573</td>\n",
       "      <td>1.058225</td>\n",
       "      <td>0</td>\n",
       "    </tr>\n",
       "    <tr>\n",
       "      <th>99997</th>\n",
       "      <td>0</td>\n",
       "      <td>1</td>\n",
       "      <td>0</td>\n",
       "      <td>6.574965</td>\n",
       "      <td>5.842555</td>\n",
       "      <td>0</td>\n",
       "      <td>-0.245189</td>\n",
       "      <td>0.439008</td>\n",
       "      <td>0.572657</td>\n",
       "      <td>0</td>\n",
       "      <td>...</td>\n",
       "      <td>0.000000</td>\n",
       "      <td>0.883771</td>\n",
       "      <td>0.116229</td>\n",
       "      <td>0.000000</td>\n",
       "      <td>0</td>\n",
       "      <td>0</td>\n",
       "      <td>0</td>\n",
       "      <td>1.883269</td>\n",
       "      <td>1.765168</td>\n",
       "      <td>0</td>\n",
       "    </tr>\n",
       "    <tr>\n",
       "      <th>99998</th>\n",
       "      <td>0</td>\n",
       "      <td>2</td>\n",
       "      <td>2</td>\n",
       "      <td>2.204649</td>\n",
       "      <td>1.621151</td>\n",
       "      <td>1</td>\n",
       "      <td>0.208894</td>\n",
       "      <td>0.552035</td>\n",
       "      <td>0.356875</td>\n",
       "      <td>0</td>\n",
       "      <td>...</td>\n",
       "      <td>1.665189</td>\n",
       "      <td>0.151685</td>\n",
       "      <td>0.000000</td>\n",
       "      <td>0.848315</td>\n",
       "      <td>0</td>\n",
       "      <td>1</td>\n",
       "      <td>1</td>\n",
       "      <td>0.790568</td>\n",
       "      <td>0.483136</td>\n",
       "      <td>0</td>\n",
       "    </tr>\n",
       "    <tr>\n",
       "      <th>99999</th>\n",
       "      <td>2</td>\n",
       "      <td>2</td>\n",
       "      <td>0</td>\n",
       "      <td>1.599053</td>\n",
       "      <td>0.501251</td>\n",
       "      <td>1</td>\n",
       "      <td>1.296248</td>\n",
       "      <td>0.785203</td>\n",
       "      <td>0.763983</td>\n",
       "      <td>0</td>\n",
       "      <td>...</td>\n",
       "      <td>1.189535</td>\n",
       "      <td>0.549961</td>\n",
       "      <td>0.000000</td>\n",
       "      <td>0.450039</td>\n",
       "      <td>0</td>\n",
       "      <td>1</td>\n",
       "      <td>1</td>\n",
       "      <td>0.469412</td>\n",
       "      <td>-0.690649</td>\n",
       "      <td>0</td>\n",
       "    </tr>\n",
       "  </tbody>\n",
       "</table>\n",
       "<p>100000 rows × 22 columns</p>\n",
       "</div>"
      ],
      "text/plain": [
       "       t1  t2  t3      gap1      gap2  gender         y         z   epsilon  \\\n",
       "0      0   2   0   2.190819  1.523924  0      -0.950047  0.278875 -0.587738   \n",
       "1      0   0   0   1.637772  1.363923  0      -0.626038  0.348409 -0.473866   \n",
       "2      1   2   1   3.548731  3.432864  0      -1.204429  0.230688 -0.482122   \n",
       "3      2   0   0   2.072739  1.611280  0      -0.590479  0.356525 -0.326713   \n",
       "4      1   2   1   4.812273  0.483884  0      -0.053244  0.486692  0.158147   \n",
       "...   ..  ..  ..        ...       ... ..            ...       ...       ...   \n",
       "99995  2   2   2   0.917585  0.207132  0       0.770318  0.683590  0.664756   \n",
       "99996  2   1   2   8.081462  2.881253  0      -0.684203  0.335324  0.258067   \n",
       "99997  0   1   0   6.574965  5.842555  0      -0.245189  0.439008  0.572657   \n",
       "99998  0   2   2   2.204649  1.621151  1       0.208894  0.552035  0.356875   \n",
       "99999  2   2   0   1.599053  0.501251  1       1.296248  0.785203  0.763983   \n",
       "\n",
       "       conversion  ...  cont_unscaled_sp   cont_fb   cont_gg   cont_sp  gap3  \\\n",
       "0      0           ...  0.490734          0.781256  0.000000  0.218744  0      \n",
       "1      0           ...  0.000000          1.000000  0.000000  0.000000  0      \n",
       "2      0           ...  0.280078          0.000000  0.851292  0.148708  0      \n",
       "3      0           ...  0.310078          0.867599  0.000000  0.132401  0      \n",
       "4      0           ...  0.832799          0.000000  0.652179  0.347821  0      \n",
       "...   ..           ...       ...               ...       ...       ... ..      \n",
       "99995  0           ...  2.711284          0.000000  0.000000  1.000000  0      \n",
       "99996  0           ...  1.297983          0.000000  0.219706  0.780294  0      \n",
       "99997  0           ...  0.000000          0.883771  0.116229  0.000000  0      \n",
       "99998  0           ...  1.665189          0.151685  0.000000  0.848315  0      \n",
       "99999  0           ...  1.189535          0.549961  0.000000  0.450039  0      \n",
       "\n",
       "       gender_t2  gender_t3  log_gap1  log_gap2  log_gap3  \n",
       "0      0          0          0.784275  0.421289  0         \n",
       "1      0          0          0.493337  0.310365  0         \n",
       "2      0          0          1.266590  1.233395  0         \n",
       "3      0          0          0.728871  0.477029  0         \n",
       "4      0          0          1.571170 -0.725911  0         \n",
       "...   ..         ..               ...       ... ..         \n",
       "99995  0          0         -0.086010 -1.574401  0         \n",
       "99996  0          0          2.089573  1.058225  0         \n",
       "99997  0          0          1.883269  1.765168  0         \n",
       "99998  1          1          0.790568  0.483136  0         \n",
       "99999  1          1          0.469412 -0.690649  0         \n",
       "\n",
       "[100000 rows x 22 columns]"
      ]
     },
     "execution_count": 121,
     "metadata": {},
     "output_type": "execute_result"
    }
   ],
   "source": [
    "df"
   ]
  },
  {
   "cell_type": "code",
   "execution_count": 122,
   "metadata": {},
   "outputs": [
    {
     "data": {
      "text/plain": [
       "array([[[0],\n",
       "        [1],\n",
       "        [2]],\n",
       "\n",
       "       [[1],\n",
       "        [2],\n",
       "        [2]],\n",
       "\n",
       "       [[0],\n",
       "        [2],\n",
       "        [2]]])"
      ]
     },
     "execution_count": 122,
     "metadata": {},
     "output_type": "execute_result"
    }
   ],
   "source": [
    "X_train_cat2[:3]"
   ]
  },
  {
   "cell_type": "markdown",
   "metadata": {},
   "source": [
    "## Deep Learning Model Construction"
   ]
  },
  {
   "cell_type": "code",
   "execution_count": 123,
   "metadata": {},
   "outputs": [],
   "source": [
    "embedding_size = 20 #dimensionality of embedding vector\n",
    "cardinality = num_chnls # cardinality of the categorical feature (channel)\n",
    "lstm_size = 256"
   ]
  },
  {
   "cell_type": "code",
   "execution_count": null,
   "metadata": {},
   "outputs": [],
   "source": []
  },
  {
   "cell_type": "code",
   "execution_count": 261,
   "metadata": {},
   "outputs": [],
   "source": [
    "from keras import backend as K\n",
    "\n",
    "class Attention(tf.keras.Model):\n",
    "    def __init__(self, units):\n",
    "        super(Attention, self).__init__()\n",
    "        self.w=self.add_weight(shape=(lstm_size, units), initializer=\"normal\")\n",
    "        self.b=self.add_weight(shape=(3, units), initializer=\"zeros\")\n",
    "        \n",
    "        #self.w2=self.add_weight(shape=(units, 1), initializer=\"normal\")\n",
    "        #self.b2=self.add_weight(shape=(2, 1), initializer=\"zeros\")\n",
    "\n",
    "    def call(self, x, return_sequences=True):\n",
    "\n",
    "        e1 = K.relu(K.dot(x,self.w)+self.b)\n",
    "        \n",
    "        #print(e1)\n",
    "        #e2 = K.relu(K.dot(e1,self.w2)+self.b2)\n",
    "        #print(e2)\n",
    "        a = K.softmax(e1, axis=1)\n",
    "        \n",
    "        #a = tf.keras.activations.softmax(e1, axis=1)\n",
    " \n",
    "        output = a*x\n",
    "        return e1, K.sum(output, axis=1)"
   ]
  },
  {
   "cell_type": "code",
   "execution_count": 365,
   "metadata": {},
   "outputs": [],
   "source": [
    "\n",
    "\n",
    "inp_cat_data = Input(shape=(num_time_steps, 1)) #input for categorical data\n",
    "inp_num_data = Input(shape=(num_time_steps, num_feats)) #input for numerical data\n",
    "\n",
    "emb = Embedding(cardinality, embedding_size, input_length=(num_time_steps))(inp_cat_data) #Embedding layer for categorical data (channels)\n",
    "\n",
    "resh1 = Reshape((num_time_steps, embedding_size))(emb) #reshape to squash the 4D tensor back into 3D, not sure why emb layer does this\n",
    "\n",
    "conc = Concatenate()([resh1, inp_num_data]) #combine numerical data with channel embedding tensor before inputting into LSTM\n",
    "\n",
    "resh2 = Reshape((num_time_steps, embedding_size+num_feats))(conc) #reshape to fit LSTM needs just in case\n",
    "# LSTM with channel embeddings and control features, returns hidden state sequences for the attention layer to use\n",
    "lstm_layer1 = LSTM(lstm_size, dropout=.05, recurrent_dropout=.05,return_sequences=True)(resh2)\n",
    "lstm_layer2 = LSTM(lstm_size, dropout=.05, recurrent_dropout=.05,return_sequences=True)(lstm_layer1)\n",
    "lstm_layer3 = LSTM(lstm_size, dropout=.05, recurrent_dropout=.05,return_sequences=True)(lstm_layer2)\n",
    "lstm_layer4 = LSTM(256, dropout=.05, recurrent_dropout=.05,return_sequences=True)(lstm_layer3)\n",
    "lstm_layer5 = LSTM(lstm_size, dropout=.05, recurrent_dropout=.05,return_sequences=True)(lstm_layer4)\n",
    "lstm_layer6 = LSTM(lstm_size, dropout=.05, recurrent_dropout=.05,return_sequences=True)(lstm_layer5)\n",
    "#lstm_layer7 = LSTM(lstm_size, dropout=.01, recurrent_dropout=.01,return_sequences=True)(lstm_layer6)\n",
    "\n",
    "#lstm_layer = Bidirectional(LSTM(128, dropout=.01, recurrent_dropout=.01,return_sequences=True))(resh2)\n",
    "\n",
    "\n",
    "#Attention layer: multi-layer perceptron with 1 neuron, returns unscaled attention weight vector and attention weighted sum\n",
    "a_unsc, attention_layer = Attention(1)(lstm_layer6)\n",
    "\n",
    "\n",
    "#Output layer dense, binary outcome\n",
    "out = Dense(1, activation='sigmoid')(attention_layer)\n",
    "\n",
    "#output the prediction and the unscaled attention to retrieve after training - not sure if this screws up the training of any layers\n",
    "model = keras.Model(inputs=[inp_cat_data, inp_num_data], outputs=[out, a_unsc] )\n",
    "\n",
    "#output the prediction only - attention to retrieve after training with intermediate layer extraction\n",
    "#model = keras.Model(inputs=[inp_cat_data, inp_num_data], outputs=out )\n",
    "\n",
    "\n",
    "#model = keras.Model(inputs=[inp_cat_data, inp_num_data], outputs=out )\n",
    "\n",
    "model.compile(optimizer=Adam(0.001),\n",
    "              loss=tf.keras.losses.BinaryCrossentropy(from_logits=False),\n",
    "              metrics=['acc'])\n",
    "\n"
   ]
  },
  {
   "cell_type": "code",
   "execution_count": 366,
   "metadata": {
    "scrolled": true
   },
   "outputs": [
    {
     "name": "stdout",
     "output_type": "stream",
     "text": [
      "Model: \"model_9\"\n",
      "__________________________________________________________________________________________________\n",
      "Layer (type)                    Output Shape         Param #     Connected to                     \n",
      "==================================================================================================\n",
      "input_21 (InputLayer)           [(None, 3, 1)]       0                                            \n",
      "__________________________________________________________________________________________________\n",
      "embedding_10 (Embedding)        (None, 3, 1, 20)     60          input_21[0][0]                   \n",
      "__________________________________________________________________________________________________\n",
      "reshape_20 (Reshape)            (None, 3, 20)        0           embedding_10[0][0]               \n",
      "__________________________________________________________________________________________________\n",
      "input_22 (InputLayer)           [(None, 3, 2)]       0                                            \n",
      "__________________________________________________________________________________________________\n",
      "concatenate_10 (Concatenate)    (None, 3, 22)        0           reshape_20[0][0]                 \n",
      "                                                                 input_22[0][0]                   \n",
      "__________________________________________________________________________________________________\n",
      "reshape_21 (Reshape)            (None, 3, 22)        0           concatenate_10[0][0]             \n",
      "__________________________________________________________________________________________________\n",
      "lstm_42 (LSTM)                  (None, 3, 256)       285696      reshape_21[0][0]                 \n",
      "__________________________________________________________________________________________________\n",
      "lstm_43 (LSTM)                  (None, 3, 256)       525312      lstm_42[0][0]                    \n",
      "__________________________________________________________________________________________________\n",
      "lstm_44 (LSTM)                  (None, 3, 256)       525312      lstm_43[0][0]                    \n",
      "__________________________________________________________________________________________________\n",
      "lstm_45 (LSTM)                  (None, 3, 256)       525312      lstm_44[0][0]                    \n",
      "__________________________________________________________________________________________________\n",
      "lstm_46 (LSTM)                  (None, 3, 256)       525312      lstm_45[0][0]                    \n",
      "__________________________________________________________________________________________________\n",
      "lstm_47 (LSTM)                  (None, 3, 256)       525312      lstm_46[0][0]                    \n",
      "__________________________________________________________________________________________________\n",
      "attention_10 (Attention)        ((None, 3, 1), (None 259         lstm_47[0][0]                    \n",
      "__________________________________________________________________________________________________\n",
      "dense_9 (Dense)                 (None, 1)            257         attention_10[0][1]               \n",
      "==================================================================================================\n",
      "Total params: 2,912,832\n",
      "Trainable params: 2,912,832\n",
      "Non-trainable params: 0\n",
      "__________________________________________________________________________________________________\n"
     ]
    }
   ],
   "source": [
    "model.summary()"
   ]
  },
  {
   "cell_type": "markdown",
   "metadata": {},
   "source": [
    "### Run Model until loss stops improving"
   ]
  },
  {
   "cell_type": "code",
   "execution_count": 367,
   "metadata": {
    "scrolled": true
   },
   "outputs": [
    {
     "name": "stdout",
     "output_type": "stream",
     "text": [
      "Epoch 1/3\n",
      "700/700 [==============================] - 90s 115ms/step - loss: 0.7695 - dense_9_loss: 0.4076 - attention_10_loss: 0.3619 - dense_9_acc: 0.8990 - attention_10_acc: 0.8985 - val_loss: 0.5908 - val_dense_9_loss: 0.2904 - val_attention_10_loss: 0.3005 - val_dense_9_acc: 0.9024 - val_attention_10_acc: 0.9019\n",
      "Epoch 2/3\n",
      "700/700 [==============================] - 81s 115ms/step - loss: 0.6135 - dense_9_loss: 0.3035 - attention_10_loss: 0.3100 - dense_9_acc: 0.8982 - attention_10_acc: 0.8983 - val_loss: 0.6064 - val_dense_9_loss: 0.3001 - val_attention_10_loss: 0.3063 - val_dense_9_acc: 0.9024 - val_attention_10_acc: 0.9023\n",
      "Epoch 3/3\n",
      "700/700 [==============================] - 80s 114ms/step - loss: 0.6051 - dense_9_loss: 0.2998 - attention_10_loss: 0.3053 - dense_9_acc: 0.8994 - attention_10_acc: 0.8993 - val_loss: 0.5841 - val_dense_9_loss: 0.2897 - val_attention_10_loss: 0.2944 - val_dense_9_acc: 0.9023 - val_attention_10_acc: 0.9023\n"
     ]
    },
    {
     "data": {
      "text/plain": [
       "<tensorflow.python.keras.callbacks.History at 0x1a8010ef10>"
      ]
     },
     "execution_count": 367,
     "metadata": {},
     "output_type": "execute_result"
    }
   ],
   "source": [
    "epochs = 3\n",
    "batch_size = 100\n",
    "model.fit(x=[X_train_cat2, X_train_num2], y=y_train, validation_data=([X_test_cat2, X_test_num2], y_test), epochs=epochs, batch_size=batch_size)\n"
   ]
  },
  {
   "cell_type": "code",
   "execution_count": 291,
   "metadata": {},
   "outputs": [],
   "source": [
    "#intermediate_layer_model = keras.Model(inputs=model.input,\n",
    "                                     #  outputs=model.get_layer(\"attention_56\").output[0])\n",
    "\n",
    "#a = intermediate_layer_model([X_test_cat2, X_test_num2])\n",
    "#a = np.array(a)\n",
    "#print(a.mean())\n",
    "#a[:3]"
   ]
  },
  {
   "cell_type": "markdown",
   "metadata": {},
   "source": [
    "# Model Evaluation"
   ]
  },
  {
   "cell_type": "markdown",
   "metadata": {},
   "source": [
    "#### Extract prediction probabilities and unscaled attention weight vectors (e1) for observations in X_test"
   ]
  },
  {
   "cell_type": "code",
   "execution_count": 368,
   "metadata": {},
   "outputs": [],
   "source": [
    "preds, a = model.predict(x=[X_test_cat2, X_test_num2])"
   ]
  },
  {
   "cell_type": "code",
   "execution_count": 369,
   "metadata": {
    "scrolled": true
   },
   "outputs": [
    {
     "data": {
      "image/png": "[encoded data removed]",
      "text/plain": [
       "<Figure size 432x288 with 1 Axes>"
      ]
     },
     "metadata": {
      "needs_background": "light"
     },
     "output_type": "display_data"
    }
   ],
   "source": [
    "#preds = pd.DataFrame(model.predict([X_train_cat2, X_train_num2]))\n",
    "preds = pd.DataFrame(preds)\n",
    "preds.rename(columns={0:'pred_prob'}, inplace=True)\n",
    "_=plt.hist(preds['pred_prob'].sample(10000), bins=50)"
   ]
  },
  {
   "cell_type": "markdown",
   "metadata": {},
   "source": [
    "#### Use the conversion balance of the training set to find a reasonable prediction threshold"
   ]
  },
  {
   "cell_type": "code",
   "execution_count": 370,
   "metadata": {},
   "outputs": [
    {
     "data": {
      "text/plain": [
       "0.22776051419760499"
      ]
     },
     "execution_count": 370,
     "metadata": {},
     "output_type": "execute_result"
    }
   ],
   "source": [
    "thresh = np.quantile(preds['pred_prob'], (1-y_train.mean()))\n",
    "thresh"
   ]
  },
  {
   "cell_type": "markdown",
   "metadata": {},
   "source": [
    "#### Extract attention weights from their awkward data structure and put them in a dataframe"
   ]
  },
  {
   "cell_type": "code",
   "execution_count": 371,
   "metadata": {},
   "outputs": [
    {
     "data": {
      "text/plain": [
       "t1_attn_unscaled    0.091096\n",
       "t2_attn_unscaled    0.103275\n",
       "t3_attn_unscaled    0.122331\n",
       "dtype: float64"
      ]
     },
     "execution_count": 371,
     "metadata": {},
     "output_type": "execute_result"
    }
   ],
   "source": [
    "\n",
    "a2 = []\n",
    "for i in range(len(a)):\n",
    "    a2.append( [a[i][0][0], a[i][1][0], a[i][2][0]])\n",
    "a2_df = pd.DataFrame(a2, columns=['t1_attn_unscaled', 't2_attn_unscaled', 't3_attn_unscaled'])\n",
    "a2_df.mean()"
   ]
  },
  {
   "cell_type": "markdown",
   "metadata": {},
   "source": [
    "#### Combine original input features, target, actual channel contributions, predictions, and estimated channel attentions in one convenient dataframe"
   ]
  },
  {
   "cell_type": "code",
   "execution_count": 372,
   "metadata": {},
   "outputs": [],
   "source": [
    "\n",
    "preds_df = pd.concat([preds, pd.DataFrame(y_test)], axis=1)\n",
    "preds_df.rename(columns={0:'actual'}, inplace=True)\n",
    "preds_df.reset_index(drop=True,inplace=True)\n",
    "preds_df['pred'] = preds_df['pred_prob']>thresh\n",
    "preds_df2 = pd.concat([pd.DataFrame(X_test).reset_index(), preds_df], axis=1)\n",
    "preds_df2 = pd.concat([preds_df2, a2_df], axis=1)\n",
    "preds_df3 = preds_df2.merge(df[['t1', 't2', 'gender', 'gap1','cont_fb','cont_gg','cont_sp' ]], 'left', on=['t1', 't2', 'gender', 'gap1'])\n",
    "\n",
    "preds_df3['t1_attn'] = preds_df3['t1_attn_unscaled']/(preds_df3['t1_attn_unscaled']+preds_df3['t2_attn_unscaled']+preds_df3['t3_attn_unscaled'])\n",
    "preds_df3['t2_attn'] = preds_df3['t2_attn_unscaled']/(preds_df3['t1_attn_unscaled']+preds_df3['t2_attn_unscaled']+preds_df3['t3_attn_unscaled'])\n",
    "preds_df3['t3_attn'] = preds_df3['t3_attn_unscaled']/(preds_df3['t1_attn_unscaled']+preds_df3['t2_attn_unscaled']+preds_df3['t3_attn_unscaled'])\n",
    "\n"
   ]
  },
  {
   "cell_type": "markdown",
   "metadata": {},
   "source": [
    "#### Functions for getting the contribution for the timestep to compare directly to attention weights"
   ]
  },
  {
   "cell_type": "code",
   "execution_count": 373,
   "metadata": {},
   "outputs": [],
   "source": [
    "def get_t1_cont(row):\n",
    "    t1_cont = 0\n",
    "\n",
    "    if row['t1']==0:\n",
    "        t1_cont = row['cont_fb']\n",
    "    elif row['t1']==1:\n",
    "        t1_cont = row['cont_gg']\n",
    "    else:\n",
    "        t1_cont = row['cont_sp']\n",
    "\n",
    "    return t1_cont\n",
    "\n",
    "def get_t2_cont(row):\n",
    "    t2_cont = 0\n",
    "\n",
    "    if row['t2']==0:\n",
    "        t2_cont = row['cont_fb']\n",
    "    elif row['t2']==1:\n",
    "        t2_cont = row['cont_gg']\n",
    "    else:\n",
    "        t2_cont = row['cont_sp']\n",
    "\n",
    "    return t2_cont\n",
    "\n",
    "def get_t3_cont(row):\n",
    "    t3_cont = 0\n",
    "\n",
    "    if row['t3']==0:\n",
    "        t3_cont = row['cont_fb']\n",
    "    elif row['t3']==1:\n",
    "        t3_cont = row['cont_gg']\n",
    "    else:\n",
    "        t3_cont = row['cont_sp']\n",
    "\n",
    "    return t3_cont"
   ]
  },
  {
   "cell_type": "code",
   "execution_count": 374,
   "metadata": {},
   "outputs": [],
   "source": [
    "preds_df3['t1_cont'] = preds_df3.apply(get_t1_cont, axis=1)\n",
    "preds_df3['t2_cont'] = preds_df3.apply(get_t2_cont, axis=1)\n",
    "preds_df3['t3_cont'] = preds_df3.apply(get_t3_cont, axis=1)"
   ]
  },
  {
   "cell_type": "markdown",
   "metadata": {},
   "source": [
    "#### Preview a sample of estimated attention (t1_attn, t2_atten) *vs.* actual contribution (t1_cont, t2_cont)"
   ]
  },
  {
   "cell_type": "markdown",
   "metadata": {},
   "source": [
    "### combine attention for time steps that have the same channel"
   ]
  },
  {
   "cell_type": "code",
   "execution_count": 375,
   "metadata": {},
   "outputs": [],
   "source": [
    "preds_df3.loc[(preds_df3['t1']==preds_df3['t2']) & (preds_df3['t1']!=preds_df3['t3']), 't1_attn'] = preds_df3['t1_attn']+preds_df3['t2_attn']\n",
    "preds_df3.loc[(preds_df3['t1']==preds_df3['t2']) & (preds_df3['t1']!=preds_df3['t3']), 't2_attn'] = preds_df3['t1_attn']\n",
    "\n",
    "preds_df3.loc[(preds_df3['t1']==preds_df3['t3']) & (preds_df3['t1']!=preds_df3['t2']), 't1_attn'] = preds_df3['t1_attn']+preds_df3['t3_attn']\n",
    "preds_df3.loc[(preds_df3['t1']==preds_df3['t3']) & (preds_df3['t1']!=preds_df3['t2']), 't3_attn'] = preds_df3['t1_attn']\n",
    "\n",
    "preds_df3.loc[(preds_df3['t2']==preds_df3['t3']) & (preds_df3['t2']!=preds_df3['t1']), 't2_attn'] = preds_df3['t2_attn']+preds_df3['t3_attn']\n",
    "preds_df3.loc[(preds_df3['t2']==preds_df3['t3']) & (preds_df3['t2']!=preds_df3['t1']), 't3_attn'] = preds_df3['t2_attn']\n",
    "\n",
    "preds_df3.loc[(preds_df3['t1']==preds_df3['t2']) & (preds_df3['t2']==preds_df3['t3']), 't1_attn'] = preds_df3['t1_attn']+preds_df3['t2_attn']+preds_df3['t3_attn']\n",
    "preds_df3.loc[(preds_df3['t1']==preds_df3['t2']) & (preds_df3['t2']==preds_df3['t3']), 't2_attn'] = preds_df3['t1_attn']\n",
    "preds_df3.loc[(preds_df3['t1']==preds_df3['t2']) & (preds_df3['t2']==preds_df3['t3']), 't23attn'] = preds_df3['t1_attn']\n"
   ]
  },
  {
   "cell_type": "code",
   "execution_count": 376,
   "metadata": {},
   "outputs": [
    {
     "data": {
      "text/html": [
       "<div>\n",
       "<style scoped>\n",
       "    .dataframe tbody tr th:only-of-type {\n",
       "        vertical-align: middle;\n",
       "    }\n",
       "\n",
       "    .dataframe tbody tr th {\n",
       "        vertical-align: top;\n",
       "    }\n",
       "\n",
       "    .dataframe thead th {\n",
       "        text-align: right;\n",
       "    }\n",
       "</style>\n",
       "<table border=\"1\" class=\"dataframe\">\n",
       "  <thead>\n",
       "    <tr style=\"text-align: right;\">\n",
       "      <th></th>\n",
       "      <th>t1</th>\n",
       "      <th>t2</th>\n",
       "      <th>t3</th>\n",
       "      <th>t1_cont</th>\n",
       "      <th>t1_attn</th>\n",
       "      <th>t2_cont</th>\n",
       "      <th>t2_attn</th>\n",
       "      <th>t3_cont</th>\n",
       "      <th>t3_attn</th>\n",
       "    </tr>\n",
       "  </thead>\n",
       "  <tbody>\n",
       "    <tr>\n",
       "      <th>3764</th>\n",
       "      <td>2</td>\n",
       "      <td>2</td>\n",
       "      <td>1</td>\n",
       "      <td>0.383158</td>\n",
       "      <td>0.659369</td>\n",
       "      <td>0.383158</td>\n",
       "      <td>0.659369</td>\n",
       "      <td>0.616842</td>\n",
       "      <td>0.340631</td>\n",
       "    </tr>\n",
       "    <tr>\n",
       "      <th>27181</th>\n",
       "      <td>1</td>\n",
       "      <td>1</td>\n",
       "      <td>0</td>\n",
       "      <td>0.527001</td>\n",
       "      <td>0.622294</td>\n",
       "      <td>0.527001</td>\n",
       "      <td>0.622294</td>\n",
       "      <td>0.472999</td>\n",
       "      <td>0.377706</td>\n",
       "    </tr>\n",
       "    <tr>\n",
       "      <th>14482</th>\n",
       "      <td>2</td>\n",
       "      <td>1</td>\n",
       "      <td>0</td>\n",
       "      <td>0.115770</td>\n",
       "      <td>0.277960</td>\n",
       "      <td>0.341241</td>\n",
       "      <td>0.344504</td>\n",
       "      <td>0.542990</td>\n",
       "      <td>0.377536</td>\n",
       "    </tr>\n",
       "    <tr>\n",
       "      <th>8378</th>\n",
       "      <td>2</td>\n",
       "      <td>2</td>\n",
       "      <td>1</td>\n",
       "      <td>0.433457</td>\n",
       "      <td>0.624660</td>\n",
       "      <td>0.433457</td>\n",
       "      <td>0.624660</td>\n",
       "      <td>0.566543</td>\n",
       "      <td>0.375340</td>\n",
       "    </tr>\n",
       "    <tr>\n",
       "      <th>4225</th>\n",
       "      <td>1</td>\n",
       "      <td>1</td>\n",
       "      <td>2</td>\n",
       "      <td>0.463775</td>\n",
       "      <td>0.594534</td>\n",
       "      <td>0.463775</td>\n",
       "      <td>0.594534</td>\n",
       "      <td>0.536225</td>\n",
       "      <td>0.405466</td>\n",
       "    </tr>\n",
       "    <tr>\n",
       "      <th>3066</th>\n",
       "      <td>0</td>\n",
       "      <td>2</td>\n",
       "      <td>2</td>\n",
       "      <td>0.121112</td>\n",
       "      <td>0.356151</td>\n",
       "      <td>0.878888</td>\n",
       "      <td>0.643849</td>\n",
       "      <td>0.878888</td>\n",
       "      <td>0.643849</td>\n",
       "    </tr>\n",
       "    <tr>\n",
       "      <th>14398</th>\n",
       "      <td>2</td>\n",
       "      <td>1</td>\n",
       "      <td>1</td>\n",
       "      <td>0.071045</td>\n",
       "      <td>0.269898</td>\n",
       "      <td>0.928955</td>\n",
       "      <td>0.730102</td>\n",
       "      <td>0.928955</td>\n",
       "      <td>0.730102</td>\n",
       "    </tr>\n",
       "    <tr>\n",
       "      <th>17874</th>\n",
       "      <td>0</td>\n",
       "      <td>1</td>\n",
       "      <td>0</td>\n",
       "      <td>0.613035</td>\n",
       "      <td>0.620146</td>\n",
       "      <td>0.386965</td>\n",
       "      <td>0.379854</td>\n",
       "      <td>0.613035</td>\n",
       "      <td>0.620146</td>\n",
       "    </tr>\n",
       "    <tr>\n",
       "      <th>25132</th>\n",
       "      <td>0</td>\n",
       "      <td>2</td>\n",
       "      <td>2</td>\n",
       "      <td>0.167880</td>\n",
       "      <td>0.228945</td>\n",
       "      <td>0.832120</td>\n",
       "      <td>0.771055</td>\n",
       "      <td>0.832120</td>\n",
       "      <td>0.771055</td>\n",
       "    </tr>\n",
       "    <tr>\n",
       "      <th>17848</th>\n",
       "      <td>0</td>\n",
       "      <td>1</td>\n",
       "      <td>0</td>\n",
       "      <td>0.802908</td>\n",
       "      <td>0.765155</td>\n",
       "      <td>0.197092</td>\n",
       "      <td>0.234845</td>\n",
       "      <td>0.802908</td>\n",
       "      <td>0.765155</td>\n",
       "    </tr>\n",
       "  </tbody>\n",
       "</table>\n",
       "</div>"
      ],
      "text/plain": [
       "       t1  t2  t3   t1_cont   t1_attn   t2_cont   t2_attn   t3_cont   t3_attn\n",
       "3764   2   2   1   0.383158  0.659369  0.383158  0.659369  0.616842  0.340631\n",
       "27181  1   1   0   0.527001  0.622294  0.527001  0.622294  0.472999  0.377706\n",
       "14482  2   1   0   0.115770  0.277960  0.341241  0.344504  0.542990  0.377536\n",
       "8378   2   2   1   0.433457  0.624660  0.433457  0.624660  0.566543  0.375340\n",
       "4225   1   1   2   0.463775  0.594534  0.463775  0.594534  0.536225  0.405466\n",
       "3066   0   2   2   0.121112  0.356151  0.878888  0.643849  0.878888  0.643849\n",
       "14398  2   1   1   0.071045  0.269898  0.928955  0.730102  0.928955  0.730102\n",
       "17874  0   1   0   0.613035  0.620146  0.386965  0.379854  0.613035  0.620146\n",
       "25132  0   2   2   0.167880  0.228945  0.832120  0.771055  0.832120  0.771055\n",
       "17848  0   1   0   0.802908  0.765155  0.197092  0.234845  0.802908  0.765155"
      ]
     },
     "execution_count": 376,
     "metadata": {},
     "output_type": "execute_result"
    }
   ],
   "source": [
    "preds_df3[(preds_df3['actual']==1) & ((preds_df3['t2']!=preds_df3['t3']) | (preds_df3['t1']!=preds_df3['t2']))][['t1', 't2', 't3','t1_cont', 't1_attn', 't2_cont', 't2_attn', 't3_cont','t3_attn']].sample(10)\n"
   ]
  },
  {
   "cell_type": "markdown",
   "metadata": {},
   "source": [
    "### Distribution of actual T1 attribution"
   ]
  },
  {
   "cell_type": "code",
   "execution_count": 377,
   "metadata": {},
   "outputs": [
    {
     "data": {
      "image/png": "[encoded data removed]",
      "text/plain": [
       "<Figure size 432x288 with 1 Axes>"
      ]
     },
     "metadata": {
      "needs_background": "light"
     },
     "output_type": "display_data"
    }
   ],
   "source": [
    "_=plt.hist(preds_df3[(preds_df3['actual']==1) & ((preds_df3['t2']!=preds_df3['t3']) | (preds_df3['t1']!=preds_df3['t2']))]['t1_cont'], bins=30)\n"
   ]
  },
  {
   "cell_type": "markdown",
   "metadata": {},
   "source": [
    "### Plot Estimated Attribution vs. Actual Attribution"
   ]
  },
  {
   "cell_type": "code",
   "execution_count": 378,
   "metadata": {},
   "outputs": [],
   "source": [
    "preds_df3 = preds_df3[(preds_df3['t1']!=preds_df3['t2']) | (preds_df3['t1']!=preds_df3['t3'])] \n",
    "preds_df3 = preds_df3[(preds_df3['actual']==1)]"
   ]
  },
  {
   "cell_type": "code",
   "execution_count": 379,
   "metadata": {},
   "outputs": [
    {
     "data": {
      "image/png": "[encoded data removed]",
      "text/plain": [
       "<Figure size 432x288 with 1 Axes>"
      ]
     },
     "metadata": {
      "needs_background": "light"
     },
     "output_type": "display_data"
    }
   ],
   "source": [
    "_=plt.bar(['t1_cont', 't2_cont', 't3_cont'],preds_df3[['t1_cont', 't2_cont', 't3_cont']].mean())\n"
   ]
  },
  {
   "cell_type": "code",
   "execution_count": 380,
   "metadata": {},
   "outputs": [
    {
     "data": {
      "image/png": "[encoded data removed]",
      "text/plain": [
       "<Figure size 432x288 with 1 Axes>"
      ]
     },
     "metadata": {
      "needs_background": "light"
     },
     "output_type": "display_data"
    }
   ],
   "source": [
    "_=plt.bar(['t1_attn', 't2_attn', 't3_attn'],preds_df3[['t1_attn', 't2_attn', 't3_attn']].mean())\n"
   ]
  },
  {
   "cell_type": "code",
   "execution_count": 381,
   "metadata": {},
   "outputs": [
    {
     "data": {
      "text/plain": [
       "[<matplotlib.lines.Line2D at 0x1a89f8ca10>]"
      ]
     },
     "execution_count": 381,
     "metadata": {},
     "output_type": "execute_result"
    },
    {
     "data": {
      "image/png": "[encoded data removed]",
      "text/plain": [
       "<Figure size 432x288 with 1 Axes>"
      ]
     },
     "metadata": {
      "needs_background": "light"
     },
     "output_type": "display_data"
    }
   ],
   "source": [
    "plt.scatter(preds_df3[(preds_df3['actual']==1) & (preds_df3['t1']!=preds_df3['t2'])]['t1_attn'], preds_df3[(preds_df3['actual']==1) & (preds_df3['t1']!=preds_df3['t2'])]['t1_cont'])\n",
    "xpoints = ypoints = plt.xlim()\n",
    "plt.plot(xpoints, ypoints, linestyle='--', color='k', lw=3, scalex=False, scaley=False)"
   ]
  },
  {
   "cell_type": "code",
   "execution_count": 382,
   "metadata": {},
   "outputs": [
    {
     "data": {
      "text/plain": [
       "[<matplotlib.lines.Line2D at 0x1a8f6a0450>]"
      ]
     },
     "execution_count": 382,
     "metadata": {},
     "output_type": "execute_result"
    },
    {
     "data": {
      "image/png": "[encoded data removed]",
      "text/plain": [
       "<Figure size 432x288 with 1 Axes>"
      ]
     },
     "metadata": {
      "needs_background": "light"
     },
     "output_type": "display_data"
    }
   ],
   "source": [
    "plt.scatter(preds_df3[(preds_df3['actual']==1) & (preds_df3['t1']!=preds_df3['t2'])]['t2_attn'], preds_df3[(preds_df3['actual']==1) & (preds_df3['t1']!=preds_df3['t2'])]['t2_cont'])\n",
    "xpoints = ypoints = plt.xlim()\n",
    "plt.plot(xpoints, ypoints, linestyle='--', color='k', lw=3, scalex=False, scaley=False)"
   ]
  },
  {
   "cell_type": "code",
   "execution_count": 354,
   "metadata": {},
   "outputs": [
    {
     "data": {
      "text/plain": [
       "[<matplotlib.lines.Line2D at 0x1a8a276750>]"
      ]
     },
     "execution_count": 354,
     "metadata": {},
     "output_type": "execute_result"
    },
    {
     "data": {
      "image/png": "[encoded data removed]",
      "text/plain": [
       "<Figure size 432x288 with 1 Axes>"
      ]
     },
     "metadata": {
      "needs_background": "light"
     },
     "output_type": "display_data"
    }
   ],
   "source": [
    "plt.scatter(preds_df3[(preds_df3['actual']==1) & (preds_df3['t1']!=preds_df3['t2'])]['t3_attn'], preds_df3[(preds_df3['actual']==1) & (preds_df3['t1']!=preds_df3['t2'])]['t3_cont'])\n",
    "xpoints = ypoints = plt.xlim()\n",
    "plt.plot(xpoints, ypoints, linestyle='--', color='k', lw=3, scalex=False, scaley=False)"
   ]
  },
  {
   "cell_type": "code",
   "execution_count": 383,
   "metadata": {},
   "outputs": [
    {
     "data": {
      "text/plain": [
       "[<matplotlib.lines.Line2D at 0x1a8e1cc110>]"
      ]
     },
     "execution_count": 383,
     "metadata": {},
     "output_type": "execute_result"
    },
    {
     "data": {
      "image/png": "[encoded data removed]",
      "text/plain": [
       "<Figure size 432x288 with 1 Axes>"
      ]
     },
     "metadata": {
      "needs_background": "light"
     },
     "output_type": "display_data"
    }
   ],
   "source": [
    "plt.scatter(preds_df3[(preds_df3['actual']==1) & (preds_df3['t1']!=preds_df3['t2'])]['t3_attn'], preds_df3[(preds_df3['actual']==1) & (preds_df3['t1']!=preds_df3['t2'])]['t3_cont'])\n",
    "xpoints = ypoints = plt.xlim()\n",
    "plt.plot(xpoints, ypoints, linestyle='--', color='k', lw=3, scalex=False, scaley=False)"
   ]
  },
  {
   "cell_type": "markdown",
   "metadata": {},
   "source": [
    "### Calculate residuals for the DLAW model and 3 naive models: 50/50 split, last touched, and first touched"
   ]
  },
  {
   "cell_type": "code",
   "execution_count": 384,
   "metadata": {},
   "outputs": [],
   "source": [
    "#preds_df3['cont_error'] = ( abs(preds_df3['t1_cont']-preds_df3['t1_attn'])+abs(preds_df3['t2_cont']-preds_df3['t2_attn']) ) / (num_time_steps-1)\n",
    "preds_df3['cont_error'] = ( abs(preds_df3['t1_cont']-preds_df3['t1_attn'])+abs(preds_df3['t2_cont']-preds_df3['t2_attn'])+abs(preds_df3['t3_cont']-preds_df3['t3_attn']) ) / num_time_steps\n",
    "preds_df3['5050_cont_error'] = (abs(preds_df3['t1_cont']-(1/num_time_steps)) + abs(preds_df3['t2_cont']-(1/num_time_steps)) +abs(preds_df3['t3_cont']-(1/num_time_steps)) ) / num_time_steps\n",
    "preds_df3['last_touch_cont_error'] = 1-preds_df3['t3_cont']\n",
    "preds_df3['first_touch_cont_error'] = 1-preds_df3['t1_cont']\n",
    "#preds_df3 = preds_df3[preds_df3['t1']!=preds_df3['t2']]"
   ]
  },
  {
   "cell_type": "code",
   "execution_count": 385,
   "metadata": {
    "scrolled": true
   },
   "outputs": [
    {
     "data": {
      "image/png": "[encoded data removed]",
      "text/plain": [
       "<Figure size 432x288 with 1 Axes>"
      ]
     },
     "metadata": {
      "needs_background": "light"
     },
     "output_type": "display_data"
    }
   ],
   "source": [
    "_=plt.hist(preds_df3['cont_error'], bins=30)"
   ]
  },
  {
   "cell_type": "code",
   "execution_count": 386,
   "metadata": {},
   "outputs": [
    {
     "data": {
      "text/plain": [
       "(array([321., 332., 157.]),\n",
       " array([0.        , 0.66666667, 1.33333333, 2.        ]),\n",
       " <a list of 3 Patch objects>)"
      ]
     },
     "execution_count": 386,
     "metadata": {},
     "output_type": "execute_result"
    },
    {
     "data": {
      "image/png": "[encoded data removed]",
      "text/plain": [
       "<Figure size 432x288 with 1 Axes>"
      ]
     },
     "metadata": {
      "needs_background": "light"
     },
     "output_type": "display_data"
    }
   ],
   "source": [
    "lg_err = preds_df3[np.sqrt(preds_df3['cont_error']**2)>.15]\n",
    "sm_err = preds_df3[np.sqrt(preds_df3['cont_error']**2)<=.1]\n",
    "\n",
    "plt.hist(lg_err['t3'], bins=3)"
   ]
  },
  {
   "cell_type": "code",
   "execution_count": 387,
   "metadata": {},
   "outputs": [
    {
     "data": {
      "image/png": "[encoded data removed]",
      "text/plain": [
       "<Figure size 432x288 with 1 Axes>"
      ]
     },
     "metadata": {
      "needs_background": "light"
     },
     "output_type": "display_data"
    }
   ],
   "source": [
    "_=plt.hist(lg_err['gap1'], bins=50)"
   ]
  },
  {
   "cell_type": "code",
   "execution_count": 388,
   "metadata": {},
   "outputs": [
    {
     "data": {
      "image/png": "[encoded data removed]",
      "text/plain": [
       "<Figure size 432x288 with 1 Axes>"
      ]
     },
     "metadata": {
      "needs_background": "light"
     },
     "output_type": "display_data"
    }
   ],
   "source": [
    "_=plt.hist(sm_err['gap1'], bins=50)"
   ]
  },
  {
   "cell_type": "markdown",
   "metadata": {},
   "source": [
    "### Calculate MAE only for observations with:\n",
    " - actual conversion==1: we only care about attributing people who converted\n",
    " - t1 channel does not equal t2 channel: there is no uncertainty of attribution in cases where t1 channel==t2 channel\n",
    " - predicted probability >0.03: These are likely noisier since the model found no signal for conversion. This was chosen arbitrarily ahead of time and does not change for each run"
   ]
  },
  {
   "cell_type": "code",
   "execution_count": 389,
   "metadata": {},
   "outputs": [
    {
     "data": {
      "image/png": "[encoded data removed]",
      "text/plain": [
       "<Figure size 432x288 with 1 Axes>"
      ]
     },
     "metadata": {
      "needs_background": "light"
     },
     "output_type": "display_data"
    }
   ],
   "source": [
    "_=plt.hist(preds_df3['pred_prob'], bins=30)"
   ]
  },
  {
   "cell_type": "code",
   "execution_count": 390,
   "metadata": {},
   "outputs": [
    {
     "name": "stdout",
     "output_type": "stream",
     "text": [
      "pct obs over min_p: 1.0\n"
     ]
    }
   ],
   "source": [
    "min_p = .03\n",
    "print('pct obs over min_p:', round(len(preds_df3[preds_df3['pred_prob']>min_p])/len(preds_df3), 3 ) )"
   ]
  },
  {
   "cell_type": "markdown",
   "metadata": {},
   "source": [
    "### Predicted prob and the DLAW error is strongly negatively correlated indicating more certainty with higher predictions of conversion."
   ]
  },
  {
   "cell_type": "code",
   "execution_count": 391,
   "metadata": {},
   "outputs": [
    {
     "name": "stdout",
     "output_type": "stream",
     "text": [
      "Corr between predicted prob and magnitude of DLAW error: -0.4521\n",
      "Corr between predicted magnitude of t1_attn and magnitude of DLAW error: -0.125\n"
     ]
    }
   ],
   "source": [
    "print('Corr between predicted prob and magnitude of DLAW error:', round(np.corrcoef(preds_df3['pred_prob'], preds_df3['cont_error'])[0][1], 4))\n",
    "print('Corr between predicted magnitude of t1_attn and magnitude of DLAW error:', round(np.corrcoef(preds_df3['t1_attn'], preds_df3['cont_error'])[0][1], 4))\n"
   ]
  },
  {
   "cell_type": "code",
   "execution_count": 392,
   "metadata": {
    "scrolled": true
   },
   "outputs": [
    {
     "name": "stdout",
     "output_type": "stream",
     "text": [
      "DLAW Stats:\n",
      " Mean AE: 0.11 , SD AE: 0.083 , Median AE 0.097 95% CI Error: 0.246\n",
      "\n",
      "50/50 Split Stats:\n",
      " Mean AE: 0.248 , Median AE 0.204 95% CI Error: 0.438\n",
      "\n",
      "Last Touched Stats:\n",
      " Mean AE: 0.345 , Median AE 0.364 95% CI Error: 0.601\n",
      "\n",
      "First Touched Stats:\n",
      " Mean AE: 0.648 , Median AE 0.762 95% CI Error: 1.034\n"
     ]
    }
   ],
   "source": [
    "dlaw_mae = preds_df3[(preds_df3['actual']==1)  & (preds_df3['pred_prob']>min_p)]['cont_error'].apply(lambda x: abs(x)).mean()\n",
    "dlaw_medae = preds_df3[(preds_df3['actual']==1) & (preds_df3['pred_prob']>min_p)]['cont_error'].apply(lambda x: abs(x)).median()\n",
    "dlaw_err_sd = preds_df3[(preds_df3['actual']==1)  & (preds_df3['pred_prob']>min_p)]['cont_error'].apply(lambda x: abs(x)).std()\n",
    "dlaw_95CI = dlaw_mae+(1.64*dlaw_err_sd)\n",
    "\n",
    "even_split_mae = preds_df3[(preds_df3['actual']==1)  & (preds_df3['pred_prob']>min_p)]['5050_cont_error'].apply(lambda x: abs(x)).mean()\n",
    "even_split_medae = preds_df3[(preds_df3['actual']==1)  & (preds_df3['pred_prob']>min_p)]['5050_cont_error'].apply(lambda x: abs(x)).median()\n",
    "even_split_err_sd = preds_df3[(preds_df3['actual']==1) & (preds_df3['pred_prob']>min_p)]['5050_cont_error'].apply(lambda x: abs(x)).std()\n",
    "even_split_95CI = even_split_mae+(1.64*even_split_err_sd)\n",
    "\n",
    "\n",
    "lt_mae = preds_df3[(preds_df3['actual']==1)  & (preds_df3['pred_prob']>min_p)]['last_touch_cont_error'].apply(lambda x: abs(x)).mean()\n",
    "lt_medae = preds_df3[(preds_df3['actual']==1) & (preds_df3['pred_prob']>min_p)]['last_touch_cont_error'].apply(lambda x: abs(x)).median()\n",
    "lt_err_sd = preds_df3[(preds_df3['actual']==1) & (preds_df3['pred_prob']>min_p)]['last_touch_cont_error'].apply(lambda x: abs(x)).std()\n",
    "lt_95CI = lt_mae+(1.64*lt_err_sd)\n",
    "\n",
    "\n",
    "ft_mae = preds_df3[(preds_df3['actual']==1)  & (preds_df3['pred_prob']>min_p)]['first_touch_cont_error'].apply(lambda x: abs(x)).mean()\n",
    "ft_medae = preds_df3[(preds_df3['actual']==1) & (preds_df3['pred_prob']>min_p)]['first_touch_cont_error'].apply(lambda x: abs(x)).median()\n",
    "ft_err_sd = preds_df3[(preds_df3['actual']==1) & (preds_df3['pred_prob']>min_p)]['first_touch_cont_error'].apply(lambda x: abs(x)).std()\n",
    "ft_95CI = ft_mae+(1.64*ft_err_sd)\n",
    "\n",
    "\n",
    "\n",
    "\n",
    "print('DLAW Stats:\\n', 'Mean AE:', round(dlaw_mae, 3),', SD AE:',round(dlaw_err_sd, 3), ', Median AE', round(dlaw_medae, 3), '95% CI Error:', round(dlaw_95CI, 3))\n",
    "print('\\n50/50 Split Stats:\\n', 'Mean AE:', round(even_split_mae, 3), ', Median AE', round(even_split_medae, 3), '95% CI Error:', round(even_split_95CI, 3))\n",
    "print('\\nLast Touched Stats:\\n', 'Mean AE:', round(lt_mae, 3), ', Median AE', round(lt_medae, 3), '95% CI Error:', round(lt_95CI, 3))\n",
    "print('\\nFirst Touched Stats:\\n', 'Mean AE:', round(ft_mae, 3), ', Median AE', round(ft_medae, 3), '95% CI Error:', round(ft_95CI, 3))\n",
    "\n",
    "\n"
   ]
  },
  {
   "cell_type": "code",
   "execution_count": 155,
   "metadata": {},
   "outputs": [
    {
     "data": {
      "text/plain": [
       "Index(['index', 't1', 't2', 't3', 'gender', 'gap1', 'log_gap1', 'gender_t2',\n",
       "       'gap2', 'log_gap2', 'gender_t3', 'gap3', 'log_gap3', 'epsilon',\n",
       "       'pred_prob', 'actual', 'pred', 't1_attn_unscaled', 't2_attn_unscaled',\n",
       "       't3_attn_unscaled', 'cont_fb', 'cont_gg', 'cont_sp', 't1_attn',\n",
       "       't2_attn', 't3_attn', 't1_cont', 't2_cont', 't3_cont', 't23attn',\n",
       "       'cont_error', '5050_cont_error', 'last_touch_cont_error',\n",
       "       'first_touch_cont_error'],\n",
       "      dtype='object')"
      ]
     },
     "execution_count": 155,
     "metadata": {},
     "output_type": "execute_result"
    }
   ],
   "source": [
    "preds_df3.columns"
   ]
  },
  {
   "cell_type": "code",
   "execution_count": null,
   "metadata": {},
   "outputs": [],
   "source": []
  },
  {
   "cell_type": "code",
   "execution_count": null,
   "metadata": {},
   "outputs": [],
   "source": []
  },
  {
   "cell_type": "markdown",
   "metadata": {},
   "source": [
    "#### DLAW Distribution of Residuals"
   ]
  },
  {
   "cell_type": "code",
   "execution_count": 156,
   "metadata": {},
   "outputs": [
    {
     "data": {
      "image/png": "[encoded data removed]",
      "text/plain": [
       "<Figure size 432x288 with 1 Axes>"
      ]
     },
     "metadata": {
      "needs_background": "light"
     },
     "output_type": "display_data"
    }
   ],
   "source": [
    "_=plt.hist(preds_df3[(preds_df3['actual']==1) & (preds_df3['pred_prob']>min_p)]['cont_error'], bins=50)\n"
   ]
  },
  {
   "cell_type": "code",
   "execution_count": 157,
   "metadata": {},
   "outputs": [
    {
     "data": {
      "image/png": "[encoded data removed]",
      "text/plain": [
       "<Figure size 432x288 with 1 Axes>"
      ]
     },
     "metadata": {
      "needs_background": "light"
     },
     "output_type": "display_data"
    }
   ],
   "source": [
    "_=plt.hist(preds_df3[(preds_df3['actual']==1) & (preds_df3['t1']!=preds_df3['t2']) & (preds_df3['pred_prob']>min_p)]['cont_error'], bins=50)\n"
   ]
  },
  {
   "cell_type": "markdown",
   "metadata": {},
   "source": [
    "#### 50/50 Split Distribution of Residuals"
   ]
  },
  {
   "cell_type": "code",
   "execution_count": 158,
   "metadata": {},
   "outputs": [
    {
     "data": {
      "image/png": "[encoded data removed]",
      "text/plain": [
       "<Figure size 432x288 with 1 Axes>"
      ]
     },
     "metadata": {
      "needs_background": "light"
     },
     "output_type": "display_data"
    }
   ],
   "source": [
    "_=plt.hist(preds_df3[(preds_df3['actual']==1) & (preds_df3['t1']!=preds_df3['t2']) & (preds_df3['pred_prob']>min_p)]['5050_cont_error'], bins=50)\n"
   ]
  },
  {
   "cell_type": "markdown",
   "metadata": {},
   "source": [
    "#### Last Touched Distribution of Residuals"
   ]
  },
  {
   "cell_type": "code",
   "execution_count": 159,
   "metadata": {},
   "outputs": [
    {
     "data": {
      "image/png": "[encoded data removed]",
      "text/plain": [
       "<Figure size 432x288 with 1 Axes>"
      ]
     },
     "metadata": {
      "needs_background": "light"
     },
     "output_type": "display_data"
    }
   ],
   "source": [
    "_=plt.hist(preds_df3[(preds_df3['actual']==1) & (preds_df3['t1']!=preds_df3['t2']) & (preds_df3['pred_prob']>min_p)]['last_touch_cont_error'], bins=50)\n"
   ]
  },
  {
   "cell_type": "markdown",
   "metadata": {},
   "source": [
    "#### First Touched Distribution of Residuals"
   ]
  },
  {
   "cell_type": "code",
   "execution_count": 160,
   "metadata": {
    "scrolled": true
   },
   "outputs": [
    {
     "data": {
      "image/png": "[encoded data removed]",
      "text/plain": [
       "<Figure size 432x288 with 1 Axes>"
      ]
     },
     "metadata": {
      "needs_background": "light"
     },
     "output_type": "display_data"
    }
   ],
   "source": [
    "_=plt.hist(preds_df3[(preds_df3['actual']==1) & (preds_df3['t1']!=preds_df3['t2']) & (preds_df3['pred_prob']>min_p)]['first_touch_cont_error'], bins=50)\n"
   ]
  },
  {
   "cell_type": "markdown",
   "metadata": {},
   "source": [
    " "
   ]
  },
  {
   "cell_type": "markdown",
   "metadata": {},
   "source": [
    " "
   ]
  },
  {
   "cell_type": "markdown",
   "metadata": {},
   "source": [
    "## Impact of Noise on the Model"
   ]
  },
  {
   "cell_type": "markdown",
   "metadata": {},
   "source": [
    "### Distribution of error in False Positives is left skewed as expected. \n",
    "##### The model made the right inference of \"Likely Conversion\" based solely on the inputs available to it onaverage,but was screwed from the get go due to the large, negative error that ended up with the majority of impact in determining the actual conversion status"
   ]
  },
  {
   "cell_type": "code",
   "execution_count": 161,
   "metadata": {},
   "outputs": [
    {
     "data": {
      "image/png": "[encoded data removed]",
      "text/plain": [
       "<Figure size 432x288 with 1 Axes>"
      ]
     },
     "metadata": {
      "needs_background": "light"
     },
     "output_type": "display_data"
    }
   ],
   "source": [
    "_=plt.hist(preds_df2[(preds_df2['actual']==0) & (preds_df2['pred']==True)]['epsilon'], bins=30)"
   ]
  },
  {
   "cell_type": "markdown",
   "metadata": {},
   "source": [
    "### Distribution of error in True Positives is more symmetrical and centered closer to zero\n"
   ]
  },
  {
   "cell_type": "code",
   "execution_count": 162,
   "metadata": {},
   "outputs": [
    {
     "data": {
      "image/png": "[encoded data removed]",
      "text/plain": [
       "<Figure size 432x288 with 1 Axes>"
      ]
     },
     "metadata": {
      "needs_background": "light"
     },
     "output_type": "display_data"
    }
   ],
   "source": [
    "_=plt.hist(preds_df2[(preds_df2['actual']==1) & (preds_df2['pred']==True)]['epsilon'], bins=30)"
   ]
  },
  {
   "cell_type": "markdown",
   "metadata": {},
   "source": [
    "### Distribution of error in False Negatives is right skewed as expected\n"
   ]
  },
  {
   "cell_type": "code",
   "execution_count": 163,
   "metadata": {},
   "outputs": [
    {
     "data": {
      "image/png": "[encoded data removed]",
      "text/plain": [
       "<Figure size 432x288 with 1 Axes>"
      ]
     },
     "metadata": {
      "needs_background": "light"
     },
     "output_type": "display_data"
    }
   ],
   "source": [
    "_=plt.hist(preds_df2[(preds_df2['actual']==1) & (preds_df2['pred']==False)]['epsilon'], bins=30)"
   ]
  },
  {
   "cell_type": "markdown",
   "metadata": {},
   "source": [
    "### Distribution of error in True Negatives is more symmetrical and centered closer to zero\n"
   ]
  },
  {
   "cell_type": "code",
   "execution_count": 164,
   "metadata": {},
   "outputs": [
    {
     "data": {
      "image/png": "[encoded data removed]",
      "text/plain": [
       "<Figure size 432x288 with 1 Axes>"
      ]
     },
     "metadata": {
      "needs_background": "light"
     },
     "output_type": "display_data"
    }
   ],
   "source": [
    "_=plt.hist(preds_df2[(preds_df2['actual']==0) & (preds_df2['pred']==False)]['epsilon'], bins=30)"
   ]
  },
  {
   "cell_type": "markdown",
   "metadata": {},
   "source": [
    "### In the cases of False Positive and False Negative: the model made the right inference of \"Likely Conversion\" or \"Unlikely Conversion\", respectively, based solely on the inputs available to it on average.\n",
    "### However it was screwed from the get go due to the large, negative or positive error, respectively, that ended up with the majority of impact in determining the actual conversion status"
   ]
  },
  {
   "cell_type": "markdown",
   "metadata": {},
   "source": [
    " "
   ]
  },
  {
   "cell_type": "markdown",
   "metadata": {},
   "source": [
    " "
   ]
  },
  {
   "cell_type": "markdown",
   "metadata": {},
   "source": [
    "# Accuracy of Y Prediction\n",
    "### *This is secondary to the main purpose of the model which is to learn attribution percentages, and is mostly unimportant given the simplicity of the DGP in the simulation. However, a model with better performance is more likely to specify the parameters correctly so improving the prediction accuracy can be expected to improve attribution accuracy as well."
   ]
  },
  {
   "cell_type": "code",
   "execution_count": 165,
   "metadata": {},
   "outputs": [],
   "source": [
    "from sklearn.metrics import precision_score, recall_score"
   ]
  },
  {
   "cell_type": "code",
   "execution_count": 166,
   "metadata": {},
   "outputs": [
    {
     "name": "stdout",
     "output_type": "stream",
     "text": [
      "Test Accuracy: 0.8572\n",
      "Test Precision: 0.2764764104256021\n",
      "Test Recall: 0.2861044725162171\n"
     ]
    },
    {
     "data": {
      "text/html": [
       "<div>\n",
       "<style scoped>\n",
       "    .dataframe tbody tr th:only-of-type {\n",
       "        vertical-align: middle;\n",
       "    }\n",
       "\n",
       "    .dataframe tbody tr th {\n",
       "        vertical-align: top;\n",
       "    }\n",
       "\n",
       "    .dataframe thead th {\n",
       "        text-align: right;\n",
       "    }\n",
       "</style>\n",
       "<table border=\"1\" class=\"dataframe\">\n",
       "  <thead>\n",
       "    <tr style=\"text-align: right;\">\n",
       "      <th></th>\n",
       "      <th>pred_False</th>\n",
       "      <th>pred_True</th>\n",
       "    </tr>\n",
       "  </thead>\n",
       "  <tbody>\n",
       "    <tr>\n",
       "      <th>0</th>\n",
       "      <td>24878</td>\n",
       "      <td>2193</td>\n",
       "    </tr>\n",
       "    <tr>\n",
       "      <th>1</th>\n",
       "      <td>2091</td>\n",
       "      <td>838</td>\n",
       "    </tr>\n",
       "  </tbody>\n",
       "</table>\n",
       "</div>"
      ],
      "text/plain": [
       "   pred_False  pred_True\n",
       "0  24878       2193     \n",
       "1  2091        838      "
      ]
     },
     "execution_count": 166,
     "metadata": {},
     "output_type": "execute_result"
    }
   ],
   "source": [
    "conf = confusion_matrix(preds_df2['actual'], preds_df2['pred'])\n",
    "conf = pd.DataFrame(conf)\n",
    "conf.rename(columns={0:'pred_False', 1:'pred_True'}, inplace=True)\n",
    "print('Test Accuracy:', accuracy_score(preds_df2['actual'], preds_df2['pred']))\n",
    "print('Test Precision:', precision_score(preds_df2['actual'], preds_df2['pred']))\n",
    "print('Test Recall:', recall_score(preds_df2['actual'], preds_df2['pred']))\n",
    "conf"
   ]
  },
  {
   "cell_type": "markdown",
   "metadata": {},
   "source": [
    "## Error Distributions Correlations with Features"
   ]
  },
  {
   "cell_type": "code",
   "execution_count": 167,
   "metadata": {},
   "outputs": [
    {
     "data": {
      "image/png": "[encoded data removed]",
      "text/plain": [
       "<Figure size 432x288 with 1 Axes>"
      ]
     },
     "metadata": {
      "needs_background": "light"
     },
     "output_type": "display_data"
    }
   ],
   "source": [
    "_=plt.hist(preds_df2[(preds_df2['actual']==1) & (preds_df2['pred']==False)]['t2'])"
   ]
  },
  {
   "cell_type": "markdown",
   "metadata": {},
   "source": [
    "### False positives appear to be worse for Google (1) in T1 and Facebook (0) in T2"
   ]
  },
  {
   "cell_type": "code",
   "execution_count": 168,
   "metadata": {
    "scrolled": true
   },
   "outputs": [
    {
     "data": {
      "image/png": "[encoded data removed]",
      "text/plain": [
       "<Figure size 432x288 with 1 Axes>"
      ]
     },
     "metadata": {
      "needs_background": "light"
     },
     "output_type": "display_data"
    }
   ],
   "source": [
    "_=plt.hist(preds_df2[(preds_df2['actual']==0) & (preds_df2['pred']==True)]['t1'])"
   ]
  },
  {
   "cell_type": "code",
   "execution_count": 169,
   "metadata": {
    "scrolled": true
   },
   "outputs": [
    {
     "data": {
      "image/png": "[encoded data removed]",
      "text/plain": [
       "<Figure size 432x288 with 1 Axes>"
      ]
     },
     "metadata": {
      "needs_background": "light"
     },
     "output_type": "display_data"
    }
   ],
   "source": [
    "_=plt.hist(preds_df2[(preds_df2['actual']==0) & (preds_df2['pred']==True)]['t2'])"
   ]
  },
  {
   "cell_type": "code",
   "execution_count": null,
   "metadata": {},
   "outputs": [],
   "source": []
  },
  {
   "cell_type": "markdown",
   "metadata": {},
   "source": [
    "### False Negatives appear to be worse for Facebook (0) in T2"
   ]
  },
  {
   "cell_type": "code",
   "execution_count": 170,
   "metadata": {
    "scrolled": true
   },
   "outputs": [
    {
     "data": {
      "image/png": "[encoded data removed]",
      "text/plain": [
       "<Figure size 432x288 with 1 Axes>"
      ]
     },
     "metadata": {
      "needs_background": "light"
     },
     "output_type": "display_data"
    }
   ],
   "source": [
    "_=plt.hist(preds_df2[(preds_df2['actual']==1) & (preds_df2['pred']==False)]['t1'])"
   ]
  },
  {
   "cell_type": "code",
   "execution_count": 171,
   "metadata": {
    "scrolled": true
   },
   "outputs": [
    {
     "data": {
      "image/png": "[encoded data removed]",
      "text/plain": [
       "<Figure size 432x288 with 1 Axes>"
      ]
     },
     "metadata": {
      "needs_background": "light"
     },
     "output_type": "display_data"
    }
   ],
   "source": [
    "_=plt.hist(preds_df2[(preds_df2['actual']==1) & (preds_df2['pred']==False)]['t2'])"
   ]
  },
  {
   "cell_type": "markdown",
   "metadata": {},
   "source": [
    "### Elapsed time (gap1) distribution for False Negative"
   ]
  },
  {
   "cell_type": "code",
   "execution_count": 172,
   "metadata": {},
   "outputs": [
    {
     "data": {
      "image/png": "[encoded data removed]",
      "text/plain": [
       "<Figure size 432x288 with 1 Axes>"
      ]
     },
     "metadata": {
      "needs_background": "light"
     },
     "output_type": "display_data"
    }
   ],
   "source": [
    "_=plt.hist(preds_df2[(preds_df2['actual']==1) & (preds_df2['pred']==False)]['gap1'])"
   ]
  },
  {
   "cell_type": "markdown",
   "metadata": {},
   "source": [
    "### Elapsed time (gap1) distribution for False Positive"
   ]
  },
  {
   "cell_type": "code",
   "execution_count": 173,
   "metadata": {},
   "outputs": [
    {
     "data": {
      "image/png": "[encoded data removed]",
      "text/plain": [
       "<Figure size 432x288 with 1 Axes>"
      ]
     },
     "metadata": {
      "needs_background": "light"
     },
     "output_type": "display_data"
    }
   ],
   "source": [
    "_=plt.hist(preds_df2[(preds_df2['actual']==0) & (preds_df2['pred']==True)]['gap1'])\n"
   ]
  },
  {
   "cell_type": "code",
   "execution_count": null,
   "metadata": {},
   "outputs": [],
   "source": []
  }
 ],
 "metadata": {
  "kernelspec": {
   "display_name": "Python 3",
   "language": "python",
   "name": "python3"
  },
  "language_info": {
   "codemirror_mode": {
    "name": "ipython",
    "version": 3
   },
   "file_extension": ".py",
   "mimetype": "text/x-python",
   "name": "python",
   "nbconvert_exporter": "python",
   "pygments_lexer": "ipython3",
   "version": "3.7.6"
  }
 },
 "nbformat": 4,
 "nbformat_minor": 2
}
